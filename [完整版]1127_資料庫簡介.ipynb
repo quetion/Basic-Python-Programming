{
 "cells": [
  {
   "cell_type": "markdown",
   "metadata": {},
   "source": [
    "## 資料庫介紹\n",
    "- Google Dataset Search [https://toolbox.google.com/datasetsearch]\n",
    "- Kaggle [https://www.kaggle.com/]"
   ]
  },
  {
   "cell_type": "markdown",
   "metadata": {},
   "source": [
    "### 開始使用 Google Dataset Search\n",
    "- 根據你的需求輸入關鍵字(英文)\n",
    "- 實際操作"
   ]
  },
  {
   "cell_type": "markdown",
   "metadata": {},
   "source": [
    "### 開始使用 Kaggle\n",
    "- 先註冊一個帳號\n",
    "- 實際操作"
   ]
  },
  {
   "cell_type": "markdown",
   "metadata": {},
   "source": [
    "### 決定資料分析議題\n",
    "- 經濟議題 (例如: GDP, unemployment)\n",
    "- 財務議題 \n",
    "    - 指數: 美國前五百大企業股價指數(S&P500 index), 恐慌指數(VIX), 黑天鵝指數(black swan index)\n",
    "    - 個股: CAPM, 三因子模型(FF3), 技術分析\n",
    "- 氣候變遷議題 (weather data)\n",
    "- 空汙議題 (air pollution)\n",
    "- 人口老化問題 (population)"
   ]
  },
  {
   "cell_type": "markdown",
   "metadata": {},
   "source": [
    "### 經濟議題\n",
    "- 美國總體經濟資料庫: [FRED](https://fred.stlouisfed.org/)\n",
    "- 誰在影響失業率(`unemployment rate`)?\n",
    "- GDP與失業率的關係?\n",
    "- 利率(`interest rate`)與失業率的關係?"
   ]
  },
  {
   "cell_type": "markdown",
   "metadata": {},
   "source": [
    "### 財務議題 (指數)\n",
    "- 雅虎財經資料庫 [Yahoo.Finance](https://finance.yahoo.com/)\n",
    "- 美國總體經濟資料庫: [FRED](https://fred.stlouisfed.org/)\n",
    "- 報酬率與風險的關係: 風險衡量(^VIX), 美國股市恐慌指數\n",
    "- 報酬率的自我相關性: 歷史績效是否代表著未來績效? (市場動能理論)\n",
    "- 如何衡量風險: 風險指標的探討(波動率, 偏態, 峰態)"
   ]
  },
  {
   "cell_type": "markdown",
   "metadata": {},
   "source": [
    "### 財務議題 (個股)\n",
    "- CAPM: 個股的超額報酬與市場的超額報酬的線性關係\n",
    "$$\n",
    "r_i - r_f = \\beta_i * (r_m - r_f)\n",
    "$$\n",
    "- FF3: 三因子模型\n",
    "$$\n",
    "r_i - r_f = \\beta_{i,1} * (r_m - r_f) + \\beta_{i,2} * (r_S - r_B) + \\beta_{i,3} * (r_H - r_L)\n",
    "$$\n",
    "- 技術分析: 甚麼指標可以用來預測未來報酬率\n",
    "$$\n",
    "r_{t+1} = \\beta_0 + \\beta_1 * (f_{t,1}) + \\beta_2 * (f_{t,2})\n",
    "$$\n",
    "\n"
   ]
  },
  {
   "cell_type": "markdown",
   "metadata": {},
   "source": [
    "### 氣候變遷問題\n",
    "- 關鍵字: `weather`"
   ]
  },
  {
   "cell_type": "markdown",
   "metadata": {},
   "source": [
    "### 空汙問題\n",
    "- 關鍵字: `air polution`"
   ]
  },
  {
   "cell_type": "markdown",
   "metadata": {},
   "source": [
    "### 人口老化問題\n",
    "- 關鍵字: `population`"
   ]
  },
  {
   "cell_type": "markdown",
   "metadata": {},
   "source": [
    "### 決定一個研究題目\n",
    "- 從有興趣的議題下手\n",
    "- 從有能力的方向下手\n",
    "- 先求有，再求好。\n",
    "- 一份好的研究報告，是經歷不斷的修正才能得到。"
   ]
  },
  {
   "cell_type": "code",
   "execution_count": null,
   "metadata": {},
   "outputs": [],
   "source": []
  }
 ],
 "metadata": {
  "kernelspec": {
   "display_name": "Python 3",
   "language": "python",
   "name": "python3"
  },
  "language_info": {
   "codemirror_mode": {
    "name": "ipython",
    "version": 3
   },
   "file_extension": ".py",
   "mimetype": "text/x-python",
   "name": "python",
   "nbconvert_exporter": "python",
   "pygments_lexer": "ipython3",
   "version": "3.6.6"
  }
 },
 "nbformat": 4,
 "nbformat_minor": 2
}
