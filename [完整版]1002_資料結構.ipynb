{
 "cells": [
  {
   "cell_type": "markdown",
   "metadata": {},
   "source": [
    "## 回顧資料型態\n",
    "- 布林值\n",
    "- 整數\n",
    "- 浮點數\n",
    "- 字串\n",
    "\n",
    "以上都是屬於元素(原子)，這些元素形成的集合(分子)，我們可稱之為資料結構。\n",
    "\n",
    "## 資料結構\n",
    "- **串列** `list`\n",
    "- Tuple\n",
    "- **字典** `dict`\n",
    "- 集合 `set` \n",
    "\n",
    "回顧前面課程，我們使用了布林值、整數、浮點數與字串等變數類型。<br>\n",
    "現在我們要開始介紹一個重要的資料型態，串列(`list`)\n"
   ]
  },
  {
   "cell_type": "markdown",
   "metadata": {},
   "source": [
    "## 何謂串列 `list`\n",
    "一串的數字或文字，也可以是空串列\n",
    "- `[]`\n",
    "- `list()`"
   ]
  },
  {
   "cell_type": "code",
   "execution_count": null,
   "metadata": {},
   "outputs": [],
   "source": [
    "L = [1,2,3,4,5,6]\n",
    "print(L)\n",
    "type(L)"
   ]
  },
  {
   "cell_type": "code",
   "execution_count": null,
   "metadata": {},
   "outputs": [],
   "source": [
    "L = ['Python','數理統計','國際金融']\n",
    "print(L)"
   ]
  },
  {
   "cell_type": "code",
   "execution_count": null,
   "metadata": {},
   "outputs": [],
   "source": [
    "L = []\n",
    "print(L)\n",
    "type(L)"
   ]
  },
  {
   "cell_type": "code",
   "execution_count": null,
   "metadata": {},
   "outputs": [],
   "source": [
    "L = list() #生成空的串列\n",
    "type(L)"
   ]
  },
  {
   "cell_type": "markdown",
   "metadata": {},
   "source": [
    "串列中的元素可以重複出現"
   ]
  },
  {
   "cell_type": "code",
   "execution_count": null,
   "metadata": {},
   "outputs": [],
   "source": [
    "L = [1,1,1,4]\n",
    "print(L)"
   ]
  },
  {
   "cell_type": "markdown",
   "metadata": {},
   "source": [
    "### 練習：生成串列\n",
    "1. 隨意生成10組個位數字，儲存至 L1串列並列出。\n",
    "2. 隨意生成10組兩位數字，儲存至 L2串列並列出。\n",
    "3. 隨意生成10組英文字元，儲存至 L3串列並列出。\n",
    "4. 隨意生成10組中文字元，儲存至 L4串列並列出。\n",
    "\n"
   ]
  },
  {
   "cell_type": "code",
   "execution_count": null,
   "metadata": {},
   "outputs": [],
   "source": [
    "# 解答1\n",
    "L1 = list(range(0,10))\n",
    "print('L1 = '+ str(L1))\n",
    "# 解答2\n",
    "L2 = list(range(10,20))\n",
    "print('L2 = '+ str(L2))\n",
    "# 解答3\n",
    "L3 = list('fjdkbovoda')\n",
    "print('L3 = '+ str(L3))\n",
    "# 解答4\n",
    "L4 = list('學習派森真有趣是真的')\n",
    "print('L4 = '+ str(L4))\n"
   ]
  },
  {
   "cell_type": "markdown",
   "metadata": {},
   "source": [
    "### 將字串或數字轉換成串列\n",
    "- 字串轉串列 `list(字串)`\n",
    "- 數字轉串列 `list(數字)`\n",
    "- 日期轉串列 `.split()` "
   ]
  },
  {
   "cell_type": "code",
   "execution_count": null,
   "metadata": {},
   "outputs": [],
   "source": [
    "a = 'Python'\n",
    "L = list(a)\n",
    "print(L)"
   ]
  },
  {
   "cell_type": "code",
   "execution_count": null,
   "metadata": {},
   "outputs": [],
   "source": [
    "a = '2018'\n",
    "L = list(a)\n",
    "print(L)"
   ]
  },
  {
   "cell_type": "code",
   "execution_count": null,
   "metadata": {},
   "outputs": [],
   "source": [
    "a = True\n",
    "L = list(a)\n",
    "print(L)"
   ]
  },
  {
   "cell_type": "markdown",
   "metadata": {},
   "source": [
    "### 將字串分解\n",
    "- `.split('符號')`"
   ]
  },
  {
   "cell_type": "code",
   "execution_count": null,
   "metadata": {},
   "outputs": [],
   "source": [
    "a = '2018-09-10'\n",
    "L = a.split('-')\n",
    "print(L)"
   ]
  },
  {
   "cell_type": "markdown",
   "metadata": {},
   "source": [
    "### 練習：日期轉換\n",
    "1. 現有一筆串列`[2018-01-01,2018-01-02,2018-01-03,2018-01-04,2018-01-05]`，請將此串列中的年、月、日資料分解出來，紀錄年資料為year串列，紀錄月資料為month串列，紀錄日資料為day串列\n",
    "2. 現有一筆串列`[2018/01/01,2018/01/02,2018/01/03,2018/01/04,2018/01/05]`，請將此串列中的年、月、日資料分解出來，紀錄年資料為year串列，紀錄月資料為month串列，紀錄日資料為day串列"
   ]
  },
  {
   "cell_type": "code",
   "execution_count": null,
   "metadata": {},
   "outputs": [],
   "source": [
    "#第一題解答\n",
    "L = ['2018-01-01','2018-01-02','2018-01-03','2018-01-04','2018-01-05']\n",
    "year = []\n",
    "month = []\n",
    "day = []\n",
    "year.append(L[0].split('-')[0])\n",
    "month.append(L[0].split('-')[1])\n",
    "day.append(L[0].split('-')[2])\n",
    "year.append(L[1].split('-')[0])\n",
    "month.append(L[1].split('-')[1])\n",
    "day.append(L[1].split('-')[2])\n",
    "year.append(L[2].split('-')[0])\n",
    "month.append(L[2].split('-')[1])\n",
    "day.append(L[2].split('-')[2])\n",
    "year.append(L[3].split('-')[0])\n",
    "month.append(L[3].split('-')[1])\n",
    "day.append(L[3].split('-')[2])\n",
    "year.append(L[4].split('-')[0])\n",
    "month.append(L[4].split('-')[1])\n",
    "day.append(L[4].split('-')[2])\n",
    "print(year)\n",
    "print(month)\n",
    "print(day)"
   ]
  },
  {
   "cell_type": "code",
   "execution_count": null,
   "metadata": {},
   "outputs": [],
   "source": [
    "#第二題解答\n",
    "L = ['2018/01/01','2018/01/02','2018/01/03','2018/01/04','2018/01/05']\n",
    "year = []\n",
    "month = []\n",
    "day = []\n",
    "year.append(L[0].split('/')[0])\n",
    "month.append(L[0].split('/')[1])\n",
    "day.append(L[0].split('/')[2])\n",
    "year.append(L[1].split('/')[0])\n",
    "month.append(L[1].split('/')[1])\n",
    "day.append(L[1].split('/')[2])\n",
    "year.append(L[2].split('/')[0])\n",
    "month.append(L[2].split('/')[1])\n",
    "day.append(L[2].split('/')[2])\n",
    "year.append(L[3].split('/')[0])\n",
    "month.append(L[3].split('/')[1])\n",
    "day.append(L[3].split('/')[2])\n",
    "year.append(L[4].split('/')[0])\n",
    "month.append(L[4].split('/')[1])\n",
    "day.append(L[4].split('/')[2])\n",
    "print(year)\n",
    "print(month)\n",
    "print(day)"
   ]
  },
  {
   "cell_type": "code",
   "execution_count": null,
   "metadata": {},
   "outputs": [],
   "source": [
    "#第一題解答 \n",
    "L = ['2018-01-01','2018-01-02','2018-01-03','2018-01-04','2018-01-05']\n",
    "year = []\n",
    "month = []\n",
    "day = []\n",
    "for i in range(0,5):\n",
    "    year.append(L[i].split('-')[0])\n",
    "print(year)\n",
    "for i in range(0,5):\n",
    "    month.append(L[i].split('-')[1])\n",
    "print(month)\n",
    "for i in range(0,5):\n",
    "    day.append(L[i].split('-')[2])\n",
    "print(day)\n"
   ]
  },
  {
   "cell_type": "code",
   "execution_count": null,
   "metadata": {},
   "outputs": [],
   "source": [
    "# [迴圈寫法] 第二題解答 \n",
    "L = ['2018/01/01','2018/01/02','2018/01/03','2018/01/04','2018/01/05']\n",
    "year = []\n",
    "month = []\n",
    "day = []\n",
    "for i in range(0,5):\n",
    "    year.append(L[i].split('/')[0])\n",
    "print(year)\n",
    "for i in range(0,5):\n",
    "    month.append(L[i].split('/')[1])\n",
    "print(month)\n",
    "for i in range(0,5):\n",
    "    day.append(L[i].split('/')[2])\n",
    "print(day)\n"
   ]
  },
  {
   "cell_type": "markdown",
   "metadata": {},
   "source": [
    "## 串列的結構\n",
    "- 單層串列：`[]`\n",
    "- 多層串列：`[[]]`, `[[[]]]`"
   ]
  },
  {
   "cell_type": "code",
   "execution_count": null,
   "metadata": {},
   "outputs": [],
   "source": [
    "L = [0, 1, 2, 3, 4, 5, 6, 7, 8, 9] #單層串列"
   ]
  },
  {
   "cell_type": "code",
   "execution_count": null,
   "metadata": {},
   "outputs": [],
   "source": [
    "# 單層串列\n",
    "L1 = list(range(10))\n",
    "L2 = list(range(3,15))\n",
    "# 單層串列再串列 --> 雙層串列\n",
    "L = [L1,L2]\n",
    "print(L)"
   ]
  },
  {
   "cell_type": "markdown",
   "metadata": {},
   "source": [
    "### 生成連續整數\n",
    "- `range(10)`\n",
    "- `range(1,10)`\n",
    "- `range(1,10,2)`"
   ]
  },
  {
   "cell_type": "code",
   "execution_count": null,
   "metadata": {},
   "outputs": [],
   "source": [
    "a = range(10)\n",
    "print(a)"
   ]
  },
  {
   "cell_type": "code",
   "execution_count": null,
   "metadata": {},
   "outputs": [],
   "source": [
    "a = list(range(10))\n",
    "print(a)"
   ]
  },
  {
   "cell_type": "code",
   "execution_count": null,
   "metadata": {},
   "outputs": [],
   "source": [
    "list(range(1,10,2))"
   ]
  },
  {
   "cell_type": "markdown",
   "metadata": {},
   "source": [
    "`range(3,15)`代表從3開始到第15個數字(14)。"
   ]
  },
  {
   "cell_type": "code",
   "execution_count": null,
   "metadata": {},
   "outputs": [],
   "source": [
    "list(range(3, 15))"
   ]
  },
  {
   "cell_type": "markdown",
   "metadata": {},
   "source": [
    "## 練習\n",
    "1. 生成1~100連續正整數串列\n",
    "2. 生成1,3,5,...,99連續正奇數串列\n",
    "3. 生成2,4,6,...,100連續正偶數串列\n",
    "4. 生成100,105,110,...,1000的連續規律整數串列"
   ]
  },
  {
   "cell_type": "code",
   "execution_count": null,
   "metadata": {},
   "outputs": [],
   "source": [
    "#第一題解答\n",
    "L = list(range(1,101))\n",
    "print(L)\n",
    "#第二題解答\n",
    "L = list(range(1,100,2))\n",
    "print(L)\n",
    "#第三題解答\n",
    "L = list(range(2,101,2))\n",
    "print(L)\n",
    "#第四題解答\n",
    "L = list(range(100,1001,5))\n",
    "print(L)"
   ]
  },
  {
   "cell_type": "markdown",
   "metadata": {},
   "source": [
    "### 串列中元素的選取\n",
    "\n",
    "位置的 index 是從 0 開始的。\n",
    "\n",
    "- `L[1]`\n",
    "- `L[0:3]`,`L[1:]`,`L[:5]`,`L[:]`\n",
    "- `L[0:10:2]`\n",
    "- `L[0][0]`\n"
   ]
  },
  {
   "cell_type": "code",
   "execution_count": null,
   "metadata": {},
   "outputs": [],
   "source": [
    "L = [1,2,3,4,5]"
   ]
  },
  {
   "cell_type": "code",
   "execution_count": null,
   "metadata": {},
   "outputs": [],
   "source": [
    "L[1]"
   ]
  },
  {
   "cell_type": "code",
   "execution_count": null,
   "metadata": {},
   "outputs": [],
   "source": [
    "L[0:5:2]"
   ]
  },
  {
   "cell_type": "code",
   "execution_count": null,
   "metadata": {
    "scrolled": true
   },
   "outputs": [],
   "source": [
    "L1 = list(range(10))\n",
    "L2 = list(range(10,20))\n",
    "L = [L1,L2]\n",
    "print(L)"
   ]
  },
  {
   "cell_type": "markdown",
   "metadata": {},
   "source": [
    "- 若要抓出0的數字，應該怎麼取？"
   ]
  },
  {
   "cell_type": "code",
   "execution_count": null,
   "metadata": {
    "scrolled": true
   },
   "outputs": [],
   "source": [
    "L[0][0]"
   ]
  },
  {
   "cell_type": "markdown",
   "metadata": {},
   "source": [
    "### `Tuple`\n",
    "\n",
    "他跟串列相當類似，但因為用到場合不多，在此不專門介紹。<br>\n",
    "`Tuple`的呼叫元素方式與串列相同。`T[1]`"
   ]
  },
  {
   "cell_type": "code",
   "execution_count": null,
   "metadata": {},
   "outputs": [],
   "source": [
    "T = L[0],L[1]\n",
    "type(T)"
   ]
  },
  {
   "cell_type": "code",
   "execution_count": null,
   "metadata": {},
   "outputs": [],
   "source": [
    "T = 1,2,3\n",
    "T1 = 2,1,3\n",
    "print(T)\n",
    "print(T1)"
   ]
  },
  {
   "cell_type": "markdown",
   "metadata": {},
   "source": [
    "### 其實字串也可以挑選\n",
    "- `s[1]`\n",
    "- `s[1:3]`\n",
    "- `s[1:5:2]`\n",
    "- `s[:]`"
   ]
  },
  {
   "cell_type": "code",
   "execution_count": null,
   "metadata": {},
   "outputs": [],
   "source": [
    "s = 'Hello, world!'"
   ]
  },
  {
   "cell_type": "code",
   "execution_count": null,
   "metadata": {},
   "outputs": [],
   "source": [
    "s[1:8]"
   ]
  },
  {
   "cell_type": "code",
   "execution_count": null,
   "metadata": {},
   "outputs": [],
   "source": [
    "name = \"Python\""
   ]
  },
  {
   "cell_type": "code",
   "execution_count": null,
   "metadata": {},
   "outputs": [],
   "source": [
    "name[0]"
   ]
  },
  {
   "cell_type": "code",
   "execution_count": null,
   "metadata": {},
   "outputs": [],
   "source": [
    "name[1:]"
   ]
  },
  {
   "cell_type": "markdown",
   "metadata": {},
   "source": [
    "## 串列的元素操作\n",
    "- 加入新元素：`L.append(新元素)`\n",
    "- 加入新元素：`L.insert(位置,新元素)`\n",
    "- 刪除元素  ：`del 欲刪除元素` `L.remove(新元素)`\n",
    "- 取得元素刪： `L.pop(位置)`\n",
    "- 找元素位置： `index()`\n",
    "- 確認元素  ： `in`"
   ]
  },
  {
   "cell_type": "code",
   "execution_count": null,
   "metadata": {},
   "outputs": [],
   "source": [
    "L = ['Mon','Wed']\n",
    "L.append('TUE')  #在最後面新增一個元素\n",
    "L.append('THU')\n",
    "L.append('FRI')\n",
    "L.append('Fri')\n",
    "print(L)"
   ]
  },
  {
   "cell_type": "code",
   "execution_count": null,
   "metadata": {},
   "outputs": [],
   "source": [
    "L = ['Mon','Wed']\n",
    "L.insert(0,'Sun')\n",
    "L.insert(1,'Sat')\n",
    "L.insert(10,'Xxx')\n",
    "L"
   ]
  },
  {
   "cell_type": "code",
   "execution_count": null,
   "metadata": {},
   "outputs": [],
   "source": [
    "del L[4]\n",
    "L"
   ]
  },
  {
   "cell_type": "code",
   "execution_count": null,
   "metadata": {},
   "outputs": [],
   "source": [
    "L.remove('Sat')\n",
    "L"
   ]
  },
  {
   "cell_type": "code",
   "execution_count": null,
   "metadata": {},
   "outputs": [],
   "source": [
    "L = ['Mon','Wed','Fri','Sat','Sun']\n",
    "print(L)"
   ]
  },
  {
   "cell_type": "code",
   "execution_count": null,
   "metadata": {
    "scrolled": true
   },
   "outputs": [],
   "source": [
    "L1 = [L.pop(1)]\n",
    "print(L)\n",
    "print(L1)"
   ]
  },
  {
   "cell_type": "code",
   "execution_count": null,
   "metadata": {},
   "outputs": [],
   "source": [
    "L"
   ]
  },
  {
   "cell_type": "code",
   "execution_count": null,
   "metadata": {},
   "outputs": [],
   "source": [
    "L.index('Mon',0,9)"
   ]
  },
  {
   "cell_type": "markdown",
   "metadata": {},
   "source": [
    "## 串列的四則運算\n",
    "- 加與乘\n",
    "- 減與除"
   ]
  },
  {
   "cell_type": "code",
   "execution_count": null,
   "metadata": {},
   "outputs": [],
   "source": [
    "# 定義兩組串列\n",
    "L = [3, 87, -5, 9]\n",
    "G = [1, 2, 8, 10]"
   ]
  },
  {
   "cell_type": "markdown",
   "metadata": {},
   "source": [
    "串列的加減"
   ]
  },
  {
   "cell_type": "code",
   "execution_count": null,
   "metadata": {},
   "outputs": [],
   "source": [
    "L + G"
   ]
  },
  {
   "cell_type": "code",
   "execution_count": null,
   "metadata": {
    "scrolled": true
   },
   "outputs": [],
   "source": [
    "L - G"
   ]
  },
  {
   "cell_type": "code",
   "execution_count": null,
   "metadata": {},
   "outputs": [],
   "source": [
    "L*3 + G*2"
   ]
  },
  {
   "cell_type": "code",
   "execution_count": null,
   "metadata": {},
   "outputs": [],
   "source": [
    "L * G"
   ]
  },
  {
   "cell_type": "markdown",
   "metadata": {},
   "source": [
    "**遭遇問題**：串列並不適合做向量運算 <br>\n",
    "**解決方案**：利用`numpy`進行資料結構轉換成`array`"
   ]
  },
  {
   "cell_type": "code",
   "execution_count": null,
   "metadata": {},
   "outputs": [],
   "source": [
    "L = list(range(0,10))\n",
    "print(L)"
   ]
  },
  {
   "cell_type": "code",
   "execution_count": null,
   "metadata": {},
   "outputs": [],
   "source": [
    "import numpy as np\n",
    "L = np.array(L)\n",
    "print(L)\n",
    "type(L)"
   ]
  },
  {
   "cell_type": "code",
   "execution_count": null,
   "metadata": {},
   "outputs": [],
   "source": [
    "print(L*3)\n",
    "print(L*2)"
   ]
  },
  {
   "cell_type": "markdown",
   "metadata": {},
   "source": [
    "### 補充：串列與向量\n",
    "- 表現形式類似\n",
    "- 運算模式不同\n",
    "- 向量我們會使用`numpy`套件中的`array`處理"
   ]
  },
  {
   "cell_type": "markdown",
   "metadata": {},
   "source": [
    "串列的乘法"
   ]
  },
  {
   "cell_type": "code",
   "execution_count": null,
   "metadata": {},
   "outputs": [],
   "source": [
    "L"
   ]
  },
  {
   "cell_type": "code",
   "execution_count": null,
   "metadata": {},
   "outputs": [],
   "source": [
    "3*L"
   ]
  },
  {
   "cell_type": "markdown",
   "metadata": {},
   "source": [
    "### 補充：其實跟字串有點像"
   ]
  },
  {
   "cell_type": "code",
   "execution_count": null,
   "metadata": {},
   "outputs": [],
   "source": [
    "T = 'Hello, World'\n",
    "print(T)"
   ]
  },
  {
   "cell_type": "markdown",
   "metadata": {},
   "source": [
    "字串的加減"
   ]
  },
  {
   "cell_type": "code",
   "execution_count": null,
   "metadata": {},
   "outputs": [],
   "source": [
    "T1 = 'Hello, World'\n",
    "print(T1)"
   ]
  },
  {
   "cell_type": "code",
   "execution_count": null,
   "metadata": {},
   "outputs": [],
   "source": [
    "T + T1"
   ]
  },
  {
   "cell_type": "markdown",
   "metadata": {},
   "source": [
    "- 單引號與雙引號沒差別\n",
    "- 三引號則有特殊用途"
   ]
  },
  {
   "cell_type": "code",
   "execution_count": null,
   "metadata": {},
   "outputs": [],
   "source": [
    "poem1 = '''床前明月光\n",
    "疑是地上霜\n",
    "舉頭望明月\n",
    "低頭思故鄉\n",
    "'''"
   ]
  },
  {
   "cell_type": "code",
   "execution_count": null,
   "metadata": {},
   "outputs": [],
   "source": [
    "print(poem1)"
   ]
  },
  {
   "cell_type": "code",
   "execution_count": null,
   "metadata": {},
   "outputs": [],
   "source": [
    "poem1"
   ]
  },
  {
   "cell_type": "markdown",
   "metadata": {},
   "source": [
    "**結論**：三引號可以儲存換行的紀錄在字串中"
   ]
  },
  {
   "cell_type": "markdown",
   "metadata": {},
   "source": [
    "### 字串的加法與乘法"
   ]
  },
  {
   "cell_type": "code",
   "execution_count": null,
   "metadata": {},
   "outputs": [],
   "source": [
    "3*poem1\n",
    "print(3*poem1)"
   ]
  },
  {
   "cell_type": "code",
   "execution_count": null,
   "metadata": {},
   "outputs": [],
   "source": [
    "print(poem1 + T)"
   ]
  },
  {
   "cell_type": "markdown",
   "metadata": {},
   "source": [
    "### 格式化字串\n",
    "建立一個格式化的字串，可隨意修改名字與所屬單位。"
   ]
  },
  {
   "cell_type": "code",
   "execution_count": null,
   "metadata": {},
   "outputs": [],
   "source": [
    "name = \"顏廣杰\"\n",
    "place = \"東吳經濟\""
   ]
  },
  {
   "cell_type": "code",
   "execution_count": null,
   "metadata": {},
   "outputs": [],
   "source": [
    "message = \"大家好，我是來自\" + place + \"的\" + name + \"!\""
   ]
  },
  {
   "cell_type": "code",
   "execution_count": null,
   "metadata": {},
   "outputs": [],
   "source": [
    "print(message)"
   ]
  },
  {
   "cell_type": "markdown",
   "metadata": {},
   "source": [
    "另一種輸入方式"
   ]
  },
  {
   "cell_type": "code",
   "execution_count": null,
   "metadata": {},
   "outputs": [],
   "source": [
    "message = \"大家好, 來自{}的{}!\".format(place, name)"
   ]
  },
  {
   "cell_type": "code",
   "execution_count": null,
   "metadata": {},
   "outputs": [],
   "source": [
    "print(message)"
   ]
  },
  {
   "cell_type": "markdown",
   "metadata": {},
   "source": [
    "### 不同資料型態\n",
    "字串與數字並列列印，一般會出現問題。"
   ]
  },
  {
   "cell_type": "code",
   "execution_count": null,
   "metadata": {},
   "outputs": [],
   "source": [
    "m = 270\n",
    "print(str(m) + \"合台幣\" + str(m*30.5) + \"元\")"
   ]
  },
  {
   "cell_type": "markdown",
   "metadata": {},
   "source": [
    "用這種方式列印，則不用擔心資料型態問題。可以字串與數字並列顯示。"
   ]
  },
  {
   "cell_type": "code",
   "execution_count": null,
   "metadata": {
    "scrolled": false
   },
   "outputs": [],
   "source": [
    "print(\"{}合台幣{}元\".format(m, m*30.5))"
   ]
  },
  {
   "cell_type": "markdown",
   "metadata": {},
   "source": [
    "### 輸入對話框\n",
    "- `input`"
   ]
  },
  {
   "cell_type": "code",
   "execution_count": null,
   "metadata": {
    "scrolled": true
   },
   "outputs": [],
   "source": [
    "a = input(\">> \")\n",
    "print(\"你剛剛輸入的是{}\".format(a))"
   ]
  },
  {
   "cell_type": "markdown",
   "metadata": {},
   "source": [
    "### 練習\n",
    "1. 輸入長寬高，計算並輸出此立方體體積。\n",
    "2. 詢問你身邊三位友人這學期所修學分，將此三筆資料輸入，計算並輸出平均學分數與三位學分數排名順序\n",
    "3. 假設當前匯率是1美元兌30.5新台幣。輸入現有美元數量，最後呈現現有美元數量與換算新台幣數量。"
   ]
  },
  {
   "cell_type": "code",
   "execution_count": null,
   "metadata": {},
   "outputs": [],
   "source": [
    "# 第一題解答\n",
    "a = input(\"長>> \")\n",
    "b = input(\"寬>> \")\n",
    "c = input(\"高>> \")\n",
    "d = float(a)*float(b)*float(c)\n",
    "print('此立方體的體積為{}'.format(d))"
   ]
  },
  {
   "cell_type": "code",
   "execution_count": null,
   "metadata": {},
   "outputs": [],
   "source": [
    "# 第二題解答\n",
    "a = input(\"友人A這學期的學分數>> \")\n",
    "b = input(\"友人B這學期的學分數>> \")\n",
    "c = input(\"友人C這學期的學分數>> \")\n",
    "d = (float(a) + float(b) + float(c))/3\n",
    "print(\"平均學分數為\",\"%.2f\" % d)\n"
   ]
  },
  {
   "cell_type": "code",
   "execution_count": null,
   "metadata": {
    "scrolled": false
   },
   "outputs": [],
   "source": [
    "# 第三題解答\n",
    "a = input(\"現有美金數量： \")\n",
    "b = float(a) * 30.0\n",
    "print('現有美金數量為','%.2f' % float(a),'\\n換算新台幣共有','%.2f' % b)"
   ]
  },
  {
   "cell_type": "markdown",
   "metadata": {},
   "source": [
    "## 邏輯運算子對字串：`in`\n",
    "我們想要判斷某些關鍵字是否出現在一段字串中，只要使用`in`指令即可快速判斷。"
   ]
  },
  {
   "cell_type": "code",
   "execution_count": null,
   "metadata": {},
   "outputs": [],
   "source": [
    "keyword = \"漲\""
   ]
  },
  {
   "cell_type": "code",
   "execution_count": null,
   "metadata": {},
   "outputs": [],
   "source": [
    "message = \"今天台積電股價大漲\""
   ]
  },
  {
   "cell_type": "code",
   "execution_count": null,
   "metadata": {},
   "outputs": [],
   "source": [
    "keyword in message"
   ]
  },
  {
   "cell_type": "code",
   "execution_count": null,
   "metadata": {},
   "outputs": [],
   "source": [
    "message = \"受到中美貿易戰影響，台股今日略跌0.1%\""
   ]
  },
  {
   "cell_type": "code",
   "execution_count": null,
   "metadata": {},
   "outputs": [],
   "source": [
    "keyword in message"
   ]
  },
  {
   "cell_type": "markdown",
   "metadata": {},
   "source": [
    "## 邏輯運算子對串列：`in`\n",
    "應用在串列中，特別是數字串列，`in`是個好用的指令"
   ]
  },
  {
   "cell_type": "code",
   "execution_count": null,
   "metadata": {},
   "outputs": [],
   "source": [
    "L = [60,54,79,81,93,99,87]"
   ]
  },
  {
   "cell_type": "code",
   "execution_count": null,
   "metadata": {},
   "outputs": [],
   "source": [
    "87 in L"
   ]
  },
  {
   "cell_type": "code",
   "execution_count": null,
   "metadata": {},
   "outputs": [],
   "source": [
    "88 in L"
   ]
  }
 ],
 "metadata": {
  "kernelspec": {
   "display_name": "Python 3",
   "language": "python",
   "name": "python3"
  },
  "language_info": {
   "codemirror_mode": {
    "name": "ipython",
    "version": 3
   },
   "file_extension": ".py",
   "mimetype": "text/x-python",
   "name": "python",
   "nbconvert_exporter": "python",
   "pygments_lexer": "ipython3",
   "version": "3.6.5"
  }
 },
 "nbformat": 4,
 "nbformat_minor": 2
}
