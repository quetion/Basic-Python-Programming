{
 "cells": [
  {
   "cell_type": "markdown",
   "metadata": {},
   "source": [
    "# 第一個程式碼：向世界打招呼\n",
    "- `print()`"
   ]
  },
  {
   "cell_type": "code",
   "execution_count": 1,
   "metadata": {},
   "outputs": [
    {
     "name": "stdout",
     "output_type": "stream",
     "text": [
      "Hello,World!\n"
     ]
    }
   ],
   "source": [
    "print('Hello,World!')"
   ]
  },
  {
   "cell_type": "code",
   "execution_count": 2,
   "metadata": {},
   "outputs": [
    {
     "name": "stdout",
     "output_type": "stream",
     "text": [
      "1\n"
     ]
    }
   ],
   "source": [
    "print(1)"
   ]
  },
  {
   "cell_type": "code",
   "execution_count": null,
   "metadata": {},
   "outputs": [],
   "source": []
  },
  {
   "cell_type": "markdown",
   "metadata": {},
   "source": [
    "# Python計算機\n",
    "- 四則運算：`+,-,*,/`\n",
    "- 特殊除法：`//,%`\n",
    "- 次方運算`**` \n",
    "- 特殊四則運算：`+=,-=,*=,/=,...`"
   ]
  },
  {
   "cell_type": "markdown",
   "metadata": {},
   "source": [
    "### 數字 `int()` `float()`\n",
    "我們先從整數與浮點數開始\n",
    "- 整數 `int()`\n",
    "- 浮點數 `float()`"
   ]
  },
  {
   "cell_type": "code",
   "execution_count": 18,
   "metadata": {},
   "outputs": [
    {
     "data": {
      "text/plain": [
       "0"
      ]
     },
     "execution_count": 18,
     "metadata": {},
     "output_type": "execute_result"
    }
   ],
   "source": [
    "1 + 1 - 2"
   ]
  },
  {
   "cell_type": "code",
   "execution_count": 19,
   "metadata": {},
   "outputs": [
    {
     "data": {
      "text/plain": [
       "5.5"
      ]
     },
     "execution_count": 19,
     "metadata": {},
     "output_type": "execute_result"
    }
   ],
   "source": [
    "2 + (1 + 3*2)/2  #四則運算"
   ]
  },
  {
   "cell_type": "code",
   "execution_count": 20,
   "metadata": {},
   "outputs": [
    {
     "data": {
      "text/plain": [
       "27"
      ]
     },
     "execution_count": 20,
     "metadata": {},
     "output_type": "execute_result"
    }
   ],
   "source": [
    "(1+2)**3 #次方"
   ]
  },
  {
   "cell_type": "code",
   "execution_count": 21,
   "metadata": {},
   "outputs": [
    {
     "data": {
      "text/plain": [
       "1"
      ]
     },
     "execution_count": 21,
     "metadata": {},
     "output_type": "execute_result"
    }
   ],
   "source": [
    "5//2 #商數\n",
    "5%2  #餘數"
   ]
  },
  {
   "cell_type": "code",
   "execution_count": 22,
   "metadata": {
    "scrolled": true
   },
   "outputs": [],
   "source": [
    "a = 3\n",
    "a = a + 3\n",
    "a += 3"
   ]
  },
  {
   "cell_type": "markdown",
   "metadata": {},
   "source": [
    "### 字串 `str()`\n",
    "如果是字串的話，也可以進行運算"
   ]
  },
  {
   "cell_type": "code",
   "execution_count": 23,
   "metadata": {},
   "outputs": [
    {
     "data": {
      "text/plain": [
       "'I lovePython'"
      ]
     },
     "execution_count": 23,
     "metadata": {},
     "output_type": "execute_result"
    }
   ],
   "source": [
    "'I love' + 'Python'"
   ]
  },
  {
   "cell_type": "code",
   "execution_count": 24,
   "metadata": {},
   "outputs": [
    {
     "data": {
      "text/plain": [
       "'14'"
      ]
     },
     "execution_count": 24,
     "metadata": {},
     "output_type": "execute_result"
    }
   ],
   "source": [
    "a = '1234567890'\n",
    "a[0:5:3]"
   ]
  },
  {
   "cell_type": "code",
   "execution_count": 25,
   "metadata": {},
   "outputs": [
    {
     "data": {
      "text/plain": [
       "'I love Python.'"
      ]
     },
     "execution_count": 25,
     "metadata": {},
     "output_type": "execute_result"
    }
   ],
   "source": [
    "'I ' + 'love ' + 'Python.' "
   ]
  },
  {
   "cell_type": "markdown",
   "metadata": {},
   "source": [
    "## 應用\n",
    "- 折現率與現值\n",
    "- 本金、利息與債務計算\n",
    "- 定期定額基金收益計算"
   ]
  },
  {
   "cell_type": "markdown",
   "metadata": {},
   "source": [
    "### 折現率與現值\n",
    "1. 假設折現率`(利率)`為3%，現在的100元現值為多少？\n",
    "2. 假設折現率`(利率)`為3%，現在的100元明年會變多少？\n",
    "3. 假設折現率`(利率)`為3%，明年的103元現值為多少？\n",
    "\n",
    "### 解答\n",
    "1. 100元\n",
    "2. $100 * (1 + 3\\%) = 103$元\n",
    "3. $103 / (1 + 3\\%) = 100$元"
   ]
  },
  {
   "cell_type": "markdown",
   "metadata": {},
   "source": [
    "## 練習題：存款\n",
    "1. 假設當前利率為3%，現在將10萬元存入銀行，5年後會變成多少？\n",
    "2. 假設當前利率為6%，現在將10萬元存入銀行，5年後會變成多少？\n",
    "3. 根據上兩題的結果，請問6%的利率所產生的利息是3%的利率所產生的利息的幾倍？"
   ]
  },
  {
   "cell_type": "code",
   "execution_count": 26,
   "metadata": {},
   "outputs": [
    {
     "name": "stdout",
     "output_type": "stream",
     "text": [
      "五年後變成115927元\n",
      "五年後變成133822元\n",
      "2.12倍\n"
     ]
    }
   ],
   "source": [
    "# 第一題的答案\n",
    "a = 100000*(1+0.03)**5 \n",
    "print('五年後變成' + str(int(a)) + '元' )\n",
    "#print('五年後應還'+format(int(a),',')+ '元' )\n",
    "# 第二題的答案\n",
    "a = 100000*(1+0.06)**5\n",
    "print('五年後變成'+str(int(a))+'元')\n",
    "# 第三題的答案\n",
    "a = 100000*(1+0.03)**5-100000\n",
    "b = 100000*(1+0.06)**5-100000\n",
    "c = b/a\n",
    "print('%.2f' '倍' % c)\n"
   ]
  },
  {
   "cell_type": "markdown",
   "metadata": {},
   "source": [
    "## 練習題：借款\n",
    "1. 假設當前利率為3%，現在向銀行借10萬元，5年後應還多少？\n",
    "2. 假設當前利率為6%，現在向銀行借10萬元，5年後應還多少？\n",
    "3. 根據上兩題的結果，請問6%的利率所產生的利息是3%的利率所產生的利息的幾倍？"
   ]
  },
  {
   "cell_type": "code",
   "execution_count": 27,
   "metadata": {},
   "outputs": [
    {
     "name": "stdout",
     "output_type": "stream",
     "text": [
      "五年後應還116161元\n",
      "五年後應還134885元\n",
      "2.16倍\n"
     ]
    }
   ],
   "source": [
    "# 第一題的答案\n",
    "a = 100000*(1+0.03/12)**60 \n",
    "print('五年後應還' + str(int(a)) + '元' )\n",
    "#print('五年後應還'+format(int(a),',')+ '元' )\n",
    "# 第二題的答案\n",
    "a = 100000*(1+0.06/12)**60\n",
    "print('五年後應還'+str(int(a))+'元')\n",
    "# 第三題的答案\n",
    "a = 100000*(1+0.03/12)**60-100000\n",
    "b = 100000*(1+0.06/12)**60-100000\n",
    "c = b/a\n",
    "print('%.2f' '倍' % c)"
   ]
  },
  {
   "cell_type": "markdown",
   "metadata": {},
   "source": [
    "## 練習題：定期定額基金\n",
    "1. 假設理專推薦一檔基金的固定年報酬率是2%，每年初繳交12000元，試問一年後可拿回多少現金？\n",
    "2. 假設理專推薦一檔基金的固定年報酬率是4%，每年初繳交12000元，試問一年後可拿回多少現金？\n",
    "3. 假設理專推薦一檔基金的固定年報酬率是2%，每年初繳交12000元，試問十年後可拿回多少現金？\n",
    "4. 假設理專推薦一檔基金的固定年報酬率是4%，每年初繳交12000元，試問十年後可拿回多少現金？"
   ]
  },
  {
   "cell_type": "code",
   "execution_count": 28,
   "metadata": {},
   "outputs": [
    {
     "name": "stdout",
     "output_type": "stream",
     "text": [
      "一年後可拿回12,240元\n",
      "一年後可拿回12,480元\n",
      "十年後可拿回134,024元\n",
      "十年後可拿回149,836元\n"
     ]
    }
   ],
   "source": [
    "#第一題答案\n",
    "a = 12000 * (1 + 0.02)\n",
    "print('一年後可拿回' + format(int(a),',') + '元')\n",
    "#第二題答案\n",
    "a = 12000 * (1 + 0.04)\n",
    "print('一年後可拿回' + format(int(a),',') + '元')\n",
    "#第三題答案\n",
    "a = 12000 * (1 + 0.02)**10 + 12000 * (1 + 0.02)**9 + 12000 * (1 + 0.02)**8 + 12000 * (1 + 0.02)**7 \\\n",
    "  + 12000 * (1 + 0.02)**6  + 12000 * (1 + 0.02)**5 + 12000 * (1 + 0.02)**4 + 12000 * (1 + 0.02)**3 \\\n",
    "  + 12000 * (1 + 0.02)**2  + 12000 * (1 + 0.02)**1\n",
    "print('十年後可拿回' + format(int(a),',') + '元')\n",
    "#第四題答案\n",
    "a = 12000 * (1 + 0.04)**10 + 12000 * (1 + 0.04)**9 + 12000 * (1 + 0.04)**8 + 12000 * (1 + 0.04)**7 \\\n",
    "  + 12000 * (1 + 0.04)**6  + 12000 * (1 + 0.04)**5 + 12000 * (1 + 0.04)**4 + 12000 * (1 + 0.04)**3 \\\n",
    "  + 12000 * (1 + 0.04)**2  + 12000 * (1 + 0.04)**1\n",
    "print('十年後可拿回' + format(int(a),',') + '元')\n"
   ]
  },
  {
   "cell_type": "markdown",
   "metadata": {},
   "source": [
    "## 進階數學運算 `import math`\n",
    "- 指數與對數函數 `math.exp()` `math.log()`\n",
    "- 三角函數 `math.sin()`"
   ]
  },
  {
   "cell_type": "code",
   "execution_count": 29,
   "metadata": {},
   "outputs": [
    {
     "data": {
      "text/plain": [
       "7.38905609893065"
      ]
     },
     "execution_count": 29,
     "metadata": {},
     "output_type": "execute_result"
    }
   ],
   "source": [
    "import math #引用 math套件\n",
    "math.exp(2) "
   ]
  },
  {
   "cell_type": "code",
   "execution_count": 30,
   "metadata": {},
   "outputs": [
    {
     "data": {
      "text/plain": [
       "1.0"
      ]
     },
     "execution_count": 30,
     "metadata": {},
     "output_type": "execute_result"
    }
   ],
   "source": [
    "math.log(math.exp(1))"
   ]
  },
  {
   "cell_type": "code",
   "execution_count": 31,
   "metadata": {
    "scrolled": true
   },
   "outputs": [
    {
     "data": {
      "text/plain": [
       "0.0"
      ]
     },
     "execution_count": 31,
     "metadata": {},
     "output_type": "execute_result"
    }
   ],
   "source": [
    "math.sin(0)"
   ]
  },
  {
   "cell_type": "code",
   "execution_count": 32,
   "metadata": {},
   "outputs": [
    {
     "data": {
      "text/plain": [
       "3.141592653589793"
      ]
     },
     "execution_count": 32,
     "metadata": {},
     "output_type": "execute_result"
    }
   ],
   "source": [
    "math.pi"
   ]
  },
  {
   "cell_type": "code",
   "execution_count": 33,
   "metadata": {},
   "outputs": [
    {
     "data": {
      "text/plain": [
       "1.4142135623730951"
      ]
     },
     "execution_count": 33,
     "metadata": {},
     "output_type": "execute_result"
    }
   ],
   "source": [
    "math.sqrt(2)"
   ]
  },
  {
   "cell_type": "markdown",
   "metadata": {},
   "source": [
    "### 常用數學運算函數\n",
    "[更多函數說明連結](https://docs.python.org/3.7/library/math.html?highlight=import%20math)"
   ]
  },
  {
   "cell_type": "code",
   "execution_count": 34,
   "metadata": {},
   "outputs": [
    {
     "name": "stdout",
     "output_type": "stream",
     "text": [
      "149836.21689452333\n"
     ]
    }
   ],
   "source": [
    "math.ceil(2.3) \n",
    "math.floor(2.3)\n",
    "math.trunc(2.3)\n",
    "math.fabs(-2.3)\n",
    "math.fsum([1,1,1]) # [1,1,1]是串列型態(list)\n",
    "print(a)"
   ]
  },
  {
   "cell_type": "markdown",
   "metadata": {},
   "source": [
    "## 為何要使用math.fsum函數\n",
    "1. 試計算0.1加十次的結果，也就是`0.1+0.1+0.1+0.1+0.1+0.1+0.1+0.1+0.1+0.1 = ?`\n",
    "2. 試利用`math.fsum()`來計算上述算式。"
   ]
  },
  {
   "cell_type": "code",
   "execution_count": 2,
   "metadata": {},
   "outputs": [
    {
     "name": "stdout",
     "output_type": "stream",
     "text": [
      "0.9999999999999999\n",
      "1.0\n"
     ]
    }
   ],
   "source": [
    "# 第一題解答\n",
    "0.1+0.1+0.1+0.1+0.1+0.1+0.1+0.1+0.1+0.1\n",
    "a = [0.1,0.1,0.1,0.1,0.1,0.1,0.1,0.1,0.1,0.1]\n",
    "print(sum(a))\n",
    "# 第二題解答\n",
    "import math\n",
    "print(math.fsum(a))"
   ]
  },
  {
   "cell_type": "markdown",
   "metadata": {},
   "source": [
    "`math.fsum`可解決Python主程式對數字精確度的問題"
   ]
  },
  {
   "cell_type": "markdown",
   "metadata": {},
   "source": [
    "## 資料型態\n",
    "- 布林 (Bolean): `Ture` or `False`\n",
    "- 整數 (Integer)：`1,2,3`\n",
    "- 浮點數 (Float)：`1.0,2.3,3.2`\n",
    "- 字串 (String)：`'String', \"Python\", '中文也行'`\n"
   ]
  },
  {
   "cell_type": "code",
   "execution_count": 50,
   "metadata": {},
   "outputs": [],
   "source": [
    "a = 2"
   ]
  },
  {
   "cell_type": "code",
   "execution_count": 51,
   "metadata": {},
   "outputs": [
    {
     "data": {
      "text/plain": [
       "int"
      ]
     },
     "execution_count": 51,
     "metadata": {},
     "output_type": "execute_result"
    }
   ],
   "source": [
    "type(a)"
   ]
  },
  {
   "cell_type": "code",
   "execution_count": 52,
   "metadata": {},
   "outputs": [
    {
     "data": {
      "text/plain": [
       "float"
      ]
     },
     "execution_count": 52,
     "metadata": {},
     "output_type": "execute_result"
    }
   ],
   "source": [
    "a = 2.0\n",
    "type(a)"
   ]
  },
  {
   "cell_type": "code",
   "execution_count": 3,
   "metadata": {},
   "outputs": [
    {
     "data": {
      "text/plain": [
       "bool"
      ]
     },
     "execution_count": 3,
     "metadata": {},
     "output_type": "execute_result"
    }
   ],
   "source": [
    "a = True\n",
    "type(a)"
   ]
  },
  {
   "cell_type": "code",
   "execution_count": 7,
   "metadata": {},
   "outputs": [
    {
     "name": "stdout",
     "output_type": "stream",
     "text": [
      "False\n"
     ]
    },
    {
     "data": {
      "text/plain": [
       "bool"
      ]
     },
     "execution_count": 7,
     "metadata": {},
     "output_type": "execute_result"
    }
   ],
   "source": [
    "a = (2==1)\n",
    "print(a)\n",
    "type(a)"
   ]
  },
  {
   "cell_type": "code",
   "execution_count": 54,
   "metadata": {},
   "outputs": [
    {
     "data": {
      "text/plain": [
       "str"
      ]
     },
     "execution_count": 54,
     "metadata": {},
     "output_type": "execute_result"
    }
   ],
   "source": [
    "a = \"中文\"\n",
    "type(a)"
   ]
  },
  {
   "cell_type": "markdown",
   "metadata": {},
   "source": [
    "## 查詢與變換資料型態\n",
    "- `type()`\n",
    "- `int(), float(), str()`"
   ]
  },
  {
   "cell_type": "markdown",
   "metadata": {},
   "source": [
    "## 練習：三角函數\n",
    "1. 已知一直角三角形，三個角度分別為30,60,90，斜邊的長度為300，請問另外兩邊長度為何？\n",
    "2. 已知一等腰直角三角形的兩邊長分別為100,100，試問第三邊長為何？\n",
    "3. 計算下列算式\n",
    "$$\n",
    "\\sin(0)+\\sin(\\pi/2)+\\sin(\\pi)+\\sin(3/2\\pi)+\\sin(2\\pi)\n",
    "$$\n",
    "4. 計算下列算式\n",
    "$$\n",
    "\\cos(0)+\\cos(\\pi/2)+\\cos(\\pi)+\\cos(3/2\\pi)+\\cos(2\\pi)\n",
    "$$\n"
   ]
  },
  {
   "cell_type": "code",
   "execution_count": 19,
   "metadata": {},
   "outputs": [
    {
     "name": "stdout",
     "output_type": "stream",
     "text": [
      "另外兩邊長分別為150.00和259.81\n",
      "第三邊長為141.42\n",
      "答案為-0.0000\n",
      "答案為1.0000\n"
     ]
    }
   ],
   "source": [
    "#第一題答案\n",
    "import math\n",
    "a = 300/2\n",
    "b = 300/2*math.sqrt(3)\n",
    "print('另外兩邊長分別為'+'%.2f' % a + '和' + '%.2f' % b)\n",
    "# 第二題答案\n",
    "a = 100*math.sqrt(2)\n",
    "print('第三邊長為' + '%.2f' % a)\n",
    "# 第三題答案\n",
    "a = math.sin(0) + math.sin(math.pi*0.5) + math.sin(math.pi*1.5) + math.sin(math.pi*2)\n",
    "print('答案為' + '%.4f' % a)\n",
    "# 第四題答案\n",
    "a = math.sin(0) + math.cos(math.pi*0.5) + math.cos(math.pi*1.5) + math.cos(math.pi*2)\n",
    "print('答案為' + '%.4f' % a)\n"
   ]
  },
  {
   "cell_type": "markdown",
   "metadata": {},
   "source": [
    "## 練習：機率\n",
    "1. 投擲一公正銅板，出現正面與反面機率皆為0.5，連續投擲兩次，試問兩次都是正面的機率為何？\n",
    "2. 投擲一公正銅板，出現正面與反面機率皆為0.5，連續投擲兩次，試問兩次都是反面的機率為何？\n",
    "3. 投擲一公正銅板，出現正面與反面機率皆為0.5，連續投擲兩次，試問一正一反的機率為何？\n"
   ]
  },
  {
   "cell_type": "code",
   "execution_count": 27,
   "metadata": {},
   "outputs": [
    {
     "name": "stdout",
     "output_type": "stream",
     "text": [
      "兩次都是正面的機率0.2500\n",
      "兩次都是反面的機率0.2500\n",
      "一正面一反面的機率0.5000\n"
     ]
    }
   ],
   "source": [
    "#第一題答案\n",
    "print('兩次都是正面的機率' + '%.4f' % 0.5**2)\n",
    "#第二題答案\n",
    "print('兩次都是反面的機率' + '%.4f' % 0.5**2)\n",
    "#第三題答案\n",
    "print('一正面一反面的機率' + '%.4f' % (0.5**2*2) )"
   ]
  },
  {
   "cell_type": "markdown",
   "metadata": {},
   "source": [
    "## 練習：極限\n",
    "1. 假設公告年利率為5%，計算利息的頻率為一年，試問存款10萬，過了10年會變成多少？\n",
    "2. 假設公告年利率為5%，計算利息的頻率為一個月，試問存款10萬，過了10年會變成多少？\n",
    "3. 假設公告年利率為5%，計算利息的頻率為一天，試問存款10萬過了10年會變成多少？\n",
    "4. 假設公告年利率為5%，計算利息的頻率為無時無刻，試問存款10萬過了10年會變成多少？"
   ]
  },
  {
   "cell_type": "code",
   "execution_count": 36,
   "metadata": {},
   "outputs": [
    {
     "name": "stdout",
     "output_type": "stream",
     "text": [
      "162,889元\n",
      "164,700元\n",
      "164,866元\n",
      "164,872元\n"
     ]
    }
   ],
   "source": [
    "# 第一題答案\n",
    "a = 100000*(1+0.05)**10\n",
    "print(format(int(a),',') + '元')\n",
    "# 第二題答案\n",
    "a = 100000*(1+0.05/12)**120\n",
    "print(format(int(a),',') + '元')\n",
    "# 第三題答案\n",
    "a = 100000*(1+0.05/365)**(10*365)\n",
    "print(format(int(a),',') + '元')\n",
    "# 第四題答案\n",
    "import math\n",
    "a = 100000*math.exp(0.05*10)\n",
    "print(format(int(a),',') + '元')\n",
    "\n"
   ]
  },
  {
   "cell_type": "markdown",
   "metadata": {},
   "source": [
    "## 練習：統計常見機率函數\n",
    "### 二項分布機率質量函數\n",
    "$$\n",
    "f(x) = \\frac{n!}{x!(n-x)!}*p^x*(1-p)^{(n-x)}\n",
    "$$\n",
    "### 常態分佈機率密度函數\n",
    "$$\n",
    "f(x) = (\\frac{1}{\\sqrt{2\\pi\\sigma^2}})*\\exp(\\frac{-(x-\\mu)^2}{2\\sigma^2})\n",
    "$$\n",
    "### 標準常態機率密度函數\n",
    "設定$\\mu=0$和$\\sigma=1$，可得下列函數\n",
    "$$\n",
    "f(x) = (\\frac{1}{\\sqrt{2\\pi}})*\\exp(\\frac{-x^2}{2})\n",
    "$$\n",
    "### 練習題\n",
    "1. 計算二項分布下，當$n=10, p=0.2, x=2$的機率為何？\n",
    "2. 計算標準常態分配下，$x = 1$，機率密度函數各是多少？\n",
    "3. 計算常態分配 ($\\mu=1, \\sigma=4$)下，$x = 0$，機率密度函數各是多少？"
   ]
  },
  {
   "cell_type": "code",
   "execution_count": 1,
   "metadata": {},
   "outputs": [],
   "source": [
    "# 引入需要套件\n",
    "import math "
   ]
  },
  {
   "cell_type": "code",
   "execution_count": 38,
   "metadata": {},
   "outputs": [
    {
     "data": {
      "text/plain": [
       "24.0"
      ]
     },
     "execution_count": 38,
     "metadata": {},
     "output_type": "execute_result"
    }
   ],
   "source": [
    "math.gamma(5) # gamma(5) = 4!"
   ]
  },
  {
   "cell_type": "code",
   "execution_count": 39,
   "metadata": {},
   "outputs": [
    {
     "name": "stdout",
     "output_type": "stream",
     "text": [
      "0.3020\n"
     ]
    }
   ],
   "source": [
    "# 第一題，x=2\n",
    "n = 10\n",
    "p = 0.2\n",
    "x = 2\n",
    "a = p**x\n",
    "b = (1-p)**(n-x)\n",
    "c = math.gamma(11)/(math.gamma(x+1)*math.gamma(n-x+1))\n",
    "prob = c*a*b\n",
    "print(format(prob,'0.4f'))"
   ]
  },
  {
   "cell_type": "code",
   "execution_count": 40,
   "metadata": {},
   "outputs": [
    {
     "name": "stdout",
     "output_type": "stream",
     "text": [
      "0.2420\n"
     ]
    }
   ],
   "source": [
    "# 第二題，x=1\n",
    "import math\n",
    "a = 1/math.sqrt(2*math.pi)\n",
    "x = -1\n",
    "f = a * math.exp(-(x**2)/2)\n",
    "print(format(f,'0.4f'))\n"
   ]
  },
  {
   "cell_type": "code",
   "execution_count": 41,
   "metadata": {},
   "outputs": [
    {
     "name": "stdout",
     "output_type": "stream",
     "text": [
      "0.0967\n"
     ]
    }
   ],
   "source": [
    "# 第二題，x=0\n",
    "# 參數設定\n",
    "mu = 1\n",
    "sigma = 4\n",
    "# 常數計算\n",
    "a = 1/math.sqrt(2*math.pi*(sigma**2))\n",
    "x = 0\n",
    "f = a * math.exp(-((x-mu)**2)/(2*(sigma**2)))\n",
    "print(format(f,'.4f'))"
   ]
  },
  {
   "cell_type": "markdown",
   "metadata": {},
   "source": [
    "## 其實有更快的算法\n",
    "- 引用scipy.stats套件處理基本統計問題\n",
    "- 計算二項分布的機率質量函數`scipy.stats.binom.pmf(x,n,p)`\n",
    "- 計算常態分布的機率密度函數`scipy.stats.norm.pdf(x,mu,sigma)`"
   ]
  },
  {
   "cell_type": "code",
   "execution_count": 5,
   "metadata": {},
   "outputs": [],
   "source": [
    "# 引入更直接的套件\n",
    "import scipy.stats as stat"
   ]
  },
  {
   "cell_type": "code",
   "execution_count": 6,
   "metadata": {},
   "outputs": [
    {
     "name": "stdout",
     "output_type": "stream",
     "text": [
      "0.3020\n",
      "0.2420\n",
      "0.0967\n"
     ]
    }
   ],
   "source": [
    "# 第一題，x=2\n",
    "a = stat.binom.pmf(2,10,0.2)\n",
    "print(format(a,'.4f'))\n",
    "# 第二題 x=1\n",
    "a = stat.norm.pdf(1,0,1)\n",
    "print(format(a,'.4f'))\n",
    "# 第三題 x=0\n",
    "a = stat.norm.pdf(0,1,4)\n",
    "print(format(a,'.4f'))"
   ]
  },
  {
   "cell_type": "markdown",
   "metadata": {},
   "source": [
    "整數的長度可以無限長，例如："
   ]
  },
  {
   "cell_type": "code",
   "execution_count": 44,
   "metadata": {},
   "outputs": [
    {
     "data": {
      "text/plain": [
       "3849231470129387410324918237489012934712098374102343215"
      ]
     },
     "execution_count": 44,
     "metadata": {},
     "output_type": "execute_result"
    }
   ],
   "source": [
    "3849231470129387410324918237489012934712098374102343214+1"
   ]
  },
  {
   "cell_type": "markdown",
   "metadata": {},
   "source": [
    "## 如何查詢其他函數\n",
    "當我們引用math套件，我們會想知道此套件的其他函數的使用方式。\n",
    "\n",
    "除了可以上網google，通常會找到Python的幫助文件。\n",
    "\n",
    "我們也可以直接在這個介面查詢，善用help()互動介面\n",
    "\n",
    "查完記得要退出，輸入quit即可"
   ]
  },
  {
   "cell_type": "code",
   "execution_count": 15,
   "metadata": {},
   "outputs": [
    {
     "name": "stdout",
     "output_type": "stream",
     "text": [
      "\n",
      "Welcome to Python 3.6's help utility!\n",
      "\n",
      "If this is your first time using Python, you should definitely check out\n",
      "the tutorial on the Internet at https://docs.python.org/3.6/tutorial/.\n",
      "\n",
      "Enter the name of any module, keyword, or topic to get help on writing\n",
      "Python programs and using Python modules.  To quit this help utility and\n",
      "return to the interpreter, just type \"quit\".\n",
      "\n",
      "To get a list of available modules, keywords, symbols, or topics, type\n",
      "\"modules\", \"keywords\", \"symbols\", or \"topics\".  Each module also comes\n",
      "with a one-line summary of what it does; to list the modules whose name\n",
      "or summary contain a given string such as \"spam\", type \"modules spam\".\n",
      "\n",
      "help> math\n",
      "Help on built-in module math:\n",
      "\n",
      "NAME\n",
      "    math\n",
      "\n",
      "DESCRIPTION\n",
      "    This module is always available.  It provides access to the\n",
      "    mathematical functions defined by the C standard.\n",
      "\n",
      "FUNCTIONS\n",
      "    acos(...)\n",
      "        acos(x)\n",
      "        \n",
      "        Return the arc cosine (measured in radians) of x.\n",
      "    \n",
      "    acosh(...)\n",
      "        acosh(x)\n",
      "        \n",
      "        Return the inverse hyperbolic cosine of x.\n",
      "    \n",
      "    asin(...)\n",
      "        asin(x)\n",
      "        \n",
      "        Return the arc sine (measured in radians) of x.\n",
      "    \n",
      "    asinh(...)\n",
      "        asinh(x)\n",
      "        \n",
      "        Return the inverse hyperbolic sine of x.\n",
      "    \n",
      "    atan(...)\n",
      "        atan(x)\n",
      "        \n",
      "        Return the arc tangent (measured in radians) of x.\n",
      "    \n",
      "    atan2(...)\n",
      "        atan2(y, x)\n",
      "        \n",
      "        Return the arc tangent (measured in radians) of y/x.\n",
      "        Unlike atan(y/x), the signs of both x and y are considered.\n",
      "    \n",
      "    atanh(...)\n",
      "        atanh(x)\n",
      "        \n",
      "        Return the inverse hyperbolic tangent of x.\n",
      "    \n",
      "    ceil(...)\n",
      "        ceil(x)\n",
      "        \n",
      "        Return the ceiling of x as an Integral.\n",
      "        This is the smallest integer >= x.\n",
      "    \n",
      "    copysign(...)\n",
      "        copysign(x, y)\n",
      "        \n",
      "        Return a float with the magnitude (absolute value) of x but the sign \n",
      "        of y. On platforms that support signed zeros, copysign(1.0, -0.0) \n",
      "        returns -1.0.\n",
      "    \n",
      "    cos(...)\n",
      "        cos(x)\n",
      "        \n",
      "        Return the cosine of x (measured in radians).\n",
      "    \n",
      "    cosh(...)\n",
      "        cosh(x)\n",
      "        \n",
      "        Return the hyperbolic cosine of x.\n",
      "    \n",
      "    degrees(...)\n",
      "        degrees(x)\n",
      "        \n",
      "        Convert angle x from radians to degrees.\n",
      "    \n",
      "    erf(...)\n",
      "        erf(x)\n",
      "        \n",
      "        Error function at x.\n",
      "    \n",
      "    erfc(...)\n",
      "        erfc(x)\n",
      "        \n",
      "        Complementary error function at x.\n",
      "    \n",
      "    exp(...)\n",
      "        exp(x)\n",
      "        \n",
      "        Return e raised to the power of x.\n",
      "    \n",
      "    expm1(...)\n",
      "        expm1(x)\n",
      "        \n",
      "        Return exp(x)-1.\n",
      "        This function avoids the loss of precision involved in the direct evaluation of exp(x)-1 for small x.\n",
      "    \n",
      "    fabs(...)\n",
      "        fabs(x)\n",
      "        \n",
      "        Return the absolute value of the float x.\n",
      "    \n",
      "    factorial(...)\n",
      "        factorial(x) -> Integral\n",
      "        \n",
      "        Find x!. Raise a ValueError if x is negative or non-integral.\n",
      "    \n",
      "    floor(...)\n",
      "        floor(x)\n",
      "        \n",
      "        Return the floor of x as an Integral.\n",
      "        This is the largest integer <= x.\n",
      "    \n",
      "    fmod(...)\n",
      "        fmod(x, y)\n",
      "        \n",
      "        Return fmod(x, y), according to platform C.  x % y may differ.\n",
      "    \n",
      "    frexp(...)\n",
      "        frexp(x)\n",
      "        \n",
      "        Return the mantissa and exponent of x, as pair (m, e).\n",
      "        m is a float and e is an int, such that x = m * 2.**e.\n",
      "        If x is 0, m and e are both 0.  Else 0.5 <= abs(m) < 1.0.\n",
      "    \n",
      "    fsum(...)\n",
      "        fsum(iterable)\n",
      "        \n",
      "        Return an accurate floating point sum of values in the iterable.\n",
      "        Assumes IEEE-754 floating point arithmetic.\n",
      "    \n",
      "    gamma(...)\n",
      "        gamma(x)\n",
      "        \n",
      "        Gamma function at x.\n",
      "    \n",
      "    gcd(...)\n",
      "        gcd(x, y) -> int\n",
      "        greatest common divisor of x and y\n",
      "    \n",
      "    hypot(...)\n",
      "        hypot(x, y)\n",
      "        \n",
      "        Return the Euclidean distance, sqrt(x*x + y*y).\n",
      "    \n",
      "    isclose(...)\n",
      "        isclose(a, b, *, rel_tol=1e-09, abs_tol=0.0) -> bool\n",
      "        \n",
      "        Determine whether two floating point numbers are close in value.\n",
      "        \n",
      "           rel_tol\n",
      "               maximum difference for being considered \"close\", relative to the\n",
      "               magnitude of the input values\n",
      "            abs_tol\n",
      "               maximum difference for being considered \"close\", regardless of the\n",
      "               magnitude of the input values\n",
      "        \n",
      "        Return True if a is close in value to b, and False otherwise.\n",
      "        \n",
      "        For the values to be considered close, the difference between them\n",
      "        must be smaller than at least one of the tolerances.\n",
      "        \n",
      "        -inf, inf and NaN behave similarly to the IEEE 754 Standard.  That\n",
      "        is, NaN is not close to anything, even itself.  inf and -inf are\n",
      "        only close to themselves.\n",
      "    \n",
      "    isfinite(...)\n",
      "        isfinite(x) -> bool\n",
      "        \n",
      "        Return True if x is neither an infinity nor a NaN, and False otherwise.\n",
      "    \n",
      "    isinf(...)\n",
      "        isinf(x) -> bool\n",
      "        \n",
      "        Return True if x is a positive or negative infinity, and False otherwise.\n",
      "    \n",
      "    isnan(...)\n",
      "        isnan(x) -> bool\n",
      "        \n",
      "        Return True if x is a NaN (not a number), and False otherwise.\n",
      "    \n",
      "    ldexp(...)\n",
      "        ldexp(x, i)\n",
      "        \n",
      "        Return x * (2**i).\n",
      "    \n",
      "    lgamma(...)\n",
      "        lgamma(x)\n",
      "        \n",
      "        Natural logarithm of absolute value of Gamma function at x.\n",
      "    \n",
      "    log(...)\n",
      "        log(x[, base])\n",
      "        \n",
      "        Return the logarithm of x to the given base.\n",
      "        If the base not specified, returns the natural logarithm (base e) of x.\n",
      "    \n",
      "    log10(...)\n",
      "        log10(x)\n",
      "        \n",
      "        Return the base 10 logarithm of x.\n",
      "    \n",
      "    log1p(...)\n",
      "        log1p(x)\n",
      "        \n",
      "        Return the natural logarithm of 1+x (base e).\n",
      "        The result is computed in a way which is accurate for x near zero.\n",
      "    \n",
      "    log2(...)\n",
      "        log2(x)\n",
      "        \n",
      "        Return the base 2 logarithm of x.\n",
      "    \n",
      "    modf(...)\n",
      "        modf(x)\n",
      "        \n",
      "        Return the fractional and integer parts of x.  Both results carry the sign\n",
      "        of x and are floats.\n",
      "    \n",
      "    pow(...)\n",
      "        pow(x, y)\n",
      "        \n",
      "        Return x**y (x to the power of y).\n",
      "    \n",
      "    radians(...)\n",
      "        radians(x)\n",
      "        \n",
      "        Convert angle x from degrees to radians.\n",
      "    \n",
      "    sin(...)\n",
      "        sin(x)\n",
      "        \n",
      "        Return the sine of x (measured in radians).\n",
      "    \n",
      "    sinh(...)\n",
      "        sinh(x)\n",
      "        \n",
      "        Return the hyperbolic sine of x.\n",
      "    \n",
      "    sqrt(...)\n",
      "        sqrt(x)\n",
      "        \n",
      "        Return the square root of x.\n",
      "    \n",
      "    tan(...)\n",
      "        tan(x)\n",
      "        \n",
      "        Return the tangent of x (measured in radians).\n",
      "    \n",
      "    tanh(...)\n",
      "        tanh(x)\n",
      "        \n",
      "        Return the hyperbolic tangent of x.\n",
      "    \n",
      "    trunc(...)\n",
      "        trunc(x:Real) -> Integral\n",
      "        \n",
      "        Truncates x to the nearest Integral toward 0. Uses the __trunc__ magic method.\n",
      "\n",
      "DATA\n",
      "    e = 2.718281828459045\n",
      "    inf = inf\n",
      "    nan = nan\n",
      "    pi = 3.141592653589793\n",
      "    tau = 6.283185307179586\n",
      "\n",
      "FILE\n",
      "    (built-in)\n",
      "\n",
      "\n",
      "help> quit\n",
      "\n",
      "You are now leaving help and returning to the Python interpreter.\n",
      "If you want to ask for help on a particular object directly from the\n",
      "interpreter, you can type \"help(object)\".  Executing \"help('string')\"\n",
      "has the same effect as typing a particular string at the help> prompt.\n"
     ]
    }
   ],
   "source": [
    "help()"
   ]
  },
  {
   "cell_type": "code",
   "execution_count": 48,
   "metadata": {},
   "outputs": [],
   "source": [
    "import math"
   ]
  },
  {
   "cell_type": "code",
   "execution_count": 49,
   "metadata": {},
   "outputs": [
    {
     "name": "stdout",
     "output_type": "stream",
     "text": [
      "Help on built-in module math:\n",
      "\n",
      "NAME\n",
      "    math\n",
      "\n",
      "DESCRIPTION\n",
      "    This module is always available.  It provides access to the\n",
      "    mathematical functions defined by the C standard.\n",
      "\n",
      "FUNCTIONS\n",
      "    acos(...)\n",
      "        acos(x)\n",
      "        \n",
      "        Return the arc cosine (measured in radians) of x.\n",
      "    \n",
      "    acosh(...)\n",
      "        acosh(x)\n",
      "        \n",
      "        Return the inverse hyperbolic cosine of x.\n",
      "    \n",
      "    asin(...)\n",
      "        asin(x)\n",
      "        \n",
      "        Return the arc sine (measured in radians) of x.\n",
      "    \n",
      "    asinh(...)\n",
      "        asinh(x)\n",
      "        \n",
      "        Return the inverse hyperbolic sine of x.\n",
      "    \n",
      "    atan(...)\n",
      "        atan(x)\n",
      "        \n",
      "        Return the arc tangent (measured in radians) of x.\n",
      "    \n",
      "    atan2(...)\n",
      "        atan2(y, x)\n",
      "        \n",
      "        Return the arc tangent (measured in radians) of y/x.\n",
      "        Unlike atan(y/x), the signs of both x and y are considered.\n",
      "    \n",
      "    atanh(...)\n",
      "        atanh(x)\n",
      "        \n",
      "        Return the inverse hyperbolic tangent of x.\n",
      "    \n",
      "    ceil(...)\n",
      "        ceil(x)\n",
      "        \n",
      "        Return the ceiling of x as an Integral.\n",
      "        This is the smallest integer >= x.\n",
      "    \n",
      "    copysign(...)\n",
      "        copysign(x, y)\n",
      "        \n",
      "        Return a float with the magnitude (absolute value) of x but the sign \n",
      "        of y. On platforms that support signed zeros, copysign(1.0, -0.0) \n",
      "        returns -1.0.\n",
      "    \n",
      "    cos(...)\n",
      "        cos(x)\n",
      "        \n",
      "        Return the cosine of x (measured in radians).\n",
      "    \n",
      "    cosh(...)\n",
      "        cosh(x)\n",
      "        \n",
      "        Return the hyperbolic cosine of x.\n",
      "    \n",
      "    degrees(...)\n",
      "        degrees(x)\n",
      "        \n",
      "        Convert angle x from radians to degrees.\n",
      "    \n",
      "    erf(...)\n",
      "        erf(x)\n",
      "        \n",
      "        Error function at x.\n",
      "    \n",
      "    erfc(...)\n",
      "        erfc(x)\n",
      "        \n",
      "        Complementary error function at x.\n",
      "    \n",
      "    exp(...)\n",
      "        exp(x)\n",
      "        \n",
      "        Return e raised to the power of x.\n",
      "    \n",
      "    expm1(...)\n",
      "        expm1(x)\n",
      "        \n",
      "        Return exp(x)-1.\n",
      "        This function avoids the loss of precision involved in the direct evaluation of exp(x)-1 for small x.\n",
      "    \n",
      "    fabs(...)\n",
      "        fabs(x)\n",
      "        \n",
      "        Return the absolute value of the float x.\n",
      "    \n",
      "    factorial(...)\n",
      "        factorial(x) -> Integral\n",
      "        \n",
      "        Find x!. Raise a ValueError if x is negative or non-integral.\n",
      "    \n",
      "    floor(...)\n",
      "        floor(x)\n",
      "        \n",
      "        Return the floor of x as an Integral.\n",
      "        This is the largest integer <= x.\n",
      "    \n",
      "    fmod(...)\n",
      "        fmod(x, y)\n",
      "        \n",
      "        Return fmod(x, y), according to platform C.  x % y may differ.\n",
      "    \n",
      "    frexp(...)\n",
      "        frexp(x)\n",
      "        \n",
      "        Return the mantissa and exponent of x, as pair (m, e).\n",
      "        m is a float and e is an int, such that x = m * 2.**e.\n",
      "        If x is 0, m and e are both 0.  Else 0.5 <= abs(m) < 1.0.\n",
      "    \n",
      "    fsum(...)\n",
      "        fsum(iterable)\n",
      "        \n",
      "        Return an accurate floating point sum of values in the iterable.\n",
      "        Assumes IEEE-754 floating point arithmetic.\n",
      "    \n",
      "    gamma(...)\n",
      "        gamma(x)\n",
      "        \n",
      "        Gamma function at x.\n",
      "    \n",
      "    gcd(...)\n",
      "        gcd(x, y) -> int\n",
      "        greatest common divisor of x and y\n",
      "    \n",
      "    hypot(...)\n",
      "        hypot(x, y)\n",
      "        \n",
      "        Return the Euclidean distance, sqrt(x*x + y*y).\n",
      "    \n",
      "    isclose(...)\n",
      "        isclose(a, b, *, rel_tol=1e-09, abs_tol=0.0) -> bool\n",
      "        \n",
      "        Determine whether two floating point numbers are close in value.\n",
      "        \n",
      "           rel_tol\n",
      "               maximum difference for being considered \"close\", relative to the\n",
      "               magnitude of the input values\n",
      "            abs_tol\n",
      "               maximum difference for being considered \"close\", regardless of the\n",
      "               magnitude of the input values\n",
      "        \n",
      "        Return True if a is close in value to b, and False otherwise.\n",
      "        \n",
      "        For the values to be considered close, the difference between them\n",
      "        must be smaller than at least one of the tolerances.\n",
      "        \n",
      "        -inf, inf and NaN behave similarly to the IEEE 754 Standard.  That\n",
      "        is, NaN is not close to anything, even itself.  inf and -inf are\n",
      "        only close to themselves.\n",
      "    \n",
      "    isfinite(...)\n",
      "        isfinite(x) -> bool\n",
      "        \n",
      "        Return True if x is neither an infinity nor a NaN, and False otherwise.\n",
      "    \n",
      "    isinf(...)\n",
      "        isinf(x) -> bool\n",
      "        \n",
      "        Return True if x is a positive or negative infinity, and False otherwise.\n",
      "    \n",
      "    isnan(...)\n",
      "        isnan(x) -> bool\n",
      "        \n",
      "        Return True if x is a NaN (not a number), and False otherwise.\n",
      "    \n",
      "    ldexp(...)\n",
      "        ldexp(x, i)\n",
      "        \n",
      "        Return x * (2**i).\n",
      "    \n",
      "    lgamma(...)\n",
      "        lgamma(x)\n",
      "        \n",
      "        Natural logarithm of absolute value of Gamma function at x.\n",
      "    \n",
      "    log(...)\n",
      "        log(x[, base])\n",
      "        \n",
      "        Return the logarithm of x to the given base.\n",
      "        If the base not specified, returns the natural logarithm (base e) of x.\n",
      "    \n",
      "    log10(...)\n",
      "        log10(x)\n",
      "        \n",
      "        Return the base 10 logarithm of x.\n",
      "    \n",
      "    log1p(...)\n",
      "        log1p(x)\n",
      "        \n",
      "        Return the natural logarithm of 1+x (base e).\n",
      "        The result is computed in a way which is accurate for x near zero.\n",
      "    \n",
      "    log2(...)\n",
      "        log2(x)\n",
      "        \n",
      "        Return the base 2 logarithm of x.\n",
      "    \n",
      "    modf(...)\n",
      "        modf(x)\n",
      "        \n",
      "        Return the fractional and integer parts of x.  Both results carry the sign\n",
      "        of x and are floats.\n",
      "    \n",
      "    pow(...)\n",
      "        pow(x, y)\n",
      "        \n",
      "        Return x**y (x to the power of y).\n",
      "    \n",
      "    radians(...)\n",
      "        radians(x)\n",
      "        \n",
      "        Convert angle x from degrees to radians.\n",
      "    \n",
      "    sin(...)\n",
      "        sin(x)\n",
      "        \n",
      "        Return the sine of x (measured in radians).\n",
      "    \n",
      "    sinh(...)\n",
      "        sinh(x)\n",
      "        \n",
      "        Return the hyperbolic sine of x.\n",
      "    \n",
      "    sqrt(...)\n",
      "        sqrt(x)\n",
      "        \n",
      "        Return the square root of x.\n",
      "    \n",
      "    tan(...)\n",
      "        tan(x)\n",
      "        \n",
      "        Return the tangent of x (measured in radians).\n",
      "    \n",
      "    tanh(...)\n",
      "        tanh(x)\n",
      "        \n",
      "        Return the hyperbolic tangent of x.\n",
      "    \n",
      "    trunc(...)\n",
      "        trunc(x:Real) -> Integral\n",
      "        \n",
      "        Truncates x to the nearest Integral toward 0. Uses the __trunc__ magic method.\n",
      "\n",
      "DATA\n",
      "    e = 2.718281828459045\n",
      "    inf = inf\n",
      "    nan = nan\n",
      "    pi = 3.141592653589793\n",
      "    tau = 6.283185307179586\n",
      "\n",
      "FILE\n",
      "    (built-in)\n",
      "\n",
      "\n"
     ]
    }
   ],
   "source": [
    "help(math)"
   ]
  }
 ],
 "metadata": {
  "kernelspec": {
   "display_name": "Python 3",
   "language": "python",
   "name": "python3"
  },
  "language_info": {
   "codemirror_mode": {
    "name": "ipython",
    "version": 3
   },
   "file_extension": ".py",
   "mimetype": "text/x-python",
   "name": "python",
   "nbconvert_exporter": "python",
   "pygments_lexer": "ipython3",
   "version": "3.6.5"
  }
 },
 "nbformat": 4,
 "nbformat_minor": 2
}
