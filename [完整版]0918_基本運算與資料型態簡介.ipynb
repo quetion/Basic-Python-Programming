{
 "cells": [
  {
   "cell_type": "markdown",
   "metadata": {},
   "source": [
    "# 第一個程式碼：向世界打招呼\n",
    "- `print()`"
   ]
  },
  {
   "cell_type": "code",
   "execution_count": 1,
   "metadata": {},
   "outputs": [
    {
     "name": "stdout",
     "output_type": "stream",
     "text": [
      "Hello,World!\n"
     ]
    }
   ],
   "source": [
    "print('Hello,World!')"
   ]
  },
  {
   "cell_type": "markdown",
   "metadata": {},
   "source": [
    "# Python計算機\n",
    "- 四則運算：`+,-,*,/`\n",
    "- 特殊除法：`//,%`\n",
    "- 次方運算`**` \n",
    "- 特殊四則運算：`+=,-=,*=,/=,...`"
   ]
  },
  {
   "cell_type": "code",
   "execution_count": 1,
   "metadata": {},
   "outputs": [
    {
     "name": "stdout",
     "output_type": "stream",
     "text": [
      "6\n"
     ]
    }
   ],
   "source": [
    "# 四則計算 \n",
    "a = 1 + 2 + 3\n",
    "print(a)"
   ]
  },
  {
   "cell_type": "code",
   "execution_count": 2,
   "metadata": {},
   "outputs": [
    {
     "name": "stdout",
     "output_type": "stream",
     "text": [
      "7.0\n"
     ]
    }
   ],
   "source": [
    "# 四則計算\n",
    "a = (3*2 + 4*2)*(1/2)\n",
    "print(a)"
   ]
  },
  {
   "cell_type": "code",
   "execution_count": 3,
   "metadata": {},
   "outputs": [
    {
     "data": {
      "text/plain": [
       "27"
      ]
     },
     "execution_count": 3,
     "metadata": {},
     "output_type": "execute_result"
    }
   ],
   "source": [
    "# 四則計算\n",
    "(1+2)**3 #次方\n",
    "5//2 #商數\n",
    "5%2  #餘數"
   ]
  },
  {
   "cell_type": "code",
   "execution_count": 21,
   "metadata": {},
   "outputs": [
    {
     "data": {
      "text/plain": [
       "1"
      ]
     },
     "execution_count": 21,
     "metadata": {},
     "output_type": "execute_result"
    }
   ],
   "source": []
  },
  {
   "cell_type": "code",
   "execution_count": 6,
   "metadata": {
    "scrolled": true
   },
   "outputs": [
    {
     "name": "stdout",
     "output_type": "stream",
     "text": [
      "6\n",
      "6\n"
     ]
    }
   ],
   "source": [
    "# 下列兩種打法是等價的\n",
    "# 1\n",
    "a = 3\n",
    "a = a + 3\n",
    "print(a)\n",
    "# 2\n",
    "a = 3\n",
    "a += 3\n",
    "print(a)"
   ]
  },
  {
   "cell_type": "markdown",
   "metadata": {},
   "source": [
    "### 字串 `str()`\n",
    "如果是字串的話，也可以進行運算"
   ]
  },
  {
   "cell_type": "code",
   "execution_count": 23,
   "metadata": {},
   "outputs": [
    {
     "data": {
      "text/plain": [
       "'I lovePython'"
      ]
     },
     "execution_count": 23,
     "metadata": {},
     "output_type": "execute_result"
    }
   ],
   "source": [
    "'I love' + 'Python'"
   ]
  },
  {
   "cell_type": "code",
   "execution_count": 24,
   "metadata": {},
   "outputs": [
    {
     "data": {
      "text/plain": [
       "'14'"
      ]
     },
     "execution_count": 24,
     "metadata": {},
     "output_type": "execute_result"
    }
   ],
   "source": [
    "a = '1234567890'\n",
    "a[0:5:3]"
   ]
  },
  {
   "cell_type": "code",
   "execution_count": 25,
   "metadata": {},
   "outputs": [
    {
     "data": {
      "text/plain": [
       "'I love Python.'"
      ]
     },
     "execution_count": 25,
     "metadata": {},
     "output_type": "execute_result"
    }
   ],
   "source": [
    "'I ' + 'love ' + 'Python.' "
   ]
  },
  {
   "cell_type": "markdown",
   "metadata": {},
   "source": [
    "## 應用\n",
    "- 折現率與現值\n",
    "- 本金、利息與債務計算\n",
    "- 定期定額基金收益計算"
   ]
  },
  {
   "attachments": {},
   "cell_type": "markdown",
   "metadata": {},
   "source": [
    "### 折現率與現值\n",
    "1. 假設利率`(折現率)`為3%，現在的100元明年會變多少？\n",
    "2. 假設利率`(折現率)`為3%，現在的100元3年後會變多少？\n",
    "3. 假設利率`(折現率)`為3%，明年的103元在今年會變為多少(現值為多少)？\n",
    "\n",
    "### 解答\n",
    "1. $100 * (1 + 3\\%)$ 元\n",
    "2. $100 * (1 + 3\\%)^3$ 元\n",
    "3. $103 / (1 + 3\\%)$ 元"
   ]
  },
  {
   "cell_type": "code",
   "execution_count": 9,
   "metadata": {},
   "outputs": [
    {
     "name": "stdout",
     "output_type": "stream",
     "text": [
      "1.  103.0\n",
      "2.  109.2727\n",
      "3.  100.0\n"
     ]
    }
   ],
   "source": [
    "# 1.\n",
    "a = 100*(1+0.03)\n",
    "print('1. ',a)\n",
    "# 2.\n",
    "a = 100*(1+0.03)**(3)\n",
    "print('2. ',a)\n",
    "# 3.\n",
    "a = 103/(1+0.03)\n",
    "print('3. ',a)"
   ]
  },
  {
   "cell_type": "markdown",
   "metadata": {},
   "source": [
    "## 練習題：存款\n",
    "1. 假設當前利率為3%，現在將10萬元存入銀行，5年後會變成多少？\n",
    "2. 假設當前利率為6%，現在將10萬元存入銀行，5年後會變成多少？\n",
    "3. 根據上兩題的結果，請問6%的利率所產生的利息是3%的利率所產生的利息的幾倍？"
   ]
  },
  {
   "cell_type": "code",
   "execution_count": 12,
   "metadata": {},
   "outputs": [
    {
     "name": "stdout",
     "output_type": "stream",
     "text": [
      "五年後變成115927.41元\n",
      "五年後變成133822.56元\n",
      "2.12倍\n"
     ]
    }
   ],
   "source": [
    "# 第一題的答案\n",
    "a = 100000*(1+0.03)**5 \n",
    "print('五年後變成{:.2f}元'.format(a) )\n",
    "\n",
    "# 第二題的答案\n",
    "a = 100000*(1+0.06)**5\n",
    "print('五年後變成{:.2f}元'.format(a) )\n",
    "# 第三題的答案\n",
    "a = 100000*(1+0.03)**5-100000\n",
    "b = 100000*(1+0.06)**5-100000\n",
    "c = b/a\n",
    "print('{:.2f}倍'.format(c))\n"
   ]
  },
  {
   "cell_type": "markdown",
   "metadata": {},
   "source": [
    "## 練習題：定期定額基金\n",
    "1. 假設理專推薦一檔基金的固定年報酬率是2%，每年初繳交12000元，試問一年後可拿回多少現金？\n",
    "2. 假設理專推薦一檔基金的固定年報酬率是4%，每年初繳交12000元，試問一年後可拿回多少現金？\n",
    "3. 假設理專推薦一檔基金的固定年報酬率是2%，每年初繳交12000元，試問十年後可拿回多少現金？\n",
    "4. 假設理專推薦一檔基金的固定年報酬率是4%，每年初繳交12000元，試問十年後可拿回多少現金？"
   ]
  },
  {
   "cell_type": "code",
   "execution_count": 28,
   "metadata": {},
   "outputs": [
    {
     "name": "stdout",
     "output_type": "stream",
     "text": [
      "一年後可拿回12,240元\n",
      "一年後可拿回12,480元\n",
      "十年後可拿回134,024元\n",
      "十年後可拿回149,836元\n"
     ]
    }
   ],
   "source": [
    "#第一題答案\n",
    "a = 12000 * (1 + 0.02)\n",
    "print('一年後可拿回' + format(int(a),',') + '元')\n",
    "#第二題答案\n",
    "a = 12000 * (1 + 0.04)\n",
    "print('一年後可拿回' + format(int(a),',') + '元')\n",
    "#第三題答案\n",
    "a = 12000 * (1 + 0.02)**10 + 12000 * (1 + 0.02)**9 + 12000 * (1 + 0.02)**8 + 12000 * (1 + 0.02)**7 \\\n",
    "  + 12000 * (1 + 0.02)**6  + 12000 * (1 + 0.02)**5 + 12000 * (1 + 0.02)**4 + 12000 * (1 + 0.02)**3 \\\n",
    "  + 12000 * (1 + 0.02)**2  + 12000 * (1 + 0.02)**1\n",
    "print('十年後可拿回' + format(int(a),',') + '元')\n",
    "#第四題答案\n",
    "a = 12000 * (1 + 0.04)**10 + 12000 * (1 + 0.04)**9 + 12000 * (1 + 0.04)**8 + 12000 * (1 + 0.04)**7 \\\n",
    "  + 12000 * (1 + 0.04)**6  + 12000 * (1 + 0.04)**5 + 12000 * (1 + 0.04)**4 + 12000 * (1 + 0.04)**3 \\\n",
    "  + 12000 * (1 + 0.04)**2  + 12000 * (1 + 0.04)**1\n",
    "print('十年後可拿回' + format(int(a),',') + '元')\n"
   ]
  },
  {
   "cell_type": "markdown",
   "metadata": {},
   "source": [
    "### 進階數學運算\n",
    "我們可利用第三方套件 `math` 的函數進行運算\n",
    "- 指數與對數函數 `math.exp()` `math.log()`\n",
    "- 三角函數 `math.sin()`"
   ]
  },
  {
   "cell_type": "code",
   "execution_count": 29,
   "metadata": {},
   "outputs": [
    {
     "data": {
      "text/plain": [
       "7.38905609893065"
      ]
     },
     "execution_count": 29,
     "metadata": {},
     "output_type": "execute_result"
    }
   ],
   "source": [
    "import math #引用 math套件\n",
    "math.exp(2) "
   ]
  },
  {
   "cell_type": "code",
   "execution_count": 30,
   "metadata": {},
   "outputs": [
    {
     "data": {
      "text/plain": [
       "1.0"
      ]
     },
     "execution_count": 30,
     "metadata": {},
     "output_type": "execute_result"
    }
   ],
   "source": [
    "math.log(math.exp(1))"
   ]
  },
  {
   "cell_type": "code",
   "execution_count": 31,
   "metadata": {
    "scrolled": true
   },
   "outputs": [
    {
     "data": {
      "text/plain": [
       "0.0"
      ]
     },
     "execution_count": 31,
     "metadata": {},
     "output_type": "execute_result"
    }
   ],
   "source": [
    "math.sin(0)"
   ]
  },
  {
   "cell_type": "code",
   "execution_count": 32,
   "metadata": {},
   "outputs": [
    {
     "data": {
      "text/plain": [
       "3.141592653589793"
      ]
     },
     "execution_count": 32,
     "metadata": {},
     "output_type": "execute_result"
    }
   ],
   "source": [
    "math.pi"
   ]
  },
  {
   "cell_type": "code",
   "execution_count": 33,
   "metadata": {},
   "outputs": [
    {
     "data": {
      "text/plain": [
       "1.4142135623730951"
      ]
     },
     "execution_count": 33,
     "metadata": {},
     "output_type": "execute_result"
    }
   ],
   "source": [
    "math.sqrt(2)"
   ]
  },
  {
   "cell_type": "markdown",
   "metadata": {},
   "source": [
    "### 常用數學運算函數\n",
    "[更多函數說明連結](https://docs.python.org/3.7/library/math.html?highlight=import%20math)"
   ]
  },
  {
   "cell_type": "code",
   "execution_count": 34,
   "metadata": {},
   "outputs": [
    {
     "name": "stdout",
     "output_type": "stream",
     "text": [
      "149836.21689452333\n"
     ]
    }
   ],
   "source": [
    "math.ceil(2.3) \n",
    "math.floor(2.3)\n",
    "math.trunc(2.3)\n",
    "math.fabs(-2.3)\n",
    "math.fsum([1,1,1]) # [1,1,1]是串列型態(list)\n",
    "print(a)"
   ]
  },
  {
   "cell_type": "markdown",
   "metadata": {},
   "source": [
    "## 為何要使用math.fsum函數\n",
    "1. 試計算0.1加十次的結果，也就是`0.1+0.1+0.1+0.1+0.1+0.1+0.1+0.1+0.1+0.1 = ?`\n",
    "2. 試利用`math.fsum()`來計算上述算式。"
   ]
  },
  {
   "cell_type": "code",
   "execution_count": 2,
   "metadata": {},
   "outputs": [
    {
     "name": "stdout",
     "output_type": "stream",
     "text": [
      "0.9999999999999999\n",
      "1.0\n"
     ]
    }
   ],
   "source": [
    "# 第一題解答\n",
    "0.1+0.1+0.1+0.1+0.1+0.1+0.1+0.1+0.1+0.1\n",
    "a = [0.1,0.1,0.1,0.1,0.1,0.1,0.1,0.1,0.1,0.1]\n",
    "print(sum(a))\n",
    "# 第二題解答\n",
    "import math\n",
    "print(math.fsum(a))"
   ]
  },
  {
   "cell_type": "markdown",
   "metadata": {},
   "source": [
    "`math.fsum`可解決Python主程式對數字精確度的問題"
   ]
  },
  {
   "cell_type": "markdown",
   "metadata": {},
   "source": [
    "## 資料型態\n",
    "- 布林 (Bolean): `Ture` or `False`\n",
    "- 整數 (Integer)：`1,2,3`\n",
    "- 浮點數 (Float)：`1.0,2.3,3.2`\n",
    "- 字串 (String)：`'String', \"Python\", '中文也行'`\n"
   ]
  },
  {
   "cell_type": "code",
   "execution_count": 50,
   "metadata": {},
   "outputs": [],
   "source": [
    "a = 2"
   ]
  },
  {
   "cell_type": "code",
   "execution_count": 51,
   "metadata": {},
   "outputs": [
    {
     "data": {
      "text/plain": [
       "int"
      ]
     },
     "execution_count": 51,
     "metadata": {},
     "output_type": "execute_result"
    }
   ],
   "source": [
    "type(a)"
   ]
  },
  {
   "cell_type": "code",
   "execution_count": 52,
   "metadata": {},
   "outputs": [
    {
     "data": {
      "text/plain": [
       "float"
      ]
     },
     "execution_count": 52,
     "metadata": {},
     "output_type": "execute_result"
    }
   ],
   "source": [
    "a = 2.0\n",
    "type(a)"
   ]
  },
  {
   "cell_type": "code",
   "execution_count": 3,
   "metadata": {},
   "outputs": [
    {
     "data": {
      "text/plain": [
       "bool"
      ]
     },
     "execution_count": 3,
     "metadata": {},
     "output_type": "execute_result"
    }
   ],
   "source": [
    "a = True\n",
    "type(a)"
   ]
  },
  {
   "cell_type": "code",
   "execution_count": 7,
   "metadata": {},
   "outputs": [
    {
     "name": "stdout",
     "output_type": "stream",
     "text": [
      "False\n"
     ]
    },
    {
     "data": {
      "text/plain": [
       "bool"
      ]
     },
     "execution_count": 7,
     "metadata": {},
     "output_type": "execute_result"
    }
   ],
   "source": [
    "a = (2==1)\n",
    "print(a)\n",
    "type(a)"
   ]
  },
  {
   "cell_type": "code",
   "execution_count": 54,
   "metadata": {},
   "outputs": [
    {
     "data": {
      "text/plain": [
       "str"
      ]
     },
     "execution_count": 54,
     "metadata": {},
     "output_type": "execute_result"
    }
   ],
   "source": [
    "a = \"中文\"\n",
    "type(a)"
   ]
  },
  {
   "cell_type": "markdown",
   "metadata": {},
   "source": [
    "## 查詢與變換資料型態\n",
    "- `type()`\n",
    "- `int(), float(), str()`"
   ]
  },
  {
   "cell_type": "markdown",
   "metadata": {},
   "source": [
    "## 練習：三角函數\n",
    "1. 已知一直角三角形，三個角度分別為30,60,90，斜邊的長度為300，請問另外兩邊長度為何？\n",
    "2. 已知一等腰直角三角形的兩邊長分別為100,100，試問第三邊長為何？\n",
    "3. 計算下列算式\n",
    "$$\n",
    "\\sin(0)+\\sin(\\pi/2)+\\sin(\\pi)+\\sin(3/2\\pi)+\\sin(2\\pi)\n",
    "$$\n",
    "4. 計算下列算式\n",
    "$$\n",
    "\\cos(0)+\\cos(\\pi/2)+\\cos(\\pi)+\\cos(3/2\\pi)+\\cos(2\\pi)\n",
    "$$\n"
   ]
  },
  {
   "cell_type": "code",
   "execution_count": 19,
   "metadata": {},
   "outputs": [
    {
     "name": "stdout",
     "output_type": "stream",
     "text": [
      "另外兩邊長分別為150.00和259.81\n",
      "第三邊長為141.42\n",
      "答案為-0.0000\n",
      "答案為1.0000\n"
     ]
    }
   ],
   "source": [
    "#第一題答案\n",
    "import math\n",
    "a = 300/2\n",
    "b = 300/2*math.sqrt(3)\n",
    "print('另外兩邊長分別為'+'%.2f' % a + '和' + '%.2f' % b)\n",
    "# 第二題答案\n",
    "a = 100*math.sqrt(2)\n",
    "print('第三邊長為' + '%.2f' % a)\n",
    "# 第三題答案\n",
    "a = math.sin(0) + math.sin(math.pi*0.5) + math.sin(math.pi*1.5) + math.sin(math.pi*2)\n",
    "print('答案為' + '%.4f' % a)\n",
    "# 第四題答案\n",
    "a = math.sin(0) + math.cos(math.pi*0.5) + math.cos(math.pi*1.5) + math.cos(math.pi*2)\n",
    "print('答案為' + '%.4f' % a)\n"
   ]
  },
  {
   "cell_type": "markdown",
   "metadata": {},
   "source": [
    "## 練習：機率\n",
    "1. 投擲一公正銅板，出現正面與反面機率皆為0.5，連續投擲兩次，試問兩次都是正面的機率為何？\n",
    "2. 投擲一公正銅板，出現正面與反面機率皆為0.5，連續投擲兩次，試問兩次都是反面的機率為何？\n",
    "3. 投擲一公正銅板，出現正面與反面機率皆為0.5，連續投擲兩次，試問一正一反的機率為何？\n"
   ]
  },
  {
   "cell_type": "code",
   "execution_count": 27,
   "metadata": {},
   "outputs": [
    {
     "name": "stdout",
     "output_type": "stream",
     "text": [
      "兩次都是正面的機率0.2500\n",
      "兩次都是反面的機率0.2500\n",
      "一正面一反面的機率0.5000\n"
     ]
    }
   ],
   "source": [
    "#第一題答案\n",
    "print('兩次都是正面的機率' + '%.4f' % 0.5**2)\n",
    "#第二題答案\n",
    "print('兩次都是反面的機率' + '%.4f' % 0.5**2)\n",
    "#第三題答案\n",
    "print('一正面一反面的機率' + '%.4f' % (0.5**2*2) )"
   ]
  },
  {
   "cell_type": "markdown",
   "metadata": {},
   "source": [
    "## 練習：極限\n",
    "1. 假設公告年利率為5%，計算利息的頻率為一年，試問存款10萬，過了10年會變成多少？\n",
    "2. 假設公告年利率為5%，計算利息的頻率為一個月，試問存款10萬，過了10年會變成多少？\n",
    "3. 假設公告年利率為5%，計算利息的頻率為一天，試問存款10萬過了10年會變成多少？\n",
    "4. 假設公告年利率為5%，計算利息的頻率為無時無刻，試問存款10萬過了10年會變成多少？"
   ]
  },
  {
   "cell_type": "code",
   "execution_count": 36,
   "metadata": {},
   "outputs": [
    {
     "name": "stdout",
     "output_type": "stream",
     "text": [
      "162,889元\n",
      "164,700元\n",
      "164,866元\n",
      "164,872元\n"
     ]
    }
   ],
   "source": [
    "# 第一題答案\n",
    "a = 100000*(1+0.05)**10\n",
    "print(format(int(a),',') + '元')\n",
    "# 第二題答案\n",
    "a = 100000*(1+0.05/12)**120\n",
    "print(format(int(a),',') + '元')\n",
    "# 第三題答案\n",
    "a = 100000*(1+0.05/365)**(10*365)\n",
    "print(format(int(a),',') + '元')\n",
    "# 第四題答案\n",
    "import math\n",
    "a = 100000*math.exp(0.05*10)\n",
    "print(format(int(a),',') + '元')\n",
    "\n"
   ]
  },
  {
   "cell_type": "markdown",
   "metadata": {},
   "source": [
    "## 練習：統計常見機率函數\n",
    "### 二項分布機率質量函數\n",
    "$$\n",
    "f(x) = \\frac{n!}{x!(n-x)!}p^x(1-p)^{(n-x)}\n",
    "$$\n",
    "### 常態分佈機率密度函數\n",
    "$$\n",
    "f(x) = (\\frac{1}{\\sqrt{2\\pi\\sigma^2}})\\exp(\\frac{-(x-\\mu)^2}{2\\sigma^2})\n",
    "$$\n",
    "### 標準常態機率密度函數\n",
    "設定$\\mu=0$和$\\sigma=1$，可得下列函數\n",
    "$$\n",
    "f(x) = (\\frac{1}{\\sqrt{2\\pi}})\\exp(\\frac{-x^2}{2})\n",
    "$$\n",
    "### 練習題\n",
    "1. 計算二項分布下，當$n=10, p=0.2, x=2$的機率為何？\n",
    "2. 計算標準常態分配下，$x = 1$，機率密度函數各是多少？\n",
    "3. 計算常態分配 ($\\mu=1, \\sigma=4$)下，$x = 0$，機率密度函數各是多少？"
   ]
  },
  {
   "cell_type": "code",
   "execution_count": 1,
   "metadata": {},
   "outputs": [],
   "source": [
    "# 引入需要套件\n",
    "import math "
   ]
  },
  {
   "cell_type": "code",
   "execution_count": 38,
   "metadata": {},
   "outputs": [
    {
     "data": {
      "text/plain": [
       "24.0"
      ]
     },
     "execution_count": 38,
     "metadata": {},
     "output_type": "execute_result"
    }
   ],
   "source": [
    "math.gamma(5) # gamma(5) = 4!"
   ]
  },
  {
   "cell_type": "code",
   "execution_count": 39,
   "metadata": {},
   "outputs": [
    {
     "name": "stdout",
     "output_type": "stream",
     "text": [
      "0.3020\n"
     ]
    }
   ],
   "source": [
    "# 第一題，x=2\n",
    "n = 10\n",
    "p = 0.2\n",
    "x = 2\n",
    "a = p**x\n",
    "b = (1-p)**(n-x)\n",
    "c = math.gamma(11)/(math.gamma(x+1)*math.gamma(n-x+1))\n",
    "prob = c*a*b\n",
    "print(format(prob,'0.4f'))"
   ]
  },
  {
   "cell_type": "code",
   "execution_count": 40,
   "metadata": {},
   "outputs": [
    {
     "name": "stdout",
     "output_type": "stream",
     "text": [
      "0.2420\n"
     ]
    }
   ],
   "source": [
    "# 第二題，x=1\n",
    "import math\n",
    "a = 1/math.sqrt(2*math.pi)\n",
    "x = -1\n",
    "f = a * math.exp(-(x**2)/2)\n",
    "print(format(f,'0.4f'))\n"
   ]
  },
  {
   "cell_type": "code",
   "execution_count": 41,
   "metadata": {},
   "outputs": [
    {
     "name": "stdout",
     "output_type": "stream",
     "text": [
      "0.0967\n"
     ]
    }
   ],
   "source": [
    "# 第二題，x=0\n",
    "# 參數設定\n",
    "mu = 1\n",
    "sigma = 4\n",
    "# 常數計算\n",
    "a = 1/math.sqrt(2*math.pi*(sigma**2))\n",
    "x = 0\n",
    "f = a * math.exp(-((x-mu)**2)/(2*(sigma**2)))\n",
    "print(format(f,'.4f'))"
   ]
  },
  {
   "cell_type": "markdown",
   "metadata": {},
   "source": [
    "## 其實有更快的算法\n",
    "- 引用scipy.stats套件處理基本統計問題\n",
    "- 計算二項分布的機率質量函數`scipy.stats.binom.pmf(x,n,p)`\n",
    "- 計算常態分布的機率密度函數`scipy.stats.norm.pdf(x,mu,sigma)`"
   ]
  },
  {
   "cell_type": "code",
   "execution_count": 5,
   "metadata": {},
   "outputs": [],
   "source": [
    "# 引入更直接的套件\n",
    "import scipy.stats as stat"
   ]
  },
  {
   "cell_type": "code",
   "execution_count": 6,
   "metadata": {},
   "outputs": [
    {
     "name": "stdout",
     "output_type": "stream",
     "text": [
      "0.3020\n",
      "0.2420\n",
      "0.0967\n"
     ]
    }
   ],
   "source": [
    "# 第一題，x=2\n",
    "a = stat.binom.pmf(2,10,0.2)\n",
    "print(format(a,'.4f'))\n",
    "# 第二題 x=1\n",
    "a = stat.norm.pdf(1,0,1)\n",
    "print(format(a,'.4f'))\n",
    "# 第三題 x=0\n",
    "a = stat.norm.pdf(0,1,4)\n",
    "print(format(a,'.4f'))"
   ]
  },
  {
   "cell_type": "markdown",
   "metadata": {},
   "source": [
    "整數的長度可以無限長，例如："
   ]
  },
  {
   "cell_type": "code",
   "execution_count": 44,
   "metadata": {},
   "outputs": [
    {
     "data": {
      "text/plain": [
       "3849231470129387410324918237489012934712098374102343215"
      ]
     },
     "execution_count": 44,
     "metadata": {},
     "output_type": "execute_result"
    }
   ],
   "source": [
    "3849231470129387410324918237489012934712098374102343214+1"
   ]
  },
  {
   "cell_type": "markdown",
   "metadata": {},
   "source": [
    "## 如何查詢其他函數\n",
    "當我們引用math套件，我們會想知道此套件的其他函數的使用方式。\n",
    "\n",
    "除了可以上網google，通常會找到Python的幫助文件。\n",
    "\n",
    "我們也可以直接在這個介面查詢，善用help()互動介面\n",
    "\n",
    "查完記得要退出，輸入quit即可"
   ]
  }
 ],
 "metadata": {
  "kernelspec": {
   "display_name": "base",
   "language": "python",
   "name": "python3"
  },
  "language_info": {
   "codemirror_mode": {
    "name": "ipython",
    "version": 3
   },
   "file_extension": ".py",
   "mimetype": "text/x-python",
   "name": "python",
   "nbconvert_exporter": "python",
   "pygments_lexer": "ipython3",
   "version": "3.9.12"
  },
  "vscode": {
   "interpreter": {
    "hash": "db0008f7eb404ccfc6667609493a8f6352cbf7e78d7d4acc2f91e6a3cee44ba2"
   }
  }
 },
 "nbformat": 4,
 "nbformat_minor": 2
}
