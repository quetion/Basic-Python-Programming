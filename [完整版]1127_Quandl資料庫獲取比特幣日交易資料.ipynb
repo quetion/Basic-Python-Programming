{
 "cells": [
  {
   "cell_type": "markdown",
   "metadata": {},
   "source": [
    "## 利用Quandl資料庫，抓取每日比特幣價格\n",
    "- 進入Quandl[網站](https://www.quandl.com/)\n",
    "- 在`Anaconda Prompt`(cmd模式)下輸入`conda install quandl` 安裝最新版本Quandl套件 (or `pip install quandl`)\n",
    "- `import quandl`:匯入套件\n",
    "- `quandl.get()`:匯入資料指令(A, authtoken='')\n",
    "- A 是資料(交易所/幣別)\n",
    "- authtoken = 'MUWGeLUFUh1sBZM4baPU', 按照網頁指示輸入API key。"
   ]
  },
  {
   "cell_type": "code",
   "execution_count": 1,
   "metadata": {},
   "outputs": [],
   "source": [
    "import quandl"
   ]
  },
  {
   "cell_type": "code",
   "execution_count": 2,
   "metadata": {},
   "outputs": [],
   "source": [
    "data = quandl.get(\"BITFINEX/BTCUSD\", authtoken=\"MUWGeLUFUh1sBZM4baPU\")"
   ]
  },
  {
   "cell_type": "markdown",
   "metadata": {},
   "source": [
    "### 進行資料檢查\n",
    "- `.head()`,`.tail()`:基本上能抓到前兩天的日資料\n",
    "- `len()`: 約1500多筆"
   ]
  },
  {
   "cell_type": "code",
   "execution_count": 6,
   "metadata": {
    "scrolled": true
   },
   "outputs": [
    {
     "data": {
      "text/html": [
       "<div>\n",
       "<style scoped>\n",
       "    .dataframe tbody tr th:only-of-type {\n",
       "        vertical-align: middle;\n",
       "    }\n",
       "\n",
       "    .dataframe tbody tr th {\n",
       "        vertical-align: top;\n",
       "    }\n",
       "\n",
       "    .dataframe thead th {\n",
       "        text-align: right;\n",
       "    }\n",
       "</style>\n",
       "<table border=\"1\" class=\"dataframe\">\n",
       "  <thead>\n",
       "    <tr style=\"text-align: right;\">\n",
       "      <th></th>\n",
       "      <th>High</th>\n",
       "      <th>Low</th>\n",
       "      <th>Mid</th>\n",
       "      <th>Last</th>\n",
       "      <th>Bid</th>\n",
       "      <th>Ask</th>\n",
       "      <th>Volume</th>\n",
       "    </tr>\n",
       "    <tr>\n",
       "      <th>Date</th>\n",
       "      <th></th>\n",
       "      <th></th>\n",
       "      <th></th>\n",
       "      <th></th>\n",
       "      <th></th>\n",
       "      <th></th>\n",
       "      <th></th>\n",
       "    </tr>\n",
       "  </thead>\n",
       "  <tbody>\n",
       "    <tr>\n",
       "      <th>2018-11-21</th>\n",
       "      <td>4787.3</td>\n",
       "      <td>4412.300000</td>\n",
       "      <td>4690.15</td>\n",
       "      <td>4690.1</td>\n",
       "      <td>4690.1</td>\n",
       "      <td>4690.2</td>\n",
       "      <td>44238.211258</td>\n",
       "    </tr>\n",
       "    <tr>\n",
       "      <th>2018-11-22</th>\n",
       "      <td>4723.7</td>\n",
       "      <td>4357.741575</td>\n",
       "      <td>4432.65</td>\n",
       "      <td>4432.7</td>\n",
       "      <td>4432.6</td>\n",
       "      <td>4432.7</td>\n",
       "      <td>27691.710076</td>\n",
       "    </tr>\n",
       "    <tr>\n",
       "      <th>2018-11-23</th>\n",
       "      <td>4495.0</td>\n",
       "      <td>4210.000000</td>\n",
       "      <td>4426.65</td>\n",
       "      <td>4426.7</td>\n",
       "      <td>4426.6</td>\n",
       "      <td>4426.7</td>\n",
       "      <td>36087.188513</td>\n",
       "    </tr>\n",
       "    <tr>\n",
       "      <th>2018-11-24</th>\n",
       "      <td>4529.0</td>\n",
       "      <td>3819.400000</td>\n",
       "      <td>3966.15</td>\n",
       "      <td>3966.2</td>\n",
       "      <td>3966.1</td>\n",
       "      <td>3966.2</td>\n",
       "      <td>50638.093977</td>\n",
       "    </tr>\n",
       "    <tr>\n",
       "      <th>2018-11-25</th>\n",
       "      <td>4233.2</td>\n",
       "      <td>3657.600000</td>\n",
       "      <td>4116.35</td>\n",
       "      <td>4116.4</td>\n",
       "      <td>4116.3</td>\n",
       "      <td>4116.4</td>\n",
       "      <td>82033.017941</td>\n",
       "    </tr>\n",
       "  </tbody>\n",
       "</table>\n",
       "</div>"
      ],
      "text/plain": [
       "              High          Low      Mid    Last     Bid     Ask        Volume\n",
       "Date                                                                          \n",
       "2018-11-21  4787.3  4412.300000  4690.15  4690.1  4690.1  4690.2  44238.211258\n",
       "2018-11-22  4723.7  4357.741575  4432.65  4432.7  4432.6  4432.7  27691.710076\n",
       "2018-11-23  4495.0  4210.000000  4426.65  4426.7  4426.6  4426.7  36087.188513\n",
       "2018-11-24  4529.0  3819.400000  3966.15  3966.2  3966.1  3966.2  50638.093977\n",
       "2018-11-25  4233.2  3657.600000  4116.35  4116.4  4116.3  4116.4  82033.017941"
      ]
     },
     "execution_count": 6,
     "metadata": {},
     "output_type": "execute_result"
    }
   ],
   "source": [
    "data.head()\n",
    "data.tail()"
   ]
  },
  {
   "cell_type": "code",
   "execution_count": 19,
   "metadata": {},
   "outputs": [
    {
     "data": {
      "text/plain": [
       "1571"
      ]
     },
     "execution_count": 19,
     "metadata": {},
     "output_type": "execute_result"
    }
   ],
   "source": [
    "len(data)"
   ]
  },
  {
   "cell_type": "code",
   "execution_count": 8,
   "metadata": {},
   "outputs": [],
   "source": [
    "import matplotlib.pyplot as plt"
   ]
  },
  {
   "cell_type": "code",
   "execution_count": 10,
   "metadata": {},
   "outputs": [
    {
     "data": {
      "text/plain": [
       "[<matplotlib.lines.Line2D at 0x17f68745ac8>]"
      ]
     },
     "execution_count": 10,
     "metadata": {},
     "output_type": "execute_result"
    },
    {
     "data": {
      "image/png": "[encoded data removed]",
      "text/plain": [
       "<Figure size 432x288 with 1 Axes>"
      ]
     },
     "metadata": {
      "needs_background": "light"
     },
     "output_type": "display_data"
    }
   ],
   "source": [
    "plt.plot(data.Last[1000:])"
   ]
  },
  {
   "cell_type": "markdown",
   "metadata": {},
   "source": [
    "### 可討論議題\n",
    "- 比特幣的報酬率分布 (厚尾現象是否存在?)\n",
    "- 比特幣在跌勢時波動較大，還是在漲勢時波動較大 (股票在跌勢時波動較大，特別在大跌。比較\"比特幣\"現象與股票是否相同)\n",
    "- 比特幣與股票市場的價格或報酬率走勢是否具相關性？為什麼？\n",
    "- 比特幣的價格與交易量之間的關係。\n",
    "- 根據上述結論是否能建構一投資策略，並針對此投資策略進行回測。"
   ]
  },
  {
   "cell_type": "code",
   "execution_count": null,
   "metadata": {},
   "outputs": [],
   "source": []
  }
 ],
 "metadata": {
  "kernelspec": {
   "display_name": "Python 3",
   "language": "python",
   "name": "python3"
  },
  "language_info": {
   "codemirror_mode": {
    "name": "ipython",
    "version": 3
   },
   "file_extension": ".py",
   "mimetype": "text/x-python",
   "name": "python",
   "nbconvert_exporter": "python",
   "pygments_lexer": "ipython3",
   "version": "3.7.0"
  }
 },
 "nbformat": 4,
 "nbformat_minor": 2
}
