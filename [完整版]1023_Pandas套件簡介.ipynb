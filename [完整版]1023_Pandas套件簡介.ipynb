{
 "cells": [
  {
   "cell_type": "code",
   "execution_count": 1,
   "metadata": {},
   "outputs": [],
   "source": [
    "%matplotlib inline\n",
    "import numpy as np\n",
    "import matplotlib.pyplot as plt"
   ]
  },
  {
   "cell_type": "markdown",
   "metadata": {},
   "source": [
    "## Pandas簡介\n",
    "這是資料分析最重要的套件之一，其中兩個最常見也是最重要的資料型態是\n",
    "1. series    (類似list)\n",
    "2. dataframe (excel中的試算表)"
   ]
  },
  {
   "cell_type": "code",
   "execution_count": 2,
   "metadata": {},
   "outputs": [],
   "source": [
    "import pandas as pd #匯入pandas套件"
   ]
  },
  {
   "cell_type": "markdown",
   "metadata": {},
   "source": [
    "## 匯入資料利用Pandas進行資料分析\n",
    "- 確認資料夾中檔案 `^GSPC.csv`\n",
    "- 讀取`csv`檔：`pd.read_csv`\n",
    "- 確認讀進去的資料型態\n",
    "- 初步檢查資料內容: `data.head()`;`data.tail()`\n"
   ]
  },
  {
   "cell_type": "code",
   "execution_count": null,
   "metadata": {
    "scrolled": false
   },
   "outputs": [],
   "source": [
    "%ls \n",
    "#魔術指令，查詢資料夾的所有資料"
   ]
  },
  {
   "cell_type": "markdown",
   "metadata": {},
   "source": [
    "### 股價資料獲取：[Yahoo財經](https://finance.yahoo.com/)\n",
    "1. 輸入股票代碼 (例如：^GSPC, AAPL, IBM)\n",
    "2. 選擇時間範圍\n",
    "3. 下載(`Download`)檔案(`.csv`)\n",
    "4. 資料存放在同一資料夾\n",
    "5. 匯入資料 (`pd.read_csv(\"檔案名稱\")`)"
   ]
  },
  {
   "cell_type": "code",
   "execution_count": 3,
   "metadata": {},
   "outputs": [
    {
     "data": {
      "text/html": [
       "<div>\n",
       "<style scoped>\n",
       "    .dataframe tbody tr th:only-of-type {\n",
       "        vertical-align: middle;\n",
       "    }\n",
       "\n",
       "    .dataframe tbody tr th {\n",
       "        vertical-align: top;\n",
       "    }\n",
       "\n",
       "    .dataframe thead th {\n",
       "        text-align: right;\n",
       "    }\n",
       "</style>\n",
       "<table border=\"1\" class=\"dataframe\">\n",
       "  <thead>\n",
       "    <tr style=\"text-align: right;\">\n",
       "      <th></th>\n",
       "      <th>Date</th>\n",
       "      <th>Open</th>\n",
       "      <th>High</th>\n",
       "      <th>Low</th>\n",
       "      <th>Close</th>\n",
       "      <th>Adj Close</th>\n",
       "      <th>Volume</th>\n",
       "    </tr>\n",
       "  </thead>\n",
       "  <tbody>\n",
       "    <tr>\n",
       "      <th>246</th>\n",
       "      <td>2018-10-15</td>\n",
       "      <td>2763.830078</td>\n",
       "      <td>2775.989990</td>\n",
       "      <td>2749.030029</td>\n",
       "      <td>2750.790039</td>\n",
       "      <td>2750.790039</td>\n",
       "      <td>3300140000</td>\n",
       "    </tr>\n",
       "    <tr>\n",
       "      <th>247</th>\n",
       "      <td>2018-10-16</td>\n",
       "      <td>2767.050049</td>\n",
       "      <td>2813.459961</td>\n",
       "      <td>2766.909912</td>\n",
       "      <td>2809.919922</td>\n",
       "      <td>2809.919922</td>\n",
       "      <td>3428340000</td>\n",
       "    </tr>\n",
       "    <tr>\n",
       "      <th>248</th>\n",
       "      <td>2018-10-17</td>\n",
       "      <td>2811.669922</td>\n",
       "      <td>2816.939941</td>\n",
       "      <td>2781.810059</td>\n",
       "      <td>2809.209961</td>\n",
       "      <td>2809.209961</td>\n",
       "      <td>3321710000</td>\n",
       "    </tr>\n",
       "    <tr>\n",
       "      <th>249</th>\n",
       "      <td>2018-10-18</td>\n",
       "      <td>2802.000000</td>\n",
       "      <td>2806.040039</td>\n",
       "      <td>2755.179932</td>\n",
       "      <td>2768.780029</td>\n",
       "      <td>2768.780029</td>\n",
       "      <td>3616440000</td>\n",
       "    </tr>\n",
       "    <tr>\n",
       "      <th>250</th>\n",
       "      <td>2018-10-19</td>\n",
       "      <td>2775.659912</td>\n",
       "      <td>2797.770020</td>\n",
       "      <td>2760.270020</td>\n",
       "      <td>2767.780029</td>\n",
       "      <td>2767.780029</td>\n",
       "      <td>3566490000</td>\n",
       "    </tr>\n",
       "  </tbody>\n",
       "</table>\n",
       "</div>"
      ],
      "text/plain": [
       "           Date         Open         High          Low        Close  \\\n",
       "246  2018-10-15  2763.830078  2775.989990  2749.030029  2750.790039   \n",
       "247  2018-10-16  2767.050049  2813.459961  2766.909912  2809.919922   \n",
       "248  2018-10-17  2811.669922  2816.939941  2781.810059  2809.209961   \n",
       "249  2018-10-18  2802.000000  2806.040039  2755.179932  2768.780029   \n",
       "250  2018-10-19  2775.659912  2797.770020  2760.270020  2767.780029   \n",
       "\n",
       "       Adj Close      Volume  \n",
       "246  2750.790039  3300140000  \n",
       "247  2809.919922  3428340000  \n",
       "248  2809.209961  3321710000  \n",
       "249  2768.780029  3616440000  \n",
       "250  2767.780029  3566490000  "
      ]
     },
     "execution_count": 3,
     "metadata": {},
     "output_type": "execute_result"
    }
   ],
   "source": [
    "data = pd.read_csv(\"^GSPC.csv\")\n",
    "data.tail()"
   ]
  },
  {
   "cell_type": "code",
   "execution_count": 6,
   "metadata": {},
   "outputs": [
    {
     "data": {
      "text/plain": [
       "array(['2017-10-23', '2017-10-24', '2017-10-25', '2017-10-26',\n",
       "       '2017-10-27', '2017-10-30', '2017-10-31', '2017-11-01',\n",
       "       '2017-11-02', '2017-11-03', '2017-11-06', '2017-11-07',\n",
       "       '2017-11-08', '2017-11-09', '2017-11-10', '2017-11-13',\n",
       "       '2017-11-14', '2017-11-15', '2017-11-16', '2017-11-17',\n",
       "       '2017-11-20', '2017-11-21', '2017-11-22', '2017-11-24',\n",
       "       '2017-11-27', '2017-11-28', '2017-11-29', '2017-11-30',\n",
       "       '2017-12-01', '2017-12-04', '2017-12-05', '2017-12-06',\n",
       "       '2017-12-07', '2017-12-08', '2017-12-11', '2017-12-12',\n",
       "       '2017-12-13', '2017-12-14', '2017-12-15', '2017-12-18',\n",
       "       '2017-12-19', '2017-12-20', '2017-12-21', '2017-12-22',\n",
       "       '2017-12-26', '2017-12-27', '2017-12-28', '2017-12-29',\n",
       "       '2018-01-02', '2018-01-03', '2018-01-04', '2018-01-05',\n",
       "       '2018-01-08', '2018-01-09', '2018-01-10', '2018-01-11',\n",
       "       '2018-01-12', '2018-01-16', '2018-01-17', '2018-01-18',\n",
       "       '2018-01-19', '2018-01-22', '2018-01-23', '2018-01-24',\n",
       "       '2018-01-25', '2018-01-26', '2018-01-29', '2018-01-30',\n",
       "       '2018-01-31', '2018-02-01', '2018-02-02', '2018-02-05',\n",
       "       '2018-02-06', '2018-02-07', '2018-02-08', '2018-02-09',\n",
       "       '2018-02-12', '2018-02-13', '2018-02-14', '2018-02-15',\n",
       "       '2018-02-16', '2018-02-20', '2018-02-21', '2018-02-22',\n",
       "       '2018-02-23', '2018-02-26', '2018-02-27', '2018-02-28',\n",
       "       '2018-03-01', '2018-03-02', '2018-03-05', '2018-03-06',\n",
       "       '2018-03-07', '2018-03-08', '2018-03-09', '2018-03-12',\n",
       "       '2018-03-13', '2018-03-14', '2018-03-15', '2018-03-16',\n",
       "       '2018-03-19', '2018-03-20', '2018-03-21', '2018-03-22',\n",
       "       '2018-03-23', '2018-03-26', '2018-03-27', '2018-03-28',\n",
       "       '2018-03-29', '2018-04-02', '2018-04-03', '2018-04-04',\n",
       "       '2018-04-05', '2018-04-06', '2018-04-09', '2018-04-10',\n",
       "       '2018-04-11', '2018-04-12', '2018-04-13', '2018-04-16',\n",
       "       '2018-04-17', '2018-04-18', '2018-04-19', '2018-04-20',\n",
       "       '2018-04-23', '2018-04-24', '2018-04-25', '2018-04-26',\n",
       "       '2018-04-27', '2018-04-30', '2018-05-01', '2018-05-02',\n",
       "       '2018-05-03', '2018-05-04', '2018-05-07', '2018-05-08',\n",
       "       '2018-05-09', '2018-05-10', '2018-05-11', '2018-05-14',\n",
       "       '2018-05-15', '2018-05-16', '2018-05-17', '2018-05-18',\n",
       "       '2018-05-21', '2018-05-22', '2018-05-23', '2018-05-24',\n",
       "       '2018-05-25', '2018-05-29', '2018-05-30', '2018-05-31',\n",
       "       '2018-06-01', '2018-06-04', '2018-06-05', '2018-06-06',\n",
       "       '2018-06-07', '2018-06-08', '2018-06-11', '2018-06-12',\n",
       "       '2018-06-13', '2018-06-14', '2018-06-15', '2018-06-18',\n",
       "       '2018-06-19', '2018-06-20', '2018-06-21', '2018-06-22',\n",
       "       '2018-06-25', '2018-06-26', '2018-06-27', '2018-06-28',\n",
       "       '2018-06-29', '2018-07-02', '2018-07-03', '2018-07-05',\n",
       "       '2018-07-06', '2018-07-09', '2018-07-10', '2018-07-11',\n",
       "       '2018-07-12', '2018-07-13', '2018-07-16', '2018-07-17',\n",
       "       '2018-07-18', '2018-07-19', '2018-07-20', '2018-07-23',\n",
       "       '2018-07-24', '2018-07-25', '2018-07-26', '2018-07-27',\n",
       "       '2018-07-30', '2018-07-31', '2018-08-01', '2018-08-02',\n",
       "       '2018-08-03', '2018-08-06', '2018-08-07', '2018-08-08',\n",
       "       '2018-08-09', '2018-08-10', '2018-08-13', '2018-08-14',\n",
       "       '2018-08-15', '2018-08-16', '2018-08-17', '2018-08-20',\n",
       "       '2018-08-21', '2018-08-22', '2018-08-23', '2018-08-24',\n",
       "       '2018-08-27', '2018-08-28', '2018-08-29', '2018-08-30',\n",
       "       '2018-08-31', '2018-09-04', '2018-09-05', '2018-09-06',\n",
       "       '2018-09-07', '2018-09-10', '2018-09-11', '2018-09-12',\n",
       "       '2018-09-13', '2018-09-14', '2018-09-17', '2018-09-18',\n",
       "       '2018-09-19', '2018-09-20', '2018-09-21', '2018-09-24',\n",
       "       '2018-09-25', '2018-09-26', '2018-09-27', '2018-09-28',\n",
       "       '2018-10-01', '2018-10-02', '2018-10-03', '2018-10-04',\n",
       "       '2018-10-05', '2018-10-08', '2018-10-09', '2018-10-10',\n",
       "       '2018-10-11', '2018-10-12', '2018-10-15', '2018-10-16',\n",
       "       '2018-10-17', '2018-10-18', '2018-10-19'], dtype=object)"
      ]
     },
     "execution_count": 6,
     "metadata": {},
     "output_type": "execute_result"
    }
   ],
   "source": []
  },
  {
   "cell_type": "markdown",
   "metadata": {},
   "source": [
    "### 列出檔案內容 (`!type`)\n",
    "- 若是在Unix系統，則輸入`!cat`"
   ]
  },
  {
   "cell_type": "code",
   "execution_count": null,
   "metadata": {},
   "outputs": [],
   "source": [
    "# 列出檔案內容\n",
    "!type MSFT.csv"
   ]
  },
  {
   "cell_type": "code",
   "execution_count": null,
   "metadata": {
    "scrolled": false
   },
   "outputs": [],
   "source": [
    "data.head(5) #只列出前5項"
   ]
  },
  {
   "cell_type": "markdown",
   "metadata": {},
   "source": [
    "***若只想檢查某欄位的資料***"
   ]
  },
  {
   "cell_type": "code",
   "execution_count": null,
   "metadata": {},
   "outputs": [],
   "source": [
    "data[\"Adj Close\"].head()"
   ]
  },
  {
   "cell_type": "code",
   "execution_count": null,
   "metadata": {},
   "outputs": [],
   "source": [
    "data.Volume.head() "
   ]
  },
  {
   "cell_type": "markdown",
   "metadata": {},
   "source": [
    "## 基本敘述統計量\n",
    "- 平均數 `mean`\n",
    "- 標準差 `std`\n",
    "- 偏態 `skew`\n",
    "- 峰態 `kurt`\n",
    "- 以上所有 `describe`"
   ]
  },
  {
   "cell_type": "code",
   "execution_count": null,
   "metadata": {},
   "outputs": [],
   "source": [
    "# 將資料抽出一列就會變成numpy.ndarray\n",
    "price = data.Close.values"
   ]
  },
  {
   "cell_type": "code",
   "execution_count": null,
   "metadata": {
    "scrolled": true
   },
   "outputs": [],
   "source": [
    "type(price)"
   ]
  },
  {
   "cell_type": "code",
   "execution_count": null,
   "metadata": {},
   "outputs": [],
   "source": [
    "price[:5]"
   ]
  },
  {
   "cell_type": "code",
   "execution_count": null,
   "metadata": {},
   "outputs": [],
   "source": [
    "data.mean() #所有的各自平均"
   ]
  },
  {
   "cell_type": "code",
   "execution_count": null,
   "metadata": {},
   "outputs": [],
   "source": [
    "data.std() #所有科目的各自標準差"
   ]
  },
  {
   "cell_type": "code",
   "execution_count": null,
   "metadata": {
    "scrolled": false
   },
   "outputs": [],
   "source": [
    "data.describe()  "
   ]
  },
  {
   "cell_type": "markdown",
   "metadata": {},
   "source": [
    "### 相關係數 (`corr`)\n",
    "- `data.corr()` 相關係數矩陣\n",
    "- `data.Volume.corr(data.Close)` 指定兩個變數的相關係數"
   ]
  },
  {
   "cell_type": "code",
   "execution_count": null,
   "metadata": {},
   "outputs": [],
   "source": [
    "data.corr()"
   ]
  },
  {
   "cell_type": "code",
   "execution_count": null,
   "metadata": {},
   "outputs": [],
   "source": [
    "data.Volume.corr(data.Close) "
   ]
  },
  {
   "cell_type": "markdown",
   "metadata": {},
   "source": [
    "### 增加新欄位 `data['XXX'] = ...`\n",
    "- 差分 (`.diff(1)`)：後項減去前項\n",
    "- 行加總 `sum(0)` or 列加總 `sum(1)` "
   ]
  },
  {
   "cell_type": "code",
   "execution_count": null,
   "metadata": {},
   "outputs": [],
   "source": [
    "# 同時間計算\n",
    "data[\"weighted price\"] = data.Open*0.5 + data.Close*0.5"
   ]
  },
  {
   "cell_type": "code",
   "execution_count": null,
   "metadata": {},
   "outputs": [],
   "source": [
    "# 跨時間計算\n",
    "data[\"return\"] = data[\"Close\"].diff(1)/data[\"Close\"]"
   ]
  },
  {
   "cell_type": "code",
   "execution_count": null,
   "metadata": {},
   "outputs": [],
   "source": [
    "data"
   ]
  },
  {
   "cell_type": "code",
   "execution_count": null,
   "metadata": {
    "scrolled": true
   },
   "outputs": [],
   "source": [
    "test = pd.DataFrame(np.random.randn(100,4))"
   ]
  },
  {
   "cell_type": "code",
   "execution_count": null,
   "metadata": {},
   "outputs": [],
   "source": [
    "test.tail()"
   ]
  },
  {
   "cell_type": "code",
   "execution_count": null,
   "metadata": {},
   "outputs": [],
   "source": [
    "test.sum(0)"
   ]
  },
  {
   "cell_type": "code",
   "execution_count": null,
   "metadata": {},
   "outputs": [],
   "source": [
    "test.sum(1)"
   ]
  },
  {
   "cell_type": "markdown",
   "metadata": {},
   "source": [
    "### 刪除欄位 \n",
    "- `data.drop('XXX', axis=1)` 刪除行變數XXX"
   ]
  },
  {
   "cell_type": "code",
   "execution_count": null,
   "metadata": {},
   "outputs": [],
   "source": [
    "data = data.drop(\"weighted price\",axis=1)"
   ]
  },
  {
   "cell_type": "code",
   "execution_count": null,
   "metadata": {
    "scrolled": true
   },
   "outputs": [],
   "source": [
    "data.head()"
   ]
  },
  {
   "cell_type": "markdown",
   "metadata": {},
   "source": [
    "### 練習\n",
    "1. 下載蘋果公司(AAPL)過去一年的每日股價\n",
    "2. 將資料匯入 (`pd.read_csv()`)\n",
    "3. 計算這家公司的平均數、標準差、最小值與最大值、第一四分位數、第三四分位數 (`describe()`)。\n",
    "4. 計算這家公司的交易量與收盤價的相關係數 (`corr`)。\n",
    "5. 計算蘋果的日報酬率為何？(`增加欄位`)"
   ]
  },
  {
   "cell_type": "markdown",
   "metadata": {},
   "source": [
    "## Pandas作圖\n",
    "- 趨勢圖 `plot`\n",
    "- 直方圖 `hist`"
   ]
  },
  {
   "cell_type": "code",
   "execution_count": null,
   "metadata": {
    "scrolled": true
   },
   "outputs": [],
   "source": [
    "data['Adj Close'].plot() "
   ]
  },
  {
   "cell_type": "code",
   "execution_count": null,
   "metadata": {
    "scrolled": false
   },
   "outputs": [],
   "source": [
    "data.Close.hist(bins=15) #直方圖 bins:區間個數"
   ]
  },
  {
   "cell_type": "markdown",
   "metadata": {},
   "source": [
    "### 練習\n",
    "1. 畫出S&P500大盤(`^GSPC`)的價格(收盤價`Close`)走勢圖\n",
    "2. 畫出S&P500大盤的日報酬率走勢圖\n",
    "3. 畫出台灣加權指數(`^TWII`)的價格走勢圖"
   ]
  },
  {
   "cell_type": "markdown",
   "metadata": {},
   "source": [
    "## Pandas資料排序\n",
    "- 按照報酬率排序\n",
    "- 由大到小排序\n",
    "- 只列出前10項"
   ]
  },
  {
   "cell_type": "code",
   "execution_count": null,
   "metadata": {
    "scrolled": true
   },
   "outputs": [],
   "source": [
    "data.sort_values(by=\"return\", ascending=False).head(10)"
   ]
  },
  {
   "cell_type": "markdown",
   "metadata": {},
   "source": [
    "- 針對兩個項目排序 "
   ]
  },
  {
   "cell_type": "code",
   "execution_count": null,
   "metadata": {
    "scrolled": true
   },
   "outputs": [],
   "source": [
    "data.sort_values(by=[\"return\", \"Volume\"], ascending=False).head(10)"
   ]
  },
  {
   "cell_type": "markdown",
   "metadata": {},
   "source": [
    "### 生成 DataFrame"
   ]
  },
  {
   "cell_type": "code",
   "execution_count": null,
   "metadata": {},
   "outputs": [],
   "source": [
    "test_data = np.random.randn(100,4)"
   ]
  },
  {
   "cell_type": "code",
   "execution_count": null,
   "metadata": {},
   "outputs": [],
   "source": [
    "test_data"
   ]
  },
  {
   "cell_type": "code",
   "execution_count": null,
   "metadata": {},
   "outputs": [],
   "source": [
    "data1 = pd.DataFrame(test_data, columns = ['A','B','C','D'])"
   ]
  },
  {
   "cell_type": "code",
   "execution_count": null,
   "metadata": {},
   "outputs": [],
   "source": [
    "data1.head()"
   ]
  },
  {
   "cell_type": "code",
   "execution_count": null,
   "metadata": {},
   "outputs": [],
   "source": [
    "data2 = pd.DataFrame(np.random.randn(100,4), columns=list(\"ABCD\"))"
   ]
  },
  {
   "cell_type": "code",
   "execution_count": null,
   "metadata": {
    "scrolled": true
   },
   "outputs": [],
   "source": [
    "data2.head()"
   ]
  },
  {
   "cell_type": "markdown",
   "metadata": {},
   "source": [
    "### 合併資料 (`concat`)\n",
    "- 縱向合併 (`axis = 0`) 日\n",
    "- 橫向合併 (`axis = 1`) 口口"
   ]
  },
  {
   "cell_type": "code",
   "execution_count": null,
   "metadata": {},
   "outputs": [],
   "source": [
    "data3 = pd.concat([data1, data2], axis=0)"
   ]
  },
  {
   "cell_type": "code",
   "execution_count": null,
   "metadata": {},
   "outputs": [],
   "source": [
    "data3"
   ]
  },
  {
   "cell_type": "code",
   "execution_count": null,
   "metadata": {},
   "outputs": [],
   "source": [
    "data4 = pd.concat([data1, data2], axis=1)"
   ]
  },
  {
   "cell_type": "code",
   "execution_count": null,
   "metadata": {
    "scrolled": true
   },
   "outputs": [],
   "source": [
    "data4"
   ]
  },
  {
   "cell_type": "markdown",
   "metadata": {},
   "source": [
    "## Pandas學習資源\n",
    "- [Pandas作者問答集整理](https://github.com/justmarkham/pandas-videos)\n",
    "- 網頁中包含許多實際資料檔案\n",
    "- 我們挑選UFO的資料(bit.ly/uforeports)"
   ]
  },
  {
   "cell_type": "code",
   "execution_count": null,
   "metadata": {},
   "outputs": [],
   "source": [
    "data_ufo = pd.read_csv(\"http://bit.ly/uforeports\") #可以直接放網址，只要網址是直接連結csv檔案"
   ]
  },
  {
   "cell_type": "code",
   "execution_count": null,
   "metadata": {},
   "outputs": [],
   "source": [
    "data_ufo"
   ]
  },
  {
   "cell_type": "markdown",
   "metadata": {},
   "source": [
    "## 資料分析目的\n",
    "- 在哪裡會最容易看到UFO"
   ]
  },
  {
   "cell_type": "markdown",
   "metadata": {},
   "source": [
    "### 資料分組 (`groupby`)\n",
    "- 可指定分組類別\n",
    "- 計算次數可用`.count()`"
   ]
  },
  {
   "cell_type": "code",
   "execution_count": null,
   "metadata": {},
   "outputs": [],
   "source": [
    "data_ufo_state = data_ufo.groupby(\"State\").count()"
   ]
  },
  {
   "cell_type": "code",
   "execution_count": null,
   "metadata": {},
   "outputs": [],
   "source": [
    "data_ufo_state"
   ]
  },
  {
   "cell_type": "markdown",
   "metadata": {},
   "source": [
    "### 資料排序 (`.sort_values()`)\n",
    "- `by =` 排序依據變數名稱\n",
    "- `ascending =` 由小到大(`True`) 由大到小(`False`)\n",
    "- 若要把結果直接取代變數 `inplace=True`"
   ]
  },
  {
   "cell_type": "code",
   "execution_count": null,
   "metadata": {},
   "outputs": [],
   "source": [
    "data_ufo_state.sort_values(by=\"Time\", ascending=False)"
   ]
  },
  {
   "cell_type": "code",
   "execution_count": null,
   "metadata": {},
   "outputs": [],
   "source": [
    "data_ufo_state.sort_values(by=\"Time\", ascending=False, inplace=True)"
   ]
  },
  {
   "cell_type": "code",
   "execution_count": null,
   "metadata": {
    "scrolled": true
   },
   "outputs": [],
   "source": [
    "data_ufo_state.head(10)"
   ]
  },
  {
   "cell_type": "markdown",
   "metadata": {},
   "source": [
    "- 畫出長條圖 `.plot(kind='bar')`"
   ]
  },
  {
   "cell_type": "code",
   "execution_count": null,
   "metadata": {
    "scrolled": false
   },
   "outputs": [],
   "source": [
    "data_ufo_state[:10].Time.plot(kind='bar') #長條圖"
   ]
  },
  {
   "cell_type": "markdown",
   "metadata": {},
   "source": [
    "## Pandas的定位法\n",
    "- 先生成4組獨立隨機變數來自於標準常態分佈\n",
    "- 分別命名為ABCD"
   ]
  },
  {
   "cell_type": "code",
   "execution_count": null,
   "metadata": {},
   "outputs": [],
   "source": [
    "data = pd.DataFrame(np.random.randn(100,4),\n",
    "                 index=list(range(100)),\n",
    "                 columns=list(\"ABCD\"))"
   ]
  },
  {
   "cell_type": "code",
   "execution_count": null,
   "metadata": {},
   "outputs": [],
   "source": [
    "data.head()"
   ]
  },
  {
   "cell_type": "markdown",
   "metadata": {},
   "source": [
    "- 想要找出滿足某些條件的觀測值"
   ]
  },
  {
   "cell_type": "code",
   "execution_count": null,
   "metadata": {},
   "outputs": [],
   "source": [
    "data[data.B>0].head()"
   ]
  },
  {
   "cell_type": "code",
   "execution_count": null,
   "metadata": {},
   "outputs": [],
   "source": [
    "data[data.B>0][\"C\"] = 0"
   ]
  },
  {
   "cell_type": "code",
   "execution_count": null,
   "metadata": {
    "scrolled": true
   },
   "outputs": [],
   "source": [
    "data.head() #並沒有完成"
   ]
  },
  {
   "cell_type": "markdown",
   "metadata": {},
   "source": [
    "- 定位函數 `loc`"
   ]
  },
  {
   "cell_type": "code",
   "execution_count": null,
   "metadata": {},
   "outputs": [],
   "source": [
    "data.loc[2:3, \"B\":\"C\"]"
   ]
  },
  {
   "cell_type": "code",
   "execution_count": null,
   "metadata": {},
   "outputs": [],
   "source": [
    "data.loc[2, \"B\"]"
   ]
  },
  {
   "cell_type": "code",
   "execution_count": null,
   "metadata": {},
   "outputs": [],
   "source": [
    "data.loc[2, \"B\"] = 1"
   ]
  },
  {
   "cell_type": "code",
   "execution_count": null,
   "metadata": {},
   "outputs": [],
   "source": [
    "data.loc[2,\"B\"]"
   ]
  },
  {
   "cell_type": "code",
   "execution_count": null,
   "metadata": {},
   "outputs": [],
   "source": [
    "data.loc[data.B>0, \"C\"] = 0"
   ]
  },
  {
   "cell_type": "code",
   "execution_count": null,
   "metadata": {
    "scrolled": true
   },
   "outputs": [],
   "source": [
    "data.head()"
   ]
  }
 ],
 "metadata": {
  "kernelspec": {
   "display_name": "Python 3",
   "language": "python",
   "name": "python3"
  },
  "language_info": {
   "codemirror_mode": {
    "name": "ipython",
    "version": 3
   },
   "file_extension": ".py",
   "mimetype": "text/x-python",
   "name": "python",
   "nbconvert_exporter": "python",
   "pygments_lexer": "ipython3",
   "version": "3.6.6"
  }
 },
 "nbformat": 4,
 "nbformat_minor": 2
}
