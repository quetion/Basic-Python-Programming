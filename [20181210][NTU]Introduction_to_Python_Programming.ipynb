{
 "cells": [
  {
   "cell_type": "markdown",
   "metadata": {},
   "source": [
    "## Introduction to Python Programming\n",
    "- Install the Anaconda 3.X\n",
    "- Basic Calculation\n",
    "- Generate random variables\n",
    "- For,While,IF,Else\n",
    "- Data Visualization\n",
    "- Import Data \n",
    "- API\n",
    "- Examples"
   ]
  },
  {
   "cell_type": "markdown",
   "metadata": {},
   "source": [
    "### First Code\n",
    "- Say Hello to the World!\n",
    "- `print`"
   ]
  },
  {
   "cell_type": "code",
   "execution_count": 1,
   "metadata": {},
   "outputs": [
    {
     "ename": "SyntaxError",
     "evalue": "invalid syntax (<ipython-input-1-07aa15ed510a>, line 1)",
     "output_type": "error",
     "traceback": [
      "\u001b[1;36m  File \u001b[1;32m\"<ipython-input-1-07aa15ed510a>\"\u001b[1;36m, line \u001b[1;32m1\u001b[0m\n\u001b[1;33m    print(Hello,World!)\u001b[0m\n\u001b[1;37m                     ^\u001b[0m\n\u001b[1;31mSyntaxError\u001b[0m\u001b[1;31m:\u001b[0m invalid syntax\n"
     ]
    }
   ],
   "source": [
    "print(Hello,World!)"
   ]
  },
  {
   "cell_type": "code",
   "execution_count": 2,
   "metadata": {},
   "outputs": [
    {
     "name": "stdout",
     "output_type": "stream",
     "text": [
      "Hello,World!\n"
     ]
    }
   ],
   "source": [
    "print('Hello,World!')"
   ]
  },
  {
   "cell_type": "code",
   "execution_count": 3,
   "metadata": {},
   "outputs": [
    {
     "name": "stdout",
     "output_type": "stream",
     "text": [
      "Hello,World\n",
      "Hello,World,again!\n"
     ]
    }
   ],
   "source": [
    "print('''Hello,World\n",
    "Hello,World,again!''')"
   ]
  },
  {
   "cell_type": "markdown",
   "metadata": {},
   "source": [
    "#### Question 1\n",
    "1. What is the difference among '', \"\", ''' '''?\n",
    "2. What is the difference between `print(1)` and `print('1')`?"
   ]
  },
  {
   "cell_type": "markdown",
   "metadata": {},
   "source": [
    "### Python Calculator\n",
    "- basic: `+`,`-`,`/`,`*`\n",
    "- `**`,`//`,`%`\n",
    "- `+=`,`-=`,`*=`"
   ]
  },
  {
   "cell_type": "code",
   "execution_count": 4,
   "metadata": {},
   "outputs": [
    {
     "data": {
      "text/plain": [
       "2"
      ]
     },
     "execution_count": 4,
     "metadata": {},
     "output_type": "execute_result"
    }
   ],
   "source": [
    "1+1"
   ]
  },
  {
   "cell_type": "code",
   "execution_count": 5,
   "metadata": {},
   "outputs": [
    {
     "data": {
      "text/plain": [
       "8"
      ]
     },
     "execution_count": 5,
     "metadata": {},
     "output_type": "execute_result"
    }
   ],
   "source": [
    "10-2"
   ]
  },
  {
   "cell_type": "code",
   "execution_count": 17,
   "metadata": {},
   "outputs": [
    {
     "data": {
      "text/plain": [
       "1"
      ]
     },
     "execution_count": 17,
     "metadata": {},
     "output_type": "execute_result"
    }
   ],
   "source": [
    "5//2 # quotient\n",
    "5%2  # remainder"
   ]
  },
  {
   "cell_type": "markdown",
   "metadata": {},
   "source": [
    "#### Question 2:\n",
    "Calculate the following numbers and print the number to the second decimal place,\n",
    "\n",
    "1. Let $x=1$\n",
    "$$\n",
    "\\frac{1}{\\sqrt{6.28}} \\times (2.718)^{-x^2/2}\n",
    "$$\n",
    "2. Let $x=2.5$\n",
    "$$\n",
    "\\frac{\\sqrt{(4-x)^2+(2-x)^2+(1.5-x)^2}}{3}\n",
    "$$"
   ]
  },
  {
   "cell_type": "code",
   "execution_count": 24,
   "metadata": {},
   "outputs": [
    {
     "name": "stdout",
     "output_type": "stream",
     "text": [
      "The number is  0.61\n"
     ]
    }
   ],
   "source": [
    "# Solution of 1.\n",
    "a = 1/(6.28)**(0/5) *(2.718)**(-0.5)\n",
    "print('The number is ', '%.2f' %a)"
   ]
  },
  {
   "cell_type": "markdown",
   "metadata": {},
   "source": [
    "#### Question 3:\n",
    "1. There are two kinds of number, including integer and float. What is the difference?\n",
    "2. Can a string of words, called the `string`, be calculated?  "
   ]
  },
  {
   "cell_type": "code",
   "execution_count": 9,
   "metadata": {},
   "outputs": [
    {
     "data": {
      "text/plain": [
       "'Hello! Hello! Hello! '"
      ]
     },
     "execution_count": 9,
     "metadata": {},
     "output_type": "execute_result"
    }
   ],
   "source": [
    "'Hello! '*3"
   ]
  },
  {
   "cell_type": "code",
   "execution_count": 11,
   "metadata": {},
   "outputs": [
    {
     "data": {
      "text/plain": [
       "'Hello, World!'"
      ]
     },
     "execution_count": 11,
     "metadata": {},
     "output_type": "execute_result"
    }
   ],
   "source": [
    "'Hello, ' + 'World!'"
   ]
  },
  {
   "cell_type": "markdown",
   "metadata": {},
   "source": [
    "### Generate Random Variables\n",
    "- uniform distribution (continuous): `np.random.uniform`, `np.random.random`\n",
    "- uniform distribution (discrete): `np.random.randint`\n",
    "- normal distribution: `np.random.randn`"
   ]
  },
  {
   "cell_type": "code",
   "execution_count": 1,
   "metadata": {},
   "outputs": [],
   "source": [
    "import numpy as np"
   ]
  },
  {
   "cell_type": "code",
   "execution_count": 9,
   "metadata": {
    "collapsed": true
   },
   "outputs": [
    {
     "name": "stdout",
     "output_type": "stream",
     "text": [
      "[[0.97590287 0.37991063 0.91992366 0.93219707 0.18120975 0.01029871\n",
      "  0.66534518 0.64692255 0.63026954 0.12786848]\n",
      " [0.08086593 0.20517117 0.38981549 0.49344643 0.20521523 0.81343871\n",
      "  0.93651795 0.39541036 0.71652823 0.802824  ]\n",
      " [0.88432905 0.21543232 0.46955857 0.23215685 0.02930059 0.44902576\n",
      "  0.2609125  0.25192195 0.47608867 0.96390382]\n",
      " [0.48734544 0.8818691  0.12716598 0.9765437  0.34585563 0.33120886\n",
      "  0.39620664 0.57145504 0.48985703 0.51214892]\n",
      " [0.34720439 0.74509794 0.72200432 0.09810797 0.11246332 0.85138275\n",
      "  0.58567853 0.15258434 0.79976773 0.94202373]\n",
      " [0.19192152 0.58365378 0.17089374 0.07619883 0.33106066 0.99941678\n",
      "  0.31532252 0.81764626 0.93560539 0.90246525]\n",
      " [0.20378424 0.44442269 0.6581964  0.49986083 0.25486949 0.99466046\n",
      "  0.38928112 0.69322495 0.93671591 0.75757413]\n",
      " [0.97104612 0.70427126 0.10646441 0.56428001 0.58802585 0.53564341\n",
      "  0.06311442 0.58267793 0.13147144 0.57795861]\n",
      " [0.10859375 0.52092638 0.48072933 0.78969131 0.37125619 0.26334677\n",
      "  0.45599706 0.62527553 0.47112353 0.6175038 ]\n",
      " [0.81702563 0.2895333  0.91060643 0.65198092 0.07479428 0.9120987\n",
      "  0.10280926 0.58431552 0.08615211 0.13893462]]\n"
     ]
    }
   ],
   "source": [
    "a = np.random.uniform(0,1,[10,10])\n",
    "print(a)"
   ]
  },
  {
   "cell_type": "code",
   "execution_count": 26,
   "metadata": {},
   "outputs": [
    {
     "data": {
      "text/plain": [
       "array([0, 0, 0, 1, 1, 0, 1, 0, 1, 0, 0, 1, 1, 1, 1, 1, 1, 0, 0, 0, 0, 1,\n",
       "       1, 1, 1, 1, 0, 1, 1, 1, 1, 1, 1, 1, 0, 0, 1, 0, 1, 0, 1, 0, 1, 0,\n",
       "       1, 1, 1, 1, 0, 0, 0, 1, 1, 1, 0, 0, 0, 0, 0, 1, 1, 0, 1, 0, 1, 1,\n",
       "       1, 1, 1, 1, 0, 0, 1, 0, 1, 1, 1, 1, 0, 1, 0, 0, 1, 0, 1, 0, 1, 0,\n",
       "       1, 1, 1, 1, 1, 1, 1, 1, 0, 0, 1, 1])"
      ]
     },
     "execution_count": 26,
     "metadata": {},
     "output_type": "execute_result"
    }
   ],
   "source": [
    "np.random.randint(0,2,100)"
   ]
  },
  {
   "cell_type": "markdown",
   "metadata": {},
   "source": [
    "#### Question 4\n",
    "1. How to generate a random sample of size `100` from a normal distribution with mean `0.05` and variance `0.04`?\n",
    "2. How to generate a random 4-digit number?\n",
    "3. How to generate a random 4-digit number and no repeated numbers?\n",
    "4. How to generate a random sample of size `100` from a Bernoulli distribution with p = `0.5`."
   ]
  },
  {
   "cell_type": "markdown",
   "metadata": {},
   "source": [
    "### Data Elements\n",
    "1. Boolean\n",
    "2. Integer\n",
    "3. Float\n",
    "4. String"
   ]
  },
  {
   "cell_type": "code",
   "execution_count": 35,
   "metadata": {},
   "outputs": [],
   "source": [
    "a = 5\n",
    "b = 2.5\n",
    "c = a > b\n",
    "d = '5555'\n",
    "e = 'abc'\n",
    "f = d > e"
   ]
  },
  {
   "cell_type": "markdown",
   "metadata": {},
   "source": [
    "### Statements\n",
    "- `<`,`>`,`<=`,`>=`\n",
    "- `==`,`~=`\n",
    "- `and`, `or`"
   ]
  },
  {
   "cell_type": "code",
   "execution_count": 39,
   "metadata": {},
   "outputs": [
    {
     "data": {
      "text/plain": [
       "False"
      ]
     },
     "execution_count": 39,
     "metadata": {},
     "output_type": "execute_result"
    }
   ],
   "source": [
    "1 == 2"
   ]
  },
  {
   "cell_type": "markdown",
   "metadata": {},
   "source": [
    "### For Loops\n",
    "- `for`: Run 10 (given) times repeatedly\n",
    "- `while`: Run until the condition satisfies. "
   ]
  },
  {
   "cell_type": "code",
   "execution_count": 1,
   "metadata": {},
   "outputs": [
    {
     "name": "stdout",
     "output_type": "stream",
     "text": [
      "*\n",
      "**\n",
      "***\n",
      "****\n",
      "*****\n",
      "******\n",
      "*******\n",
      "********\n",
      "*********\n"
     ]
    }
   ],
   "source": [
    "# Example: while \n",
    "t = 1\n",
    "while t<10:\n",
    "    print(\"*\"*t)\n",
    "    t = t + 1"
   ]
  },
  {
   "cell_type": "code",
   "execution_count": 2,
   "metadata": {},
   "outputs": [
    {
     "name": "stdout",
     "output_type": "stream",
     "text": [
      "1\n",
      "2\n",
      "3\n",
      "4\n",
      "5\n",
      "6\n",
      "7\n",
      "8\n",
      "9\n",
      "10\n"
     ]
    }
   ],
   "source": [
    "# Example: For\n",
    "T = [1,2,3,4,5,6,7,8,9,10] #先設定圈數\n",
    "T = range(1,11)\n",
    "for i in T:\n",
    "    print(i)"
   ]
  },
  {
   "cell_type": "code",
   "execution_count": 6,
   "metadata": {},
   "outputs": [
    {
     "name": "stdout",
     "output_type": "stream",
     "text": [
      "1\n",
      "2\n",
      "3\n",
      "4\n",
      "5\n",
      "6\n",
      "7\n",
      "8\n",
      "9\n",
      "10\n"
     ]
    }
   ],
   "source": [
    "# Example: For\n",
    "a = 0\n",
    "for i in range(10):\n",
    "    a += 1 \n",
    "    print(a)"
   ]
  },
  {
   "cell_type": "code",
   "execution_count": 29,
   "metadata": {},
   "outputs": [
    {
     "name": "stdout",
     "output_type": "stream",
     "text": [
      "Please enter 4-digit number: 1235\n"
     ]
    }
   ],
   "source": [
    "# Example: One-way\n",
    "message = input(\"Please enter 4-digit number: \")\n",
    "a = 1234\n",
    "if (float(message) == a):\n",
    "    print(\"Congrats! Ans is \", a)"
   ]
  },
  {
   "cell_type": "code",
   "execution_count": 12,
   "metadata": {},
   "outputs": [
    {
     "name": "stdout",
     "output_type": "stream",
     "text": [
      "Please enter 4-digit number: 1235\n",
      "Good luck!\n"
     ]
    }
   ],
   "source": [
    "# Example: Two-way\n",
    "message = input(\"Please enter 4-digit number: \")\n",
    "if (float(message) == 1234):\n",
    "    print(\"Congrats!\")\n",
    "else:\n",
    "    print(\"Good luck!\")"
   ]
  },
  {
   "cell_type": "code",
   "execution_count": 15,
   "metadata": {},
   "outputs": [
    {
     "name": "stdout",
     "output_type": "stream",
     "text": [
      "Please enter 4-digit number: 3254\n",
      "Sorry.\n"
     ]
    }
   ],
   "source": [
    "# Example: Multiple-way\n",
    "message = input(\"Please enter 4-digit number: \")\n",
    "if (float(message) == 1234):\n",
    "    print(\"Congrats!\")\n",
    "elif (float(message[1]) == 2 and float(message[2]) == 3 and float(message[3]) == 4) \\\n",
    "or (float(message[0]) == 1 and float(message[2]) == 3 and float(message[3]) == 4) \\\n",
    "or (float(message[0]) == 1 and float(message[1]) == 2 and float(message[3]) == 4) \\\n",
    "or (float(message[0]) == 1 and float(message[1]) == 2 and float(message[2]) == 3):\n",
    "    print(\"Only one number\")\n",
    "else:\n",
    "    print(\"Sorry.\")"
   ]
  },
  {
   "cell_type": "markdown",
   "metadata": {},
   "source": [
    "### Import Data from API\n",
    "- From Yahoo Finance website\n",
    "- install package: `fix_yahoo_finance`, `pandas_datareader`\n",
    "- import data: `web.get_data_yahoo`\n",
    "- export data: `to_csv()`"
   ]
  },
  {
   "cell_type": "markdown",
   "metadata": {},
   "source": [
    "#### How to install new package in Python\n",
    "- Run `Ananconda Prompt`\n",
    "- Type `pip install fix_yahoo_finance` and `pip install pandas_datareader`\n",
    "- Therefore, we have installed these two critical package in Python.\n",
    "- In general, type `conda install XXX`, it is more convenient to install the new package.\n",
    "- Finally, we can import the new package in Python\n"
   ]
  },
  {
   "cell_type": "code",
   "execution_count": 19,
   "metadata": {},
   "outputs": [],
   "source": [
    "import fix_yahoo_finance\n",
    "import datetime as dt\n",
    "import pandas as pd\n",
    "import pandas_datareader.data as web"
   ]
  },
  {
   "cell_type": "code",
   "execution_count": 20,
   "metadata": {},
   "outputs": [
    {
     "name": "stdout",
     "output_type": "stream",
     "text": [
      "2018-10-10 00:00:00\n"
     ]
    }
   ],
   "source": [
    "start = dt.datetime(2018,10,10)\n",
    "print(start)"
   ]
  },
  {
   "cell_type": "code",
   "execution_count": 22,
   "metadata": {},
   "outputs": [],
   "source": [
    "name = '^GSPC' # ticker\n",
    "start = dt.datetime(2017,1,1) # setting the start time\n",
    "end = dt.datetime(2018,10,10) # setting the end   time"
   ]
  },
  {
   "cell_type": "code",
   "execution_count": 23,
   "metadata": {
    "collapsed": true
   },
   "outputs": [
    {
     "data": {
      "text/html": [
       "<div>\n",
       "<style scoped>\n",
       "    .dataframe tbody tr th:only-of-type {\n",
       "        vertical-align: middle;\n",
       "    }\n",
       "\n",
       "    .dataframe tbody tr th {\n",
       "        vertical-align: top;\n",
       "    }\n",
       "\n",
       "    .dataframe thead th {\n",
       "        text-align: right;\n",
       "    }\n",
       "</style>\n",
       "<table border=\"1\" class=\"dataframe\">\n",
       "  <thead>\n",
       "    <tr style=\"text-align: right;\">\n",
       "      <th></th>\n",
       "      <th>High</th>\n",
       "      <th>Low</th>\n",
       "      <th>Open</th>\n",
       "      <th>Close</th>\n",
       "      <th>Volume</th>\n",
       "      <th>Adj Close</th>\n",
       "    </tr>\n",
       "    <tr>\n",
       "      <th>Date</th>\n",
       "      <th></th>\n",
       "      <th></th>\n",
       "      <th></th>\n",
       "      <th></th>\n",
       "      <th></th>\n",
       "      <th></th>\n",
       "    </tr>\n",
       "  </thead>\n",
       "  <tbody>\n",
       "    <tr>\n",
       "      <th>2017-01-03</th>\n",
       "      <td>2263.879883</td>\n",
       "      <td>2245.129883</td>\n",
       "      <td>2251.570068</td>\n",
       "      <td>2257.830078</td>\n",
       "      <td>3770530000</td>\n",
       "      <td>2257.830078</td>\n",
       "    </tr>\n",
       "    <tr>\n",
       "      <th>2017-01-04</th>\n",
       "      <td>2272.820068</td>\n",
       "      <td>2261.600098</td>\n",
       "      <td>2261.600098</td>\n",
       "      <td>2270.750000</td>\n",
       "      <td>3764890000</td>\n",
       "      <td>2270.750000</td>\n",
       "    </tr>\n",
       "    <tr>\n",
       "      <th>2017-01-05</th>\n",
       "      <td>2271.500000</td>\n",
       "      <td>2260.449951</td>\n",
       "      <td>2268.179932</td>\n",
       "      <td>2269.000000</td>\n",
       "      <td>3761820000</td>\n",
       "      <td>2269.000000</td>\n",
       "    </tr>\n",
       "    <tr>\n",
       "      <th>2017-01-06</th>\n",
       "      <td>2282.100098</td>\n",
       "      <td>2264.060059</td>\n",
       "      <td>2271.139893</td>\n",
       "      <td>2276.979980</td>\n",
       "      <td>3339890000</td>\n",
       "      <td>2276.979980</td>\n",
       "    </tr>\n",
       "    <tr>\n",
       "      <th>2017-01-09</th>\n",
       "      <td>2275.489990</td>\n",
       "      <td>2268.899902</td>\n",
       "      <td>2273.590088</td>\n",
       "      <td>2268.899902</td>\n",
       "      <td>3217610000</td>\n",
       "      <td>2268.899902</td>\n",
       "    </tr>\n",
       "    <tr>\n",
       "      <th>2017-01-10</th>\n",
       "      <td>2279.270020</td>\n",
       "      <td>2265.270020</td>\n",
       "      <td>2269.719971</td>\n",
       "      <td>2268.899902</td>\n",
       "      <td>3638790000</td>\n",
       "      <td>2268.899902</td>\n",
       "    </tr>\n",
       "    <tr>\n",
       "      <th>2017-01-11</th>\n",
       "      <td>2275.320068</td>\n",
       "      <td>2260.830078</td>\n",
       "      <td>2268.600098</td>\n",
       "      <td>2275.320068</td>\n",
       "      <td>3620410000</td>\n",
       "      <td>2275.320068</td>\n",
       "    </tr>\n",
       "    <tr>\n",
       "      <th>2017-01-12</th>\n",
       "      <td>2271.780029</td>\n",
       "      <td>2254.250000</td>\n",
       "      <td>2271.139893</td>\n",
       "      <td>2270.439941</td>\n",
       "      <td>3462130000</td>\n",
       "      <td>2270.439941</td>\n",
       "    </tr>\n",
       "    <tr>\n",
       "      <th>2017-01-13</th>\n",
       "      <td>2278.679932</td>\n",
       "      <td>2271.510010</td>\n",
       "      <td>2272.739990</td>\n",
       "      <td>2274.639893</td>\n",
       "      <td>3081270000</td>\n",
       "      <td>2274.639893</td>\n",
       "    </tr>\n",
       "    <tr>\n",
       "      <th>2017-01-17</th>\n",
       "      <td>2272.080078</td>\n",
       "      <td>2262.810059</td>\n",
       "      <td>2269.139893</td>\n",
       "      <td>2267.889893</td>\n",
       "      <td>3584990000</td>\n",
       "      <td>2267.889893</td>\n",
       "    </tr>\n",
       "    <tr>\n",
       "      <th>2017-01-18</th>\n",
       "      <td>2272.010010</td>\n",
       "      <td>2263.350098</td>\n",
       "      <td>2269.139893</td>\n",
       "      <td>2271.889893</td>\n",
       "      <td>3315250000</td>\n",
       "      <td>2271.889893</td>\n",
       "    </tr>\n",
       "    <tr>\n",
       "      <th>2017-01-19</th>\n",
       "      <td>2274.330078</td>\n",
       "      <td>2258.409912</td>\n",
       "      <td>2271.899902</td>\n",
       "      <td>2263.689941</td>\n",
       "      <td>3165970000</td>\n",
       "      <td>2263.689941</td>\n",
       "    </tr>\n",
       "    <tr>\n",
       "      <th>2017-01-20</th>\n",
       "      <td>2276.959961</td>\n",
       "      <td>2265.010010</td>\n",
       "      <td>2269.959961</td>\n",
       "      <td>2271.310059</td>\n",
       "      <td>3524970000</td>\n",
       "      <td>2271.310059</td>\n",
       "    </tr>\n",
       "    <tr>\n",
       "      <th>2017-01-23</th>\n",
       "      <td>2271.780029</td>\n",
       "      <td>2257.020020</td>\n",
       "      <td>2267.780029</td>\n",
       "      <td>2265.199951</td>\n",
       "      <td>3152710000</td>\n",
       "      <td>2265.199951</td>\n",
       "    </tr>\n",
       "    <tr>\n",
       "      <th>2017-01-24</th>\n",
       "      <td>2284.629883</td>\n",
       "      <td>2266.679932</td>\n",
       "      <td>2267.879883</td>\n",
       "      <td>2280.070068</td>\n",
       "      <td>3810960000</td>\n",
       "      <td>2280.070068</td>\n",
       "    </tr>\n",
       "    <tr>\n",
       "      <th>2017-01-25</th>\n",
       "      <td>2299.550049</td>\n",
       "      <td>2288.879883</td>\n",
       "      <td>2288.879883</td>\n",
       "      <td>2298.370117</td>\n",
       "      <td>3846020000</td>\n",
       "      <td>2298.370117</td>\n",
       "    </tr>\n",
       "    <tr>\n",
       "      <th>2017-01-26</th>\n",
       "      <td>2300.989990</td>\n",
       "      <td>2294.080078</td>\n",
       "      <td>2298.629883</td>\n",
       "      <td>2296.679932</td>\n",
       "      <td>3610360000</td>\n",
       "      <td>2296.679932</td>\n",
       "    </tr>\n",
       "    <tr>\n",
       "      <th>2017-01-27</th>\n",
       "      <td>2299.020020</td>\n",
       "      <td>2291.620117</td>\n",
       "      <td>2299.020020</td>\n",
       "      <td>2294.689941</td>\n",
       "      <td>3135890000</td>\n",
       "      <td>2294.689941</td>\n",
       "    </tr>\n",
       "    <tr>\n",
       "      <th>2017-01-30</th>\n",
       "      <td>2286.010010</td>\n",
       "      <td>2268.040039</td>\n",
       "      <td>2286.010010</td>\n",
       "      <td>2280.899902</td>\n",
       "      <td>3591270000</td>\n",
       "      <td>2280.899902</td>\n",
       "    </tr>\n",
       "    <tr>\n",
       "      <th>2017-01-31</th>\n",
       "      <td>2279.090088</td>\n",
       "      <td>2267.209961</td>\n",
       "      <td>2274.020020</td>\n",
       "      <td>2278.870117</td>\n",
       "      <td>4087450000</td>\n",
       "      <td>2278.870117</td>\n",
       "    </tr>\n",
       "    <tr>\n",
       "      <th>2017-02-01</th>\n",
       "      <td>2289.139893</td>\n",
       "      <td>2272.439941</td>\n",
       "      <td>2285.590088</td>\n",
       "      <td>2279.550049</td>\n",
       "      <td>3916610000</td>\n",
       "      <td>2279.550049</td>\n",
       "    </tr>\n",
       "    <tr>\n",
       "      <th>2017-02-02</th>\n",
       "      <td>2283.969971</td>\n",
       "      <td>2271.649902</td>\n",
       "      <td>2276.689941</td>\n",
       "      <td>2280.850098</td>\n",
       "      <td>3807710000</td>\n",
       "      <td>2280.850098</td>\n",
       "    </tr>\n",
       "    <tr>\n",
       "      <th>2017-02-03</th>\n",
       "      <td>2298.310059</td>\n",
       "      <td>2287.879883</td>\n",
       "      <td>2288.540039</td>\n",
       "      <td>2297.419922</td>\n",
       "      <td>3597970000</td>\n",
       "      <td>2297.419922</td>\n",
       "    </tr>\n",
       "    <tr>\n",
       "      <th>2017-02-06</th>\n",
       "      <td>2296.179932</td>\n",
       "      <td>2288.570068</td>\n",
       "      <td>2294.280029</td>\n",
       "      <td>2292.560059</td>\n",
       "      <td>3109050000</td>\n",
       "      <td>2292.560059</td>\n",
       "    </tr>\n",
       "    <tr>\n",
       "      <th>2017-02-07</th>\n",
       "      <td>2299.399902</td>\n",
       "      <td>2290.159912</td>\n",
       "      <td>2295.870117</td>\n",
       "      <td>2293.080078</td>\n",
       "      <td>3448690000</td>\n",
       "      <td>2293.080078</td>\n",
       "    </tr>\n",
       "    <tr>\n",
       "      <th>2017-02-08</th>\n",
       "      <td>2295.909912</td>\n",
       "      <td>2285.379883</td>\n",
       "      <td>2289.550049</td>\n",
       "      <td>2294.669922</td>\n",
       "      <td>3609740000</td>\n",
       "      <td>2294.669922</td>\n",
       "    </tr>\n",
       "    <tr>\n",
       "      <th>2017-02-09</th>\n",
       "      <td>2311.080078</td>\n",
       "      <td>2296.610107</td>\n",
       "      <td>2296.699951</td>\n",
       "      <td>2307.870117</td>\n",
       "      <td>3677940000</td>\n",
       "      <td>2307.870117</td>\n",
       "    </tr>\n",
       "    <tr>\n",
       "      <th>2017-02-10</th>\n",
       "      <td>2319.229980</td>\n",
       "      <td>2311.100098</td>\n",
       "      <td>2312.270020</td>\n",
       "      <td>2316.100098</td>\n",
       "      <td>3475020000</td>\n",
       "      <td>2316.100098</td>\n",
       "    </tr>\n",
       "    <tr>\n",
       "      <th>2017-02-13</th>\n",
       "      <td>2331.580078</td>\n",
       "      <td>2321.419922</td>\n",
       "      <td>2321.719971</td>\n",
       "      <td>2328.250000</td>\n",
       "      <td>3349730000</td>\n",
       "      <td>2328.250000</td>\n",
       "    </tr>\n",
       "    <tr>\n",
       "      <th>2017-02-14</th>\n",
       "      <td>2337.580078</td>\n",
       "      <td>2322.169922</td>\n",
       "      <td>2326.120117</td>\n",
       "      <td>2337.580078</td>\n",
       "      <td>3520910000</td>\n",
       "      <td>2337.580078</td>\n",
       "    </tr>\n",
       "    <tr>\n",
       "      <th>...</th>\n",
       "      <td>...</td>\n",
       "      <td>...</td>\n",
       "      <td>...</td>\n",
       "      <td>...</td>\n",
       "      <td>...</td>\n",
       "      <td>...</td>\n",
       "    </tr>\n",
       "    <tr>\n",
       "      <th>2018-08-29</th>\n",
       "      <td>2916.500000</td>\n",
       "      <td>2898.399902</td>\n",
       "      <td>2900.620117</td>\n",
       "      <td>2914.040039</td>\n",
       "      <td>2791860000</td>\n",
       "      <td>2914.040039</td>\n",
       "    </tr>\n",
       "    <tr>\n",
       "      <th>2018-08-30</th>\n",
       "      <td>2912.459961</td>\n",
       "      <td>2895.219971</td>\n",
       "      <td>2908.939941</td>\n",
       "      <td>2901.129883</td>\n",
       "      <td>2802180000</td>\n",
       "      <td>2901.129883</td>\n",
       "    </tr>\n",
       "    <tr>\n",
       "      <th>2018-08-31</th>\n",
       "      <td>2906.320068</td>\n",
       "      <td>2891.729980</td>\n",
       "      <td>2898.370117</td>\n",
       "      <td>2901.520020</td>\n",
       "      <td>2880260000</td>\n",
       "      <td>2901.520020</td>\n",
       "    </tr>\n",
       "    <tr>\n",
       "      <th>2018-09-04</th>\n",
       "      <td>2900.179932</td>\n",
       "      <td>2885.129883</td>\n",
       "      <td>2896.959961</td>\n",
       "      <td>2896.719971</td>\n",
       "      <td>3077060000</td>\n",
       "      <td>2896.719971</td>\n",
       "    </tr>\n",
       "    <tr>\n",
       "      <th>2018-09-05</th>\n",
       "      <td>2894.209961</td>\n",
       "      <td>2876.919922</td>\n",
       "      <td>2891.590088</td>\n",
       "      <td>2888.600098</td>\n",
       "      <td>3241250000</td>\n",
       "      <td>2888.600098</td>\n",
       "    </tr>\n",
       "    <tr>\n",
       "      <th>2018-09-06</th>\n",
       "      <td>2892.050049</td>\n",
       "      <td>2867.290039</td>\n",
       "      <td>2888.639893</td>\n",
       "      <td>2878.050049</td>\n",
       "      <td>3139590000</td>\n",
       "      <td>2878.050049</td>\n",
       "    </tr>\n",
       "    <tr>\n",
       "      <th>2018-09-07</th>\n",
       "      <td>2883.810059</td>\n",
       "      <td>2864.120117</td>\n",
       "      <td>2868.260010</td>\n",
       "      <td>2871.679932</td>\n",
       "      <td>2946270000</td>\n",
       "      <td>2871.679932</td>\n",
       "    </tr>\n",
       "    <tr>\n",
       "      <th>2018-09-10</th>\n",
       "      <td>2886.929932</td>\n",
       "      <td>2875.939941</td>\n",
       "      <td>2881.389893</td>\n",
       "      <td>2877.129883</td>\n",
       "      <td>2731400000</td>\n",
       "      <td>2877.129883</td>\n",
       "    </tr>\n",
       "    <tr>\n",
       "      <th>2018-09-11</th>\n",
       "      <td>2892.520020</td>\n",
       "      <td>2866.780029</td>\n",
       "      <td>2871.570068</td>\n",
       "      <td>2887.889893</td>\n",
       "      <td>2899660000</td>\n",
       "      <td>2887.889893</td>\n",
       "    </tr>\n",
       "    <tr>\n",
       "      <th>2018-09-12</th>\n",
       "      <td>2894.649902</td>\n",
       "      <td>2879.199951</td>\n",
       "      <td>2888.290039</td>\n",
       "      <td>2888.919922</td>\n",
       "      <td>3264930000</td>\n",
       "      <td>2888.919922</td>\n",
       "    </tr>\n",
       "    <tr>\n",
       "      <th>2018-09-13</th>\n",
       "      <td>2906.760010</td>\n",
       "      <td>2896.389893</td>\n",
       "      <td>2896.850098</td>\n",
       "      <td>2904.179932</td>\n",
       "      <td>3254930000</td>\n",
       "      <td>2904.179932</td>\n",
       "    </tr>\n",
       "    <tr>\n",
       "      <th>2018-09-14</th>\n",
       "      <td>2908.300049</td>\n",
       "      <td>2895.770020</td>\n",
       "      <td>2906.379883</td>\n",
       "      <td>2904.979980</td>\n",
       "      <td>3149800000</td>\n",
       "      <td>2904.979980</td>\n",
       "    </tr>\n",
       "    <tr>\n",
       "      <th>2018-09-17</th>\n",
       "      <td>2904.649902</td>\n",
       "      <td>2886.159912</td>\n",
       "      <td>2903.830078</td>\n",
       "      <td>2888.800049</td>\n",
       "      <td>2947760000</td>\n",
       "      <td>2888.800049</td>\n",
       "    </tr>\n",
       "    <tr>\n",
       "      <th>2018-09-18</th>\n",
       "      <td>2911.169922</td>\n",
       "      <td>2890.429932</td>\n",
       "      <td>2890.739990</td>\n",
       "      <td>2904.310059</td>\n",
       "      <td>3074610000</td>\n",
       "      <td>2904.310059</td>\n",
       "    </tr>\n",
       "    <tr>\n",
       "      <th>2018-09-19</th>\n",
       "      <td>2912.360107</td>\n",
       "      <td>2903.820068</td>\n",
       "      <td>2906.600098</td>\n",
       "      <td>2907.949951</td>\n",
       "      <td>3280020000</td>\n",
       "      <td>2907.949951</td>\n",
       "    </tr>\n",
       "    <tr>\n",
       "      <th>2018-09-20</th>\n",
       "      <td>2934.800049</td>\n",
       "      <td>2919.729980</td>\n",
       "      <td>2919.729980</td>\n",
       "      <td>2930.750000</td>\n",
       "      <td>3337730000</td>\n",
       "      <td>2930.750000</td>\n",
       "    </tr>\n",
       "    <tr>\n",
       "      <th>2018-09-21</th>\n",
       "      <td>2940.909912</td>\n",
       "      <td>2927.110107</td>\n",
       "      <td>2936.760010</td>\n",
       "      <td>2929.669922</td>\n",
       "      <td>5607610000</td>\n",
       "      <td>2929.669922</td>\n",
       "    </tr>\n",
       "    <tr>\n",
       "      <th>2018-09-24</th>\n",
       "      <td>2923.790039</td>\n",
       "      <td>2912.629883</td>\n",
       "      <td>2921.830078</td>\n",
       "      <td>2919.370117</td>\n",
       "      <td>3372210000</td>\n",
       "      <td>2919.370117</td>\n",
       "    </tr>\n",
       "    <tr>\n",
       "      <th>2018-09-25</th>\n",
       "      <td>2923.949951</td>\n",
       "      <td>2913.699951</td>\n",
       "      <td>2921.750000</td>\n",
       "      <td>2915.560059</td>\n",
       "      <td>3285480000</td>\n",
       "      <td>2915.560059</td>\n",
       "    </tr>\n",
       "    <tr>\n",
       "      <th>2018-09-26</th>\n",
       "      <td>2931.149902</td>\n",
       "      <td>2903.280029</td>\n",
       "      <td>2916.979980</td>\n",
       "      <td>2905.969971</td>\n",
       "      <td>3388620000</td>\n",
       "      <td>2905.969971</td>\n",
       "    </tr>\n",
       "    <tr>\n",
       "      <th>2018-09-27</th>\n",
       "      <td>2927.219971</td>\n",
       "      <td>2909.270020</td>\n",
       "      <td>2911.649902</td>\n",
       "      <td>2914.000000</td>\n",
       "      <td>3060850000</td>\n",
       "      <td>2914.000000</td>\n",
       "    </tr>\n",
       "    <tr>\n",
       "      <th>2018-09-28</th>\n",
       "      <td>2920.530029</td>\n",
       "      <td>2907.500000</td>\n",
       "      <td>2910.030029</td>\n",
       "      <td>2913.979980</td>\n",
       "      <td>3432300000</td>\n",
       "      <td>2913.979980</td>\n",
       "    </tr>\n",
       "    <tr>\n",
       "      <th>2018-10-01</th>\n",
       "      <td>2937.060059</td>\n",
       "      <td>2917.909912</td>\n",
       "      <td>2926.290039</td>\n",
       "      <td>2924.590088</td>\n",
       "      <td>3364190000</td>\n",
       "      <td>2924.590088</td>\n",
       "    </tr>\n",
       "    <tr>\n",
       "      <th>2018-10-02</th>\n",
       "      <td>2931.419922</td>\n",
       "      <td>2919.370117</td>\n",
       "      <td>2923.800049</td>\n",
       "      <td>2923.429932</td>\n",
       "      <td>3401880000</td>\n",
       "      <td>2923.429932</td>\n",
       "    </tr>\n",
       "    <tr>\n",
       "      <th>2018-10-03</th>\n",
       "      <td>2939.860107</td>\n",
       "      <td>2921.360107</td>\n",
       "      <td>2931.689941</td>\n",
       "      <td>2925.510010</td>\n",
       "      <td>3598710000</td>\n",
       "      <td>2925.510010</td>\n",
       "    </tr>\n",
       "    <tr>\n",
       "      <th>2018-10-04</th>\n",
       "      <td>2919.780029</td>\n",
       "      <td>2883.919922</td>\n",
       "      <td>2919.350098</td>\n",
       "      <td>2901.610107</td>\n",
       "      <td>3496860000</td>\n",
       "      <td>2901.610107</td>\n",
       "    </tr>\n",
       "    <tr>\n",
       "      <th>2018-10-05</th>\n",
       "      <td>2909.639893</td>\n",
       "      <td>2869.290039</td>\n",
       "      <td>2902.540039</td>\n",
       "      <td>2885.570068</td>\n",
       "      <td>3328980000</td>\n",
       "      <td>2885.570068</td>\n",
       "    </tr>\n",
       "    <tr>\n",
       "      <th>2018-10-08</th>\n",
       "      <td>2889.449951</td>\n",
       "      <td>2862.080078</td>\n",
       "      <td>2877.530029</td>\n",
       "      <td>2884.429932</td>\n",
       "      <td>3330320000</td>\n",
       "      <td>2884.429932</td>\n",
       "    </tr>\n",
       "    <tr>\n",
       "      <th>2018-10-09</th>\n",
       "      <td>2894.830078</td>\n",
       "      <td>2874.270020</td>\n",
       "      <td>2882.510010</td>\n",
       "      <td>2880.340088</td>\n",
       "      <td>3520500000</td>\n",
       "      <td>2880.340088</td>\n",
       "    </tr>\n",
       "    <tr>\n",
       "      <th>2018-10-10</th>\n",
       "      <td>2874.020020</td>\n",
       "      <td>2784.860107</td>\n",
       "      <td>2873.899902</td>\n",
       "      <td>2785.679932</td>\n",
       "      <td>4501250000</td>\n",
       "      <td>2785.679932</td>\n",
       "    </tr>\n",
       "  </tbody>\n",
       "</table>\n",
       "<p>447 rows × 6 columns</p>\n",
       "</div>"
      ],
      "text/plain": [
       "                   High          Low         Open        Close      Volume  \\\n",
       "Date                                                                         \n",
       "2017-01-03  2263.879883  2245.129883  2251.570068  2257.830078  3770530000   \n",
       "2017-01-04  2272.820068  2261.600098  2261.600098  2270.750000  3764890000   \n",
       "2017-01-05  2271.500000  2260.449951  2268.179932  2269.000000  3761820000   \n",
       "2017-01-06  2282.100098  2264.060059  2271.139893  2276.979980  3339890000   \n",
       "2017-01-09  2275.489990  2268.899902  2273.590088  2268.899902  3217610000   \n",
       "2017-01-10  2279.270020  2265.270020  2269.719971  2268.899902  3638790000   \n",
       "2017-01-11  2275.320068  2260.830078  2268.600098  2275.320068  3620410000   \n",
       "2017-01-12  2271.780029  2254.250000  2271.139893  2270.439941  3462130000   \n",
       "2017-01-13  2278.679932  2271.510010  2272.739990  2274.639893  3081270000   \n",
       "2017-01-17  2272.080078  2262.810059  2269.139893  2267.889893  3584990000   \n",
       "2017-01-18  2272.010010  2263.350098  2269.139893  2271.889893  3315250000   \n",
       "2017-01-19  2274.330078  2258.409912  2271.899902  2263.689941  3165970000   \n",
       "2017-01-20  2276.959961  2265.010010  2269.959961  2271.310059  3524970000   \n",
       "2017-01-23  2271.780029  2257.020020  2267.780029  2265.199951  3152710000   \n",
       "2017-01-24  2284.629883  2266.679932  2267.879883  2280.070068  3810960000   \n",
       "2017-01-25  2299.550049  2288.879883  2288.879883  2298.370117  3846020000   \n",
       "2017-01-26  2300.989990  2294.080078  2298.629883  2296.679932  3610360000   \n",
       "2017-01-27  2299.020020  2291.620117  2299.020020  2294.689941  3135890000   \n",
       "2017-01-30  2286.010010  2268.040039  2286.010010  2280.899902  3591270000   \n",
       "2017-01-31  2279.090088  2267.209961  2274.020020  2278.870117  4087450000   \n",
       "2017-02-01  2289.139893  2272.439941  2285.590088  2279.550049  3916610000   \n",
       "2017-02-02  2283.969971  2271.649902  2276.689941  2280.850098  3807710000   \n",
       "2017-02-03  2298.310059  2287.879883  2288.540039  2297.419922  3597970000   \n",
       "2017-02-06  2296.179932  2288.570068  2294.280029  2292.560059  3109050000   \n",
       "2017-02-07  2299.399902  2290.159912  2295.870117  2293.080078  3448690000   \n",
       "2017-02-08  2295.909912  2285.379883  2289.550049  2294.669922  3609740000   \n",
       "2017-02-09  2311.080078  2296.610107  2296.699951  2307.870117  3677940000   \n",
       "2017-02-10  2319.229980  2311.100098  2312.270020  2316.100098  3475020000   \n",
       "2017-02-13  2331.580078  2321.419922  2321.719971  2328.250000  3349730000   \n",
       "2017-02-14  2337.580078  2322.169922  2326.120117  2337.580078  3520910000   \n",
       "...                 ...          ...          ...          ...         ...   \n",
       "2018-08-29  2916.500000  2898.399902  2900.620117  2914.040039  2791860000   \n",
       "2018-08-30  2912.459961  2895.219971  2908.939941  2901.129883  2802180000   \n",
       "2018-08-31  2906.320068  2891.729980  2898.370117  2901.520020  2880260000   \n",
       "2018-09-04  2900.179932  2885.129883  2896.959961  2896.719971  3077060000   \n",
       "2018-09-05  2894.209961  2876.919922  2891.590088  2888.600098  3241250000   \n",
       "2018-09-06  2892.050049  2867.290039  2888.639893  2878.050049  3139590000   \n",
       "2018-09-07  2883.810059  2864.120117  2868.260010  2871.679932  2946270000   \n",
       "2018-09-10  2886.929932  2875.939941  2881.389893  2877.129883  2731400000   \n",
       "2018-09-11  2892.520020  2866.780029  2871.570068  2887.889893  2899660000   \n",
       "2018-09-12  2894.649902  2879.199951  2888.290039  2888.919922  3264930000   \n",
       "2018-09-13  2906.760010  2896.389893  2896.850098  2904.179932  3254930000   \n",
       "2018-09-14  2908.300049  2895.770020  2906.379883  2904.979980  3149800000   \n",
       "2018-09-17  2904.649902  2886.159912  2903.830078  2888.800049  2947760000   \n",
       "2018-09-18  2911.169922  2890.429932  2890.739990  2904.310059  3074610000   \n",
       "2018-09-19  2912.360107  2903.820068  2906.600098  2907.949951  3280020000   \n",
       "2018-09-20  2934.800049  2919.729980  2919.729980  2930.750000  3337730000   \n",
       "2018-09-21  2940.909912  2927.110107  2936.760010  2929.669922  5607610000   \n",
       "2018-09-24  2923.790039  2912.629883  2921.830078  2919.370117  3372210000   \n",
       "2018-09-25  2923.949951  2913.699951  2921.750000  2915.560059  3285480000   \n",
       "2018-09-26  2931.149902  2903.280029  2916.979980  2905.969971  3388620000   \n",
       "2018-09-27  2927.219971  2909.270020  2911.649902  2914.000000  3060850000   \n",
       "2018-09-28  2920.530029  2907.500000  2910.030029  2913.979980  3432300000   \n",
       "2018-10-01  2937.060059  2917.909912  2926.290039  2924.590088  3364190000   \n",
       "2018-10-02  2931.419922  2919.370117  2923.800049  2923.429932  3401880000   \n",
       "2018-10-03  2939.860107  2921.360107  2931.689941  2925.510010  3598710000   \n",
       "2018-10-04  2919.780029  2883.919922  2919.350098  2901.610107  3496860000   \n",
       "2018-10-05  2909.639893  2869.290039  2902.540039  2885.570068  3328980000   \n",
       "2018-10-08  2889.449951  2862.080078  2877.530029  2884.429932  3330320000   \n",
       "2018-10-09  2894.830078  2874.270020  2882.510010  2880.340088  3520500000   \n",
       "2018-10-10  2874.020020  2784.860107  2873.899902  2785.679932  4501250000   \n",
       "\n",
       "              Adj Close  \n",
       "Date                     \n",
       "2017-01-03  2257.830078  \n",
       "2017-01-04  2270.750000  \n",
       "2017-01-05  2269.000000  \n",
       "2017-01-06  2276.979980  \n",
       "2017-01-09  2268.899902  \n",
       "2017-01-10  2268.899902  \n",
       "2017-01-11  2275.320068  \n",
       "2017-01-12  2270.439941  \n",
       "2017-01-13  2274.639893  \n",
       "2017-01-17  2267.889893  \n",
       "2017-01-18  2271.889893  \n",
       "2017-01-19  2263.689941  \n",
       "2017-01-20  2271.310059  \n",
       "2017-01-23  2265.199951  \n",
       "2017-01-24  2280.070068  \n",
       "2017-01-25  2298.370117  \n",
       "2017-01-26  2296.679932  \n",
       "2017-01-27  2294.689941  \n",
       "2017-01-30  2280.899902  \n",
       "2017-01-31  2278.870117  \n",
       "2017-02-01  2279.550049  \n",
       "2017-02-02  2280.850098  \n",
       "2017-02-03  2297.419922  \n",
       "2017-02-06  2292.560059  \n",
       "2017-02-07  2293.080078  \n",
       "2017-02-08  2294.669922  \n",
       "2017-02-09  2307.870117  \n",
       "2017-02-10  2316.100098  \n",
       "2017-02-13  2328.250000  \n",
       "2017-02-14  2337.580078  \n",
       "...                 ...  \n",
       "2018-08-29  2914.040039  \n",
       "2018-08-30  2901.129883  \n",
       "2018-08-31  2901.520020  \n",
       "2018-09-04  2896.719971  \n",
       "2018-09-05  2888.600098  \n",
       "2018-09-06  2878.050049  \n",
       "2018-09-07  2871.679932  \n",
       "2018-09-10  2877.129883  \n",
       "2018-09-11  2887.889893  \n",
       "2018-09-12  2888.919922  \n",
       "2018-09-13  2904.179932  \n",
       "2018-09-14  2904.979980  \n",
       "2018-09-17  2888.800049  \n",
       "2018-09-18  2904.310059  \n",
       "2018-09-19  2907.949951  \n",
       "2018-09-20  2930.750000  \n",
       "2018-09-21  2929.669922  \n",
       "2018-09-24  2919.370117  \n",
       "2018-09-25  2915.560059  \n",
       "2018-09-26  2905.969971  \n",
       "2018-09-27  2914.000000  \n",
       "2018-09-28  2913.979980  \n",
       "2018-10-01  2924.590088  \n",
       "2018-10-02  2923.429932  \n",
       "2018-10-03  2925.510010  \n",
       "2018-10-04  2901.610107  \n",
       "2018-10-05  2885.570068  \n",
       "2018-10-08  2884.429932  \n",
       "2018-10-09  2880.340088  \n",
       "2018-10-10  2785.679932  \n",
       "\n",
       "[447 rows x 6 columns]"
      ]
     },
     "execution_count": 23,
     "metadata": {},
     "output_type": "execute_result"
    }
   ],
   "source": [
    "# web.get_data_yahoo (ticker, start time, end time)\n",
    "df = web.get_data_yahoo(name,start,end) \n",
    "df"
   ]
  },
  {
   "cell_type": "code",
   "execution_count": 24,
   "metadata": {},
   "outputs": [],
   "source": [
    "# import our data to test.csv\n",
    "df.to_csv('test.csv') "
   ]
  },
  {
   "cell_type": "markdown",
   "metadata": {},
   "source": [
    "### Data presentation\n",
    "- the first or last 5 data\n",
    "- the specific location\n",
    "- the specific variable"
   ]
  },
  {
   "cell_type": "code",
   "execution_count": 25,
   "metadata": {},
   "outputs": [
    {
     "data": {
      "text/html": [
       "<div>\n",
       "<style scoped>\n",
       "    .dataframe tbody tr th:only-of-type {\n",
       "        vertical-align: middle;\n",
       "    }\n",
       "\n",
       "    .dataframe tbody tr th {\n",
       "        vertical-align: top;\n",
       "    }\n",
       "\n",
       "    .dataframe thead th {\n",
       "        text-align: right;\n",
       "    }\n",
       "</style>\n",
       "<table border=\"1\" class=\"dataframe\">\n",
       "  <thead>\n",
       "    <tr style=\"text-align: right;\">\n",
       "      <th></th>\n",
       "      <th>High</th>\n",
       "      <th>Low</th>\n",
       "      <th>Open</th>\n",
       "      <th>Close</th>\n",
       "      <th>Volume</th>\n",
       "      <th>Adj Close</th>\n",
       "    </tr>\n",
       "    <tr>\n",
       "      <th>Date</th>\n",
       "      <th></th>\n",
       "      <th></th>\n",
       "      <th></th>\n",
       "      <th></th>\n",
       "      <th></th>\n",
       "      <th></th>\n",
       "    </tr>\n",
       "  </thead>\n",
       "  <tbody>\n",
       "    <tr>\n",
       "      <th>2017-01-03</th>\n",
       "      <td>2263.879883</td>\n",
       "      <td>2245.129883</td>\n",
       "      <td>2251.570068</td>\n",
       "      <td>2257.830078</td>\n",
       "      <td>3770530000</td>\n",
       "      <td>2257.830078</td>\n",
       "    </tr>\n",
       "    <tr>\n",
       "      <th>2017-01-04</th>\n",
       "      <td>2272.820068</td>\n",
       "      <td>2261.600098</td>\n",
       "      <td>2261.600098</td>\n",
       "      <td>2270.750000</td>\n",
       "      <td>3764890000</td>\n",
       "      <td>2270.750000</td>\n",
       "    </tr>\n",
       "    <tr>\n",
       "      <th>2017-01-05</th>\n",
       "      <td>2271.500000</td>\n",
       "      <td>2260.449951</td>\n",
       "      <td>2268.179932</td>\n",
       "      <td>2269.000000</td>\n",
       "      <td>3761820000</td>\n",
       "      <td>2269.000000</td>\n",
       "    </tr>\n",
       "    <tr>\n",
       "      <th>2017-01-06</th>\n",
       "      <td>2282.100098</td>\n",
       "      <td>2264.060059</td>\n",
       "      <td>2271.139893</td>\n",
       "      <td>2276.979980</td>\n",
       "      <td>3339890000</td>\n",
       "      <td>2276.979980</td>\n",
       "    </tr>\n",
       "    <tr>\n",
       "      <th>2017-01-09</th>\n",
       "      <td>2275.489990</td>\n",
       "      <td>2268.899902</td>\n",
       "      <td>2273.590088</td>\n",
       "      <td>2268.899902</td>\n",
       "      <td>3217610000</td>\n",
       "      <td>2268.899902</td>\n",
       "    </tr>\n",
       "  </tbody>\n",
       "</table>\n",
       "</div>"
      ],
      "text/plain": [
       "                   High          Low         Open        Close      Volume  \\\n",
       "Date                                                                         \n",
       "2017-01-03  2263.879883  2245.129883  2251.570068  2257.830078  3770530000   \n",
       "2017-01-04  2272.820068  2261.600098  2261.600098  2270.750000  3764890000   \n",
       "2017-01-05  2271.500000  2260.449951  2268.179932  2269.000000  3761820000   \n",
       "2017-01-06  2282.100098  2264.060059  2271.139893  2276.979980  3339890000   \n",
       "2017-01-09  2275.489990  2268.899902  2273.590088  2268.899902  3217610000   \n",
       "\n",
       "              Adj Close  \n",
       "Date                     \n",
       "2017-01-03  2257.830078  \n",
       "2017-01-04  2270.750000  \n",
       "2017-01-05  2269.000000  \n",
       "2017-01-06  2276.979980  \n",
       "2017-01-09  2268.899902  "
      ]
     },
     "execution_count": 25,
     "metadata": {},
     "output_type": "execute_result"
    }
   ],
   "source": [
    "df.head()"
   ]
  },
  {
   "cell_type": "code",
   "execution_count": 27,
   "metadata": {},
   "outputs": [
    {
     "data": {
      "text/html": [
       "<div>\n",
       "<style scoped>\n",
       "    .dataframe tbody tr th:only-of-type {\n",
       "        vertical-align: middle;\n",
       "    }\n",
       "\n",
       "    .dataframe tbody tr th {\n",
       "        vertical-align: top;\n",
       "    }\n",
       "\n",
       "    .dataframe thead th {\n",
       "        text-align: right;\n",
       "    }\n",
       "</style>\n",
       "<table border=\"1\" class=\"dataframe\">\n",
       "  <thead>\n",
       "    <tr style=\"text-align: right;\">\n",
       "      <th></th>\n",
       "      <th>High</th>\n",
       "      <th>Low</th>\n",
       "      <th>Open</th>\n",
       "      <th>Close</th>\n",
       "      <th>Volume</th>\n",
       "      <th>Adj Close</th>\n",
       "    </tr>\n",
       "    <tr>\n",
       "      <th>Date</th>\n",
       "      <th></th>\n",
       "      <th></th>\n",
       "      <th></th>\n",
       "      <th></th>\n",
       "      <th></th>\n",
       "      <th></th>\n",
       "    </tr>\n",
       "  </thead>\n",
       "  <tbody>\n",
       "    <tr>\n",
       "      <th>2017-01-03</th>\n",
       "      <td>2263.879883</td>\n",
       "      <td>2245.129883</td>\n",
       "      <td>2251.570068</td>\n",
       "      <td>2257.830078</td>\n",
       "      <td>3770530000</td>\n",
       "      <td>2257.830078</td>\n",
       "    </tr>\n",
       "    <tr>\n",
       "      <th>2017-01-04</th>\n",
       "      <td>2272.820068</td>\n",
       "      <td>2261.600098</td>\n",
       "      <td>2261.600098</td>\n",
       "      <td>2270.750000</td>\n",
       "      <td>3764890000</td>\n",
       "      <td>2270.750000</td>\n",
       "    </tr>\n",
       "    <tr>\n",
       "      <th>2017-01-05</th>\n",
       "      <td>2271.500000</td>\n",
       "      <td>2260.449951</td>\n",
       "      <td>2268.179932</td>\n",
       "      <td>2269.000000</td>\n",
       "      <td>3761820000</td>\n",
       "      <td>2269.000000</td>\n",
       "    </tr>\n",
       "    <tr>\n",
       "      <th>2017-01-06</th>\n",
       "      <td>2282.100098</td>\n",
       "      <td>2264.060059</td>\n",
       "      <td>2271.139893</td>\n",
       "      <td>2276.979980</td>\n",
       "      <td>3339890000</td>\n",
       "      <td>2276.979980</td>\n",
       "    </tr>\n",
       "    <tr>\n",
       "      <th>2017-01-09</th>\n",
       "      <td>2275.489990</td>\n",
       "      <td>2268.899902</td>\n",
       "      <td>2273.590088</td>\n",
       "      <td>2268.899902</td>\n",
       "      <td>3217610000</td>\n",
       "      <td>2268.899902</td>\n",
       "    </tr>\n",
       "    <tr>\n",
       "      <th>2017-01-10</th>\n",
       "      <td>2279.270020</td>\n",
       "      <td>2265.270020</td>\n",
       "      <td>2269.719971</td>\n",
       "      <td>2268.899902</td>\n",
       "      <td>3638790000</td>\n",
       "      <td>2268.899902</td>\n",
       "    </tr>\n",
       "    <tr>\n",
       "      <th>2017-01-11</th>\n",
       "      <td>2275.320068</td>\n",
       "      <td>2260.830078</td>\n",
       "      <td>2268.600098</td>\n",
       "      <td>2275.320068</td>\n",
       "      <td>3620410000</td>\n",
       "      <td>2275.320068</td>\n",
       "    </tr>\n",
       "    <tr>\n",
       "      <th>2017-01-12</th>\n",
       "      <td>2271.780029</td>\n",
       "      <td>2254.250000</td>\n",
       "      <td>2271.139893</td>\n",
       "      <td>2270.439941</td>\n",
       "      <td>3462130000</td>\n",
       "      <td>2270.439941</td>\n",
       "    </tr>\n",
       "    <tr>\n",
       "      <th>2017-01-13</th>\n",
       "      <td>2278.679932</td>\n",
       "      <td>2271.510010</td>\n",
       "      <td>2272.739990</td>\n",
       "      <td>2274.639893</td>\n",
       "      <td>3081270000</td>\n",
       "      <td>2274.639893</td>\n",
       "    </tr>\n",
       "    <tr>\n",
       "      <th>2017-01-17</th>\n",
       "      <td>2272.080078</td>\n",
       "      <td>2262.810059</td>\n",
       "      <td>2269.139893</td>\n",
       "      <td>2267.889893</td>\n",
       "      <td>3584990000</td>\n",
       "      <td>2267.889893</td>\n",
       "    </tr>\n",
       "  </tbody>\n",
       "</table>\n",
       "</div>"
      ],
      "text/plain": [
       "                   High          Low         Open        Close      Volume  \\\n",
       "Date                                                                         \n",
       "2017-01-03  2263.879883  2245.129883  2251.570068  2257.830078  3770530000   \n",
       "2017-01-04  2272.820068  2261.600098  2261.600098  2270.750000  3764890000   \n",
       "2017-01-05  2271.500000  2260.449951  2268.179932  2269.000000  3761820000   \n",
       "2017-01-06  2282.100098  2264.060059  2271.139893  2276.979980  3339890000   \n",
       "2017-01-09  2275.489990  2268.899902  2273.590088  2268.899902  3217610000   \n",
       "2017-01-10  2279.270020  2265.270020  2269.719971  2268.899902  3638790000   \n",
       "2017-01-11  2275.320068  2260.830078  2268.600098  2275.320068  3620410000   \n",
       "2017-01-12  2271.780029  2254.250000  2271.139893  2270.439941  3462130000   \n",
       "2017-01-13  2278.679932  2271.510010  2272.739990  2274.639893  3081270000   \n",
       "2017-01-17  2272.080078  2262.810059  2269.139893  2267.889893  3584990000   \n",
       "\n",
       "              Adj Close  \n",
       "Date                     \n",
       "2017-01-03  2257.830078  \n",
       "2017-01-04  2270.750000  \n",
       "2017-01-05  2269.000000  \n",
       "2017-01-06  2276.979980  \n",
       "2017-01-09  2268.899902  \n",
       "2017-01-10  2268.899902  \n",
       "2017-01-11  2275.320068  \n",
       "2017-01-12  2270.439941  \n",
       "2017-01-13  2274.639893  \n",
       "2017-01-17  2267.889893  "
      ]
     },
     "execution_count": 27,
     "metadata": {},
     "output_type": "execute_result"
    }
   ],
   "source": [
    "df[0:10]"
   ]
  },
  {
   "cell_type": "code",
   "execution_count": 30,
   "metadata": {},
   "outputs": [
    {
     "data": {
      "text/plain": [
       "Date\n",
       "2017-01-03    2257.830078\n",
       "2017-01-04    2270.750000\n",
       "2017-01-05    2269.000000\n",
       "2017-01-06    2276.979980\n",
       "2017-01-09    2268.899902\n",
       "Name: Close, dtype: float64"
      ]
     },
     "execution_count": 30,
     "metadata": {},
     "output_type": "execute_result"
    }
   ],
   "source": [
    "df.Close.head()"
   ]
  },
  {
   "cell_type": "markdown",
   "metadata": {},
   "source": [
    "### Data Visualization\n",
    "- Firstly, import `matplotlib.pyplot` as plt.\n",
    "- Line plot: `plt.plot` \n",
    "- Scatter figure: `plt.scatter`\n",
    "- Histogram figure: `plt.hist`\n",
    "- Sub-figure"
   ]
  },
  {
   "cell_type": "code",
   "execution_count": 31,
   "metadata": {},
   "outputs": [],
   "source": [
    "# import the package for data visualization\n",
    "import matplotlib.pyplot as plt"
   ]
  },
  {
   "cell_type": "code",
   "execution_count": 53,
   "metadata": {},
   "outputs": [],
   "source": [
    "# General setting \n",
    "plt.rc('figure', figsize=(10, 6))\n",
    "np.set_printoptions(precision=8, suppress=True)"
   ]
  },
  {
   "cell_type": "code",
   "execution_count": 54,
   "metadata": {},
   "outputs": [
    {
     "ename": "NameError",
     "evalue": "name 'df' is not defined",
     "output_type": "error",
     "traceback": [
      "\u001b[1;31m---------------------------------------------------------------------------\u001b[0m",
      "\u001b[1;31mNameError\u001b[0m                                 Traceback (most recent call last)",
      "\u001b[1;32m<ipython-input-54-24e456d3e18b>\u001b[0m in \u001b[0;36m<module>\u001b[1;34m()\u001b[0m\n\u001b[1;32m----> 1\u001b[1;33m \u001b[0mplt\u001b[0m\u001b[1;33m.\u001b[0m\u001b[0mplot\u001b[0m\u001b[1;33m(\u001b[0m\u001b[0mdf\u001b[0m\u001b[1;33m.\u001b[0m\u001b[0mClose\u001b[0m\u001b[1;33m)\u001b[0m\u001b[1;33m\u001b[0m\u001b[0m\n\u001b[0m\u001b[0;32m      2\u001b[0m \u001b[0mplt\u001b[0m\u001b[1;33m.\u001b[0m\u001b[0mshow\u001b[0m\u001b[1;33m(\u001b[0m\u001b[1;33m)\u001b[0m\u001b[1;33m\u001b[0m\u001b[0m\n",
      "\u001b[1;31mNameError\u001b[0m: name 'df' is not defined"
     ]
    }
   ],
   "source": [
    "plt.plot(df.Close)\n",
    "plt.show()"
   ]
  },
  {
   "cell_type": "markdown",
   "metadata": {},
   "source": [
    "#### Example: Construct the technical indicators\n",
    "- MA(5): the 5-day moving average\n",
    "- MA(20): the 20-day moving average"
   ]
  },
  {
   "cell_type": "code",
   "execution_count": 36,
   "metadata": {},
   "outputs": [],
   "source": [
    "# set our main data series is price = df.Close\n",
    "price = df.Close"
   ]
  },
  {
   "cell_type": "code",
   "execution_count": 37,
   "metadata": {
    "collapsed": true
   },
   "outputs": [
    {
     "data": {
      "text/plain": [
       "Date\n",
       "2017-01-03            NaN\n",
       "2017-01-04            NaN\n",
       "2017-01-05            NaN\n",
       "2017-01-06            NaN\n",
       "2017-01-09    2268.691992\n",
       "2017-01-10    2270.905957\n",
       "2017-01-11    2271.819971\n",
       "2017-01-12    2272.107959\n",
       "2017-01-13    2271.639941\n",
       "2017-01-17    2271.437939\n",
       "2017-01-18    2272.035937\n",
       "2017-01-19    2269.709912\n",
       "2017-01-20    2269.883936\n",
       "2017-01-23    2267.995947\n",
       "2017-01-24    2270.431982\n",
       "2017-01-25    2275.728027\n",
       "2017-01-26    2282.326025\n",
       "2017-01-27    2287.002002\n",
       "2017-01-30    2290.141992\n",
       "2017-01-31    2289.902002\n",
       "2017-02-01    2286.137988\n",
       "2017-02-02    2282.972021\n",
       "2017-02-03    2283.518018\n",
       "2017-02-06    2285.850049\n",
       "2017-02-07    2288.692041\n",
       "2017-02-08    2291.716016\n",
       "2017-02-09    2297.120020\n",
       "2017-02-10    2300.856055\n",
       "2017-02-13    2307.994043\n",
       "2017-02-14    2316.894043\n",
       "                 ...     \n",
       "2018-08-29    2887.993994\n",
       "2018-08-30    2896.823975\n",
       "2018-08-31    2902.189990\n",
       "2018-09-04    2902.185986\n",
       "2018-09-05    2900.402002\n",
       "2018-09-06    2893.204004\n",
       "2018-09-07    2887.314014\n",
       "2018-09-10    2882.435986\n",
       "2018-09-11    2880.669971\n",
       "2018-09-12    2880.733936\n",
       "2018-09-13    2885.959912\n",
       "2018-09-14    2892.619922\n",
       "2018-09-17    2894.953955\n",
       "2018-09-18    2898.237988\n",
       "2018-09-19    2902.043994\n",
       "2018-09-20    2907.358008\n",
       "2018-09-21    2912.295996\n",
       "2018-09-24    2918.410010\n",
       "2018-09-25    2920.660010\n",
       "2018-09-26    2920.264014\n",
       "2018-09-27    2916.914014\n",
       "2018-09-28    2913.776025\n",
       "2018-10-01    2914.820020\n",
       "2018-10-02    2916.393994\n",
       "2018-10-03    2920.302002\n",
       "2018-10-04    2917.824023\n",
       "2018-10-05    2912.142041\n",
       "2018-10-08    2904.110010\n",
       "2018-10-09    2895.492041\n",
       "2018-10-10    2867.526025\n",
       "Name: Close, Length: 447, dtype: float64"
      ]
     },
     "execution_count": 37,
     "metadata": {},
     "output_type": "execute_result"
    }
   ],
   "source": [
    "ma_5 = price.rolling(5).mean() #選出前五日取平均\n",
    "ma_5"
   ]
  },
  {
   "cell_type": "code",
   "execution_count": 38,
   "metadata": {
    "collapsed": true
   },
   "outputs": [
    {
     "data": {
      "text/plain": [
       "Date\n",
       "2017-01-03            NaN\n",
       "2017-01-04            NaN\n",
       "2017-01-05            NaN\n",
       "2017-01-06            NaN\n",
       "2017-01-09            NaN\n",
       "2017-01-10            NaN\n",
       "2017-01-11            NaN\n",
       "2017-01-12            NaN\n",
       "2017-01-13            NaN\n",
       "2017-01-17            NaN\n",
       "2017-01-18            NaN\n",
       "2017-01-19            NaN\n",
       "2017-01-20            NaN\n",
       "2017-01-23            NaN\n",
       "2017-01-24            NaN\n",
       "2017-01-25            NaN\n",
       "2017-01-26            NaN\n",
       "2017-01-27            NaN\n",
       "2017-01-30            NaN\n",
       "2017-01-31    2275.115979\n",
       "2017-02-01    2276.201978\n",
       "2017-02-02    2276.706982\n",
       "2017-02-03    2278.127979\n",
       "2017-02-06    2278.906982\n",
       "2017-02-07    2280.115991\n",
       "2017-02-08    2281.404492\n",
       "2017-02-09    2283.031995\n",
       "2017-02-10    2285.315002\n",
       "2017-02-13    2287.995508\n",
       "2017-02-14    2291.480017\n",
       "                 ...     \n",
       "2018-08-29    2855.692993\n",
       "2018-08-30    2859.388489\n",
       "2018-08-31    2862.446985\n",
       "2018-09-04    2864.762988\n",
       "2018-09-05    2866.270496\n",
       "2018-09-06    2867.288000\n",
       "2018-09-07    2868.192993\n",
       "2018-09-10    2870.385486\n",
       "2018-09-11    2873.683484\n",
       "2018-09-12    2876.131482\n",
       "2018-09-13    2880.421973\n",
       "2018-09-14    2883.636475\n",
       "2018-09-17    2885.569983\n",
       "2018-09-18    2887.932983\n",
       "2018-09-19    2890.182483\n",
       "2018-09-20    2893.628979\n",
       "2018-09-21    2897.263477\n",
       "2018-09-24    2899.497485\n",
       "2018-09-25    2900.438489\n",
       "2018-09-26    2900.860986\n",
       "2018-09-27    2900.858984\n",
       "2018-09-28    2901.501489\n",
       "2018-10-01    2902.654993\n",
       "2018-10-02    2903.990491\n",
       "2018-10-03    2905.835986\n",
       "2018-10-04    2907.013989\n",
       "2018-10-05    2907.708496\n",
       "2018-10-08    2908.073499\n",
       "2018-10-09    2907.696008\n",
       "2018-10-10    2902.534009\n",
       "Name: Close, Length: 447, dtype: float64"
      ]
     },
     "execution_count": 38,
     "metadata": {},
     "output_type": "execute_result"
    }
   ],
   "source": [
    "ma_20 = price.rolling(20).mean() #選擇前20日取平均\n",
    "ma_20"
   ]
  },
  {
   "cell_type": "code",
   "execution_count": 39,
   "metadata": {
    "scrolled": true
   },
   "outputs": [
    {
     "data": {
      "image/png": "[encoded data removed]",
      "text/plain": [
       "<Figure size 432x288 with 1 Axes>"
      ]
     },
     "metadata": {
      "needs_background": "light"
     },
     "output_type": "display_data"
    }
   ],
   "source": [
    "plt.plot(ma_5, color='b', linewidth=2, label='MA5')\n",
    "plt.plot(ma_20, color='r', linewidth=2, label='MA20')\n",
    "plt.legend() # 列出標記代碼\n",
    "plt.show()   "
   ]
  },
  {
   "cell_type": "code",
   "execution_count": 55,
   "metadata": {},
   "outputs": [
    {
     "data": {
      "text/plain": [
       "[<matplotlib.lines.Line2D at 0x2457c5ebba8>]"
      ]
     },
     "execution_count": 55,
     "metadata": {},
     "output_type": "execute_result"
    },
    {
     "data": {
      "image/png": "[encoded data removed]",
      "text/plain": [
       "<Figure size 720x432 with 1 Axes>"
      ]
     },
     "metadata": {
      "needs_background": "light"
     },
     "output_type": "display_data"
    }
   ],
   "source": [
    "import numpy as np\n",
    "data = np.random.randn(100)\n",
    "data\n",
    "plt.plot(data)"
   ]
  },
  {
   "cell_type": "code",
   "execution_count": 56,
   "metadata": {},
   "outputs": [
    {
     "data": {
      "text/plain": [
       "[<matplotlib.lines.Line2D at 0x2457c53fcf8>]"
      ]
     },
     "execution_count": 56,
     "metadata": {},
     "output_type": "execute_result"
    },
    {
     "data": {
      "image/png": "[encoded data removed]",
      "text/plain": [
       "<Figure size 720x432 with 1 Axes>"
      ]
     },
     "metadata": {
      "needs_background": "light"
     },
     "output_type": "display_data"
    }
   ],
   "source": [
    "# plot a random walk\n",
    "plt.plot(np.random.randn(50).cumsum(), 'k--')\n",
    "# cusum"
   ]
  },
  {
   "cell_type": "code",
   "execution_count": 59,
   "metadata": {},
   "outputs": [
    {
     "data": {
      "image/png": "[encoded data removed]",
      "text/plain": [
       "<Figure size 720x432 with 1 Axes>"
      ]
     },
     "metadata": {
      "needs_background": "light"
     },
     "output_type": "display_data"
    }
   ],
   "source": [
    "# scatter\n",
    "plt.scatter(np.random.randn(50),np.random.randn(50))\n",
    "plt.show()"
   ]
  },
  {
   "cell_type": "code",
   "execution_count": 60,
   "metadata": {},
   "outputs": [
    {
     "data": {
      "image/png": "[encoded data removed]",
      "text/plain": [
       "<Figure size 720x432 with 1 Axes>"
      ]
     },
     "metadata": {
      "needs_background": "light"
     },
     "output_type": "display_data"
    }
   ],
   "source": [
    "# Histogram\n",
    "plt.hist(np.random.randn(500))\n",
    "plt.show()"
   ]
  },
  {
   "cell_type": "code",
   "execution_count": 61,
   "metadata": {},
   "outputs": [
    {
     "data": {
      "image/png": "[encoded data removed]",
      "text/plain": [
       "<Figure size 720x432 with 3 Axes>"
      ]
     },
     "metadata": {
      "needs_background": "light"
     },
     "output_type": "display_data"
    }
   ],
   "source": [
    "fig = plt.figure()\n",
    "ax1 = fig.add_subplot(2, 2, 1)\n",
    "ax2 = fig.add_subplot(2, 2, 2)\n",
    "ax3 = fig.add_subplot(2, 2, 3)\n",
    "plt.show()"
   ]
  },
  {
   "cell_type": "code",
   "execution_count": 62,
   "metadata": {},
   "outputs": [
    {
     "data": {
      "image/png": "[encoded data removed]",
      "text/plain": [
       "<Figure size 720x432 with 3 Axes>"
      ]
     },
     "execution_count": 62,
     "metadata": {},
     "output_type": "execute_result"
    }
   ],
   "source": [
    "# histogram\n",
    "# bins= the number of classification, alpha=0.3\n",
    "ax1.hist(np.random.randn(100), bins=20, color='b')\n",
    "# scatter(x,y) --> scatter\n",
    "ax2.scatter(np.arange(30), np.arange(30) + 3 * np.random.randn(30))\n",
    "# random walks\n",
    "ax3.plot(np.random.randn(50).cumsum(), 'k--')\n",
    "fig"
   ]
  },
  {
   "cell_type": "markdown",
   "metadata": {},
   "source": [
    "### Data Ananlysis \n",
    "- Package `pandas`"
   ]
  },
  {
   "cell_type": "code",
   "execution_count": 64,
   "metadata": {},
   "outputs": [],
   "source": [
    "import pandas as pd"
   ]
  },
  {
   "cell_type": "code",
   "execution_count": 65,
   "metadata": {
    "collapsed": true
   },
   "outputs": [
    {
     "data": {
      "text/html": [
       "<div>\n",
       "<style scoped>\n",
       "    .dataframe tbody tr th:only-of-type {\n",
       "        vertical-align: middle;\n",
       "    }\n",
       "\n",
       "    .dataframe tbody tr th {\n",
       "        vertical-align: top;\n",
       "    }\n",
       "\n",
       "    .dataframe thead th {\n",
       "        text-align: right;\n",
       "    }\n",
       "</style>\n",
       "<table border=\"1\" class=\"dataframe\">\n",
       "  <thead>\n",
       "    <tr style=\"text-align: right;\">\n",
       "      <th></th>\n",
       "      <th>Date</th>\n",
       "      <th>Open</th>\n",
       "      <th>High</th>\n",
       "      <th>Low</th>\n",
       "      <th>Close</th>\n",
       "      <th>Adj Close</th>\n",
       "      <th>Volume</th>\n",
       "    </tr>\n",
       "  </thead>\n",
       "  <tbody>\n",
       "    <tr>\n",
       "      <th>17135</th>\n",
       "      <td>2018-02-07</td>\n",
       "      <td>2690.949951</td>\n",
       "      <td>2727.669922</td>\n",
       "      <td>2681.330078</td>\n",
       "      <td>2681.659912</td>\n",
       "      <td>2681.659912</td>\n",
       "      <td>4626570000</td>\n",
       "    </tr>\n",
       "    <tr>\n",
       "      <th>17136</th>\n",
       "      <td>2018-02-08</td>\n",
       "      <td>2685.010010</td>\n",
       "      <td>2685.270020</td>\n",
       "      <td>2580.560059</td>\n",
       "      <td>2581.000000</td>\n",
       "      <td>2581.000000</td>\n",
       "      <td>5305440000</td>\n",
       "    </tr>\n",
       "    <tr>\n",
       "      <th>17137</th>\n",
       "      <td>2018-02-09</td>\n",
       "      <td>2601.780029</td>\n",
       "      <td>2638.669922</td>\n",
       "      <td>2532.689941</td>\n",
       "      <td>2619.550049</td>\n",
       "      <td>2619.550049</td>\n",
       "      <td>5680070000</td>\n",
       "    </tr>\n",
       "    <tr>\n",
       "      <th>17138</th>\n",
       "      <td>2018-02-12</td>\n",
       "      <td>2636.750000</td>\n",
       "      <td>2672.610107</td>\n",
       "      <td>2622.449951</td>\n",
       "      <td>2656.000000</td>\n",
       "      <td>2656.000000</td>\n",
       "      <td>4055790000</td>\n",
       "    </tr>\n",
       "    <tr>\n",
       "      <th>17139</th>\n",
       "      <td>2018-02-13</td>\n",
       "      <td>2646.270020</td>\n",
       "      <td>2668.840088</td>\n",
       "      <td>2637.080078</td>\n",
       "      <td>2662.939941</td>\n",
       "      <td>2662.939941</td>\n",
       "      <td>3472870000</td>\n",
       "    </tr>\n",
       "  </tbody>\n",
       "</table>\n",
       "</div>"
      ],
      "text/plain": [
       "             Date         Open         High          Low        Close  \\\n",
       "17135  2018-02-07  2690.949951  2727.669922  2681.330078  2681.659912   \n",
       "17136  2018-02-08  2685.010010  2685.270020  2580.560059  2581.000000   \n",
       "17137  2018-02-09  2601.780029  2638.669922  2532.689941  2619.550049   \n",
       "17138  2018-02-12  2636.750000  2672.610107  2622.449951  2656.000000   \n",
       "17139  2018-02-13  2646.270020  2668.840088  2637.080078  2662.939941   \n",
       "\n",
       "         Adj Close      Volume  \n",
       "17135  2681.659912  4626570000  \n",
       "17136  2581.000000  5305440000  \n",
       "17137  2619.550049  5680070000  \n",
       "17138  2656.000000  4055790000  \n",
       "17139  2662.939941  3472870000  "
      ]
     },
     "execution_count": 65,
     "metadata": {},
     "output_type": "execute_result"
    }
   ],
   "source": [
    "data = pd.read_csv(\"^GSPC.csv\")\n",
    "data.tail()"
   ]
  },
  {
   "cell_type": "code",
   "execution_count": 66,
   "metadata": {},
   "outputs": [],
   "source": [
    "price = data.Close.values"
   ]
  },
  {
   "cell_type": "markdown",
   "metadata": {},
   "source": [
    "### Descriptive Statistics\n",
    "- Meam: `mean`\n",
    "- Standard deviation: `std`\n",
    "- Skewness: `skew`\n",
    "- Kurtosis: `kurt`\n",
    "- All: `describe`\n",
    "- correlation: `corr`\n"
   ]
  },
  {
   "cell_type": "markdown",
   "metadata": {},
   "source": [
    "### 資料匯入與初步分析 (35%)\n",
    "1. (10%) 請匯入給定資料(`^GSPC.csv`)，匯入資料命名為`data`\n",
    "2. (5%) 展示出前5項與後5項的收盤價(Close)\n",
    "3. (5%) 分別計算出全樣本的收盤價的平均數、標準差、最大值、最小值。\n",
    "4. (10%) 計算報酬率 (當天收盤價減去前一天收盤價，再除以前一天收盤價)，並記錄此報酬率在`data`中\n",
    "5. (5%) 分別計算出全樣本的報酬率的平均數、標準差、最大值、最小值。 "
   ]
  },
  {
   "cell_type": "code",
   "execution_count": null,
   "metadata": {},
   "outputs": [],
   "source": [
    "# 匯入套件\n",
    "import numpy as np\n",
    "import pandas as pd"
   ]
  },
  {
   "cell_type": "code",
   "execution_count": 1,
   "metadata": {},
   "outputs": [
    {
     "ename": "NameError",
     "evalue": "name 'pd' is not defined",
     "output_type": "error",
     "traceback": [
      "\u001b[1;31m---------------------------------------------------------------------------\u001b[0m",
      "\u001b[1;31mNameError\u001b[0m                                 Traceback (most recent call last)",
      "\u001b[1;32m<ipython-input-1-99557ed2f5a3>\u001b[0m in \u001b[0;36m<module>\u001b[1;34m()\u001b[0m\n\u001b[0;32m      1\u001b[0m \u001b[1;31m#1\u001b[0m\u001b[1;33m\u001b[0m\u001b[1;33m\u001b[0m\u001b[0m\n\u001b[1;32m----> 2\u001b[1;33m \u001b[0mdata\u001b[0m \u001b[1;33m=\u001b[0m \u001b[0mpd\u001b[0m\u001b[1;33m.\u001b[0m\u001b[0mread_csv\u001b[0m\u001b[1;33m(\u001b[0m\u001b[1;34m\"^GSPC.csv\"\u001b[0m\u001b[1;33m)\u001b[0m\u001b[1;33m\u001b[0m\u001b[0m\n\u001b[0m",
      "\u001b[1;31mNameError\u001b[0m: name 'pd' is not defined"
     ]
    }
   ],
   "source": [
    "#1\n",
    "data = pd.read_csv(\"^GSPC.csv\")"
   ]
  },
  {
   "cell_type": "code",
   "execution_count": null,
   "metadata": {},
   "outputs": [],
   "source": [
    "#2\n",
    "# 列出前五項\n",
    "data.head()"
   ]
  },
  {
   "cell_type": "code",
   "execution_count": null,
   "metadata": {},
   "outputs": [],
   "source": [
    "#2\n",
    "# 列出後五項\n",
    "data.tail()"
   ]
  },
  {
   "cell_type": "code",
   "execution_count": null,
   "metadata": {},
   "outputs": [],
   "source": [
    "#3\n",
    "data.Close.describe()"
   ]
  },
  {
   "cell_type": "code",
   "execution_count": null,
   "metadata": {},
   "outputs": [],
   "source": [
    "#3\n",
    "print('mean:', data.Close.mean())\n",
    "print('std:', data.Close.std())\n",
    "print('min:', data.Close.min())\n",
    "print('max:', data.Close.max())\n"
   ]
  },
  {
   "cell_type": "code",
   "execution_count": null,
   "metadata": {},
   "outputs": [],
   "source": [
    "#4 計算報酬率\n",
    "data[\"Return\"] = data[\"Close\"].diff(1)/data[\"Close\"]\n",
    "data.head()"
   ]
  },
  {
   "cell_type": "code",
   "execution_count": null,
   "metadata": {},
   "outputs": [],
   "source": [
    "#5\n",
    "print('mean:', np.mean(data.Return[1:]))\n",
    "print('std:', np.std(data.Return[1:]))\n",
    "print('min:', np.min(data.Return[1:]))\n",
    "print('max:', np.max(data.Return[1:]))\n"
   ]
  },
  {
   "cell_type": "code",
   "execution_count": null,
   "metadata": {},
   "outputs": [],
   "source": [
    "#5\n",
    "data.Return.describe()"
   ]
  },
  {
   "cell_type": "code",
   "execution_count": null,
   "metadata": {},
   "outputs": [],
   "source": [
    "# 匯入套件\n",
    "import numpy as np\n",
    "import pandas as pd\n",
    "\n",
    "#1\n",
    "data = pd.read_csv(\"^GSPC.csv\")\n",
    "\n",
    "#2\n",
    "# 列出前五項\n",
    "data.head()\n",
    "\n",
    "#2\n",
    "# 列出後五項\n",
    "data.tail()\n",
    "\n",
    "#3\n",
    "data.Close.describe()\n",
    "\n",
    "#3\n",
    "print('mean:', data.Close.mean())\n",
    "print('std:', data.Close.std())\n",
    "print('min:', data.Close.min())\n",
    "print('max:', data.Close.max())\n",
    "\n",
    "\n",
    "#4 計算報酬率\n",
    "data[\"Return\"] = data[\"Close\"].diff(1)/data[\"Close\"]\n",
    "data.head()\n",
    "\n",
    "#5\n",
    "print('mean:', np.mean(data.Return[1:]))\n",
    "print('std:', np.std(data.Return[1:]))\n",
    "print('min:', np.min(data.Return[1:]))\n",
    "print('max:', np.max(data.Return[1:]))\n",
    "\n",
    "\n",
    "#5\n",
    "data.Return.describe()"
   ]
  },
  {
   "cell_type": "markdown",
   "metadata": {},
   "source": [
    "### Exercise: Data Visualization\n",
    "1. Based on returns data, please plot the line and histogram figures.\n",
    "2. Generate a random sample of size `250` from a standard normal distribution, and plot the line and histogram figures.\n",
    "3. Plot the histogram figure.\n",
    "4. Following the returns in (1.) to be x, and normal random number to be y, then plot the scatter figure."
   ]
  },
  {
   "cell_type": "code",
   "execution_count": null,
   "metadata": {},
   "outputs": [],
   "source": [
    "# import package\n",
    "import matplotlib.pyplot as plt"
   ]
  },
  {
   "cell_type": "code",
   "execution_count": null,
   "metadata": {},
   "outputs": [],
   "source": [
    "plt.plot(data['Return'])"
   ]
  },
  {
   "cell_type": "code",
   "execution_count": null,
   "metadata": {},
   "outputs": [],
   "source": [
    "data['Return'].hist(bins=50)"
   ]
  },
  {
   "cell_type": "code",
   "execution_count": null,
   "metadata": {},
   "outputs": [],
   "source": [
    "#1\n",
    "fig = plt.figure()\n",
    "ax1 = fig.add_subplot(2,1,1)\n",
    "ax2 = fig.add_subplot(2,1,2)\n",
    "ax1.plot(data['Return'])\n",
    "ax2.hist(data['Return'][1:], bins=20)\n",
    "plt.show()"
   ]
  },
  {
   "cell_type": "code",
   "execution_count": null,
   "metadata": {},
   "outputs": [],
   "source": [
    "#2\n",
    "fig1 = plt.figure()\n",
    "ax1 = fig1.add_subplot(2,1,1)\n",
    "ax2 = fig1.add_subplot(2,1,2)\n",
    "ax1.plot(np.random.randn(250))\n",
    "ax2.hist(np.random.randn(250), bins=20)\n",
    "plt.show(fig1)"
   ]
  },
  {
   "cell_type": "code",
   "execution_count": null,
   "metadata": {},
   "outputs": [],
   "source": [
    "len(data)"
   ]
  },
  {
   "cell_type": "code",
   "execution_count": null,
   "metadata": {},
   "outputs": [],
   "source": [
    "#3\n",
    "fig = plt.figure(); ax = fig.add_subplot(1, 1, 1)\n",
    "ax.hist(np.random.randn(715), bins=20)\n",
    "ax.hist(data.Return[1:]*100, bins=20)\n",
    "plt.show()"
   ]
  },
  {
   "cell_type": "code",
   "execution_count": null,
   "metadata": {},
   "outputs": [],
   "source": [
    "#4\n",
    "plt.scatter(data.Return[1:], np.random.randn(715))"
   ]
  },
  {
   "cell_type": "markdown",
   "metadata": {},
   "source": [
    "### * 股價進階分析 (35%)\n",
    "1. (10%) 延續第二大題，計算全部樣本的報酬率的平方總和。此為全樣本期間的報酬波動率。\n",
    "2. (10%) 計算2018年期間的報酬率的平方總和。\n",
    "3. (5%) 根據資料的日期，判斷此樣本資料共有哪些年份。\n",
    "4. (10%) 根據上述結果，計算每個年份的報酬平方總和，並分別記錄下來。\n"
   ]
  },
  {
   "cell_type": "code",
   "execution_count": null,
   "metadata": {},
   "outputs": [],
   "source": [
    "import numpy as np\n",
    "import pandas as pd"
   ]
  },
  {
   "cell_type": "code",
   "execution_count": null,
   "metadata": {},
   "outputs": [],
   "source": [
    "len(data)"
   ]
  },
  {
   "cell_type": "code",
   "execution_count": null,
   "metadata": {},
   "outputs": [],
   "source": [
    "newdata = pd.DataFrame(data, columns = ['Date','Close','Return'])"
   ]
  },
  {
   "cell_type": "code",
   "execution_count": null,
   "metadata": {
    "scrolled": true
   },
   "outputs": [],
   "source": [
    "# 刪除newdata資料\n",
    "del newdata"
   ]
  },
  {
   "cell_type": "code",
   "execution_count": null,
   "metadata": {},
   "outputs": [],
   "source": [
    "data.head()"
   ]
  },
  {
   "cell_type": "code",
   "execution_count": null,
   "metadata": {},
   "outputs": [],
   "source": [
    "#1 計算全樣本的報酬率平方總和\n",
    "R2 = np.sum(data.Return**2)\n",
    "print('All:', R2)"
   ]
  },
  {
   "cell_type": "code",
   "execution_count": null,
   "metadata": {},
   "outputs": [],
   "source": [
    "#2 測試如何取出年資料\n",
    "data['Year'] = 0\n",
    "data['Year'][0] = data['Date'][0].split('-')[0]\n",
    "data.head()"
   ]
  },
  {
   "cell_type": "code",
   "execution_count": null,
   "metadata": {},
   "outputs": [],
   "source": [
    "#2.1 生成年資料\n",
    "T = len(data)\n",
    "for i in range(T):\n",
    "    data['Year'][i] = data['Date'][i].split('-')[0]\n",
    "    print(i)"
   ]
  },
  {
   "cell_type": "code",
   "execution_count": null,
   "metadata": {},
   "outputs": [],
   "source": [
    "#2.2 計算2018年的報酬率平方總和\n",
    "R2_2018 = np.sum(data[data.Year == 2018].Return**2)\n",
    "print('2018:', R2_2018)"
   ]
  },
  {
   "cell_type": "code",
   "execution_count": null,
   "metadata": {},
   "outputs": [],
   "source": [
    "#3 找出資料中所有年分\n",
    "alldate = np.unique(data.Year)"
   ]
  },
  {
   "cell_type": "code",
   "execution_count": null,
   "metadata": {},
   "outputs": [],
   "source": [
    " \n",
    "test = data[data.Year == 2016]\n",
    "test.head()"
   ]
  },
  {
   "cell_type": "code",
   "execution_count": null,
   "metadata": {},
   "outputs": [],
   "source": [
    "#4\n",
    "test = data[data.Year == 2016]\n",
    "print(len(test))\n",
    "print('2016:',np.sum(test.Return**2))\n",
    "plt.plot(test.Return)\n",
    "test = data[data.Year == 2017]\n",
    "print(len(test))\n",
    "print('2017:',np.sum(test.Return**2))\n",
    "plt.plot(test.Return)\n",
    "test = data[data.Year == 2018]\n",
    "print(len(test))\n",
    "print('2018:',np.sum(test.Return**2))\n",
    "plt.plot(test.Return)"
   ]
  },
  {
   "cell_type": "code",
   "execution_count": null,
   "metadata": {},
   "outputs": [],
   "source": [
    "#4 迴圈的寫法\n",
    "for i in range(3):\n",
    "    test = data[data.Year == alldate[i]]\n",
    "    _ = np.sum(test.Return**2)\n",
    "    print('R2', alldate[i], _)"
   ]
  },
  {
   "cell_type": "code",
   "execution_count": null,
   "metadata": {},
   "outputs": [],
   "source": []
  }
 ],
 "metadata": {
  "kernelspec": {
   "display_name": "Python 3",
   "language": "python",
   "name": "python3"
  },
  "language_info": {
   "codemirror_mode": {
    "name": "ipython",
    "version": 3
   },
   "file_extension": ".py",
   "mimetype": "text/x-python",
   "name": "python",
   "nbconvert_exporter": "python",
   "pygments_lexer": "ipython3",
   "version": "3.7.0"
  }
 },
 "nbformat": 4,
 "nbformat_minor": 2
}
