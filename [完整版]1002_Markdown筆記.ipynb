{
 "cells": [
  {
   "cell_type": "markdown",
   "metadata": {},
   "source": [
    "# Markdown簡介\n",
    "- 如何切換code與markdown模式：`y`, `m`\n",
    "- 建立標題\n",
    "- 建立編號：有序、無序\n",
    "- 字體：粗細、斜體\n",
    "- 數學模式\n",
    "- 字體用顏色標記"
   ]
  },
  {
   "cell_type": "markdown",
   "metadata": {},
   "source": [
    "# 大標題\n",
    "## 中標題\n",
    "### 小標題\n",
    "#### 小小標題。依此類推...\n",
    "內文在這裡"
   ]
  },
  {
   "cell_type": "markdown",
   "metadata": {},
   "source": [
    "# 標題可接上無順序項目\n",
    "- 要點說明\n",
    "- 要點說明\n",
    "- 要點說明\n",
    "* 也可用星號代替\n",
    "* 也可用星號代替\n",
    "* 也可用星號代替\n",
    "\n",
    "\n",
    "# 標題或者接上順序項目\n",
    "1. 要點1\n",
    "2. 要點2\n",
    "3. 要點3"
   ]
  },
  {
   "cell_type": "markdown",
   "metadata": {},
   "source": [
    "## 換行\n",
    "講到這裡，可能會發現標題會自動幫你換行，如果在一般文字編輯模式，應該如何換行？ <br>\n",
    "其實只要加上`<br>`即可"
   ]
  },
  {
   "cell_type": "markdown",
   "metadata": {},
   "source": [
    "## 字體\n",
    "*斜體字體* <br>\n",
    "**粗體字體** <br>\n",
    "***斜體加粗體字體***"
   ]
  },
  {
   "cell_type": "markdown",
   "metadata": {},
   "source": [
    "## 一般模式與數學模式的差異"
   ]
  },
  {
   "cell_type": "markdown",
   "metadata": {},
   "source": [
    "* 一般模式：3+9 \n",
    "* 數學模式：$3+9$\n",
    "* 獨立一行數學模式\n",
    "$$\n",
    "3+9\n",
    "$$\n",
    "$$\n",
    "\\int^T_0 f(x)dx\n",
    "$$\n"
   ]
  },
  {
   "cell_type": "markdown",
   "metadata": {},
   "source": [
    "## 列表讓重點清楚呈現\n",
    "\n",
    "* Python\n",
    "* Jupyter Notebook\n",
    "* Numpy\n",
    "* Pandas\n",
    "* Matplotlib"
   ]
  },
  {
   "cell_type": "markdown",
   "metadata": {},
   "source": [
    "## 網頁超連結\n",
    "\n",
    "* [東吳經濟](http://www.scu.edu.tw/econ)\n",
    "* [顏廣杰的個人網頁](https://sites.google.com/site/quetiony)"
   ]
  },
  {
   "cell_type": "markdown",
   "metadata": {},
   "source": [
    "## 插入圖片\n",
    "\n",
    "![東吳大學校徽](scubadge.gif)"
   ]
  },
  {
   "cell_type": "markdown",
   "metadata": {},
   "source": [
    "## 更進階的數學式子\n",
    "\n",
    "我們有一個函數 $f(x)=x^3 - 2x^2 + 5$, 我想給它積分:\n",
    "\n",
    "$$\\int_0^1 f(x) \\, dx$$"
   ]
  },
  {
   "cell_type": "markdown",
   "metadata": {},
   "source": [
    "## 更詳盡的markdown編寫手冊\n",
    "- 完整說明可參考[此網頁](https://markdown.tw/) \n",
    "- 偏重數學方程式編輯可參考[此網頁](https://www.zybuluo.com/codeep/note/163962)\n",
    "- 重點在於能幫助你紀錄，而不在技巧花樣。\n",
    "\n",
    "## 匯出檔案\n",
    "- `File` --> `Download as` --> `HTML`"
   ]
  },
  {
   "cell_type": "markdown",
   "metadata": {},
   "source": [
    "# 練習題\n",
    "1. 試將上述積分的計算過程用markdown呈現出來。\n",
    "2. 把你最喜愛的照片(包含你自己的照片)利用markdown模式呈現出來。\n",
    "3. 請用markdown模式將你的簡歷(CV)呈現出來。"
   ]
  },
  {
   "cell_type": "markdown",
   "metadata": {},
   "source": [
    "第一題解答：\n",
    "$$\n",
    "\\begin{align}\n",
    " & \\int^1_0 (x^3-2x^2+5) dx \\\\\n",
    "= & \\quad \\left. (\\frac{x^4}{4} - \\frac{2x^3}{3} + 5x) \\right|^1_0 \\\\\n",
    "= & \\quad\\frac{1}{4} - \\frac{2}{3} + 5 \\\\\n",
    "= & \\quad\\frac{55}{12}\n",
    "\\end{align}\n",
    "$$"
   ]
  }
 ],
 "metadata": {
  "kernelspec": {
   "display_name": "Python 3",
   "language": "python",
   "name": "python3"
  },
  "language_info": {
   "codemirror_mode": {
    "name": "ipython",
    "version": 3
   },
   "file_extension": ".py",
   "mimetype": "text/x-python",
   "name": "python",
   "nbconvert_exporter": "python",
   "pygments_lexer": "ipython3",
   "version": "3.6.5"
  }
 },
 "nbformat": 4,
 "nbformat_minor": 2
}
