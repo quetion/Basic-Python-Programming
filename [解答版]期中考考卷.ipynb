{
 "cells": [
  {
   "cell_type": "markdown",
   "metadata": {},
   "source": [
    "# 東吳大學商學院經濟學系\n",
    "# Python基礎程式與經濟應用 / 期中考試\n",
    "## 考試期間：2018/11/06 13:10 - 15:00\n",
    "## 請在四大題中任選三大題作答，滿分為105分"
   ]
  },
  {
   "cell_type": "markdown",
   "metadata": {},
   "source": [
    "### 猜數字遊戲 (35%)\n",
    "1. (5%) 先讓電腦A隨機出一個數字(1~10)作為答案，再讓電腦B隨機去猜這個數字，只猜一次，猜中列出`\"答對了\"`，猜錯列出`\"答錯了\"`\n",
    "2. (10%) 上述實驗做1000次，紀錄一共猜對了幾次。\n",
    "3. (10%) 先讓電腦A隨機出一個數字(1~10)作為答案，再讓電腦B隨機去猜這個數字，猜到對為止，記錄猜的次數。\n",
    "4. (10%) 上述實驗做1000次，紀錄平均猜對所需的次數。"
   ]
  },
  {
   "cell_type": "code",
   "execution_count": null,
   "metadata": {},
   "outputs": [],
   "source": [
    "import numpy as np\n",
    "import pandas as pd"
   ]
  },
  {
   "cell_type": "code",
   "execution_count": null,
   "metadata": {},
   "outputs": [],
   "source": [
    "#1 \n",
    "a = np.random.randint(1,11)\n",
    "guest = np.random.randint(1,11)\n",
    "if a == guest:\n",
    "    print(\"答對了\")\n",
    "else:\n",
    "    print(\"答錯了\")"
   ]
  },
  {
   "cell_type": "code",
   "execution_count": null,
   "metadata": {},
   "outputs": [],
   "source": [
    "#2 \n",
    "k=0\n",
    "for i in range(1000):\n",
    "    a = np.random.randint(1,11)\n",
    "    guest = np.random.randint(1,11)\n",
    "    if a == guest:\n",
    "        k = k + 1\n",
    "print('一共猜對了',k,'次')"
   ]
  },
  {
   "cell_type": "code",
   "execution_count": null,
   "metadata": {},
   "outputs": [],
   "source": [
    "#3\n",
    "a = np.random.randint(1,11)\n",
    "guest = np.random.randint(1,11)+1\n",
    "k = 0\n",
    "while a != guest:\n",
    "    k = k + 1\n",
    "    guest = np.random.randint(1,11)\n",
    "print('總共猜了',k,'次')"
   ]
  },
  {
   "cell_type": "code",
   "execution_count": null,
   "metadata": {},
   "outputs": [],
   "source": [
    "#4 \n",
    "kk = 0\n",
    "for i in range(1000):\n",
    "    k = 0\n",
    "    a = 1\n",
    "    guest = 2\n",
    "    while a != guest:\n",
    "        k = k + 1\n",
    "        a = np.random.randint(1,11)\n",
    "        guest = np.random.randint(1,11)\n",
    "    kk = kk + k \n",
    "print('總共猜了',kk/1000,'次')"
   ]
  },
  {
   "cell_type": "markdown",
   "metadata": {},
   "source": [
    "### 資料匯入與初步分析 (35%)\n",
    "1. (10%) 請匯入給定資料(`^GSPC.csv`)，匯入資料命名為`data`\n",
    "2. (5%) 展示出前5項與後5項的收盤價(Close)\n",
    "3. (5%) 分別計算出全樣本的收盤價的平均數、標準差、最大值、最小值。\n",
    "4. (10%) 計算報酬率 (當天收盤價減去前一天收盤價，再除以前一天收盤價)，並記錄此報酬率在`data`中\n",
    "5. (5%) 分別計算出全樣本的報酬率的平均數、標準差、最大值、最小值。 "
   ]
  },
  {
   "cell_type": "code",
   "execution_count": null,
   "metadata": {},
   "outputs": [],
   "source": [
    "# 匯入套件\n",
    "import numpy as np\n",
    "import pandas as pd"
   ]
  },
  {
   "cell_type": "code",
   "execution_count": null,
   "metadata": {},
   "outputs": [],
   "source": [
    "#1\n",
    "data = pd.read_csv(\"^GSPC.csv\")"
   ]
  },
  {
   "cell_type": "code",
   "execution_count": null,
   "metadata": {},
   "outputs": [],
   "source": [
    "#2\n",
    "# 列出前五項\n",
    "data.head()"
   ]
  },
  {
   "cell_type": "code",
   "execution_count": null,
   "metadata": {},
   "outputs": [],
   "source": [
    "#2\n",
    "# 列出後五項\n",
    "data.tail()"
   ]
  },
  {
   "cell_type": "code",
   "execution_count": null,
   "metadata": {},
   "outputs": [],
   "source": [
    "#3\n",
    "data.Close.describe()"
   ]
  },
  {
   "cell_type": "code",
   "execution_count": null,
   "metadata": {},
   "outputs": [],
   "source": [
    "#3\n",
    "print('mean:', data.Close.mean())\n",
    "print('std:', data.Close.std())\n",
    "print('min:', data.Close.min())\n",
    "print('max:', data.Close.max())\n"
   ]
  },
  {
   "cell_type": "code",
   "execution_count": null,
   "metadata": {},
   "outputs": [],
   "source": [
    "#4 計算報酬率\n",
    "data[\"Return\"] = data[\"Close\"].diff(1)/data[\"Close\"]\n",
    "data.head()"
   ]
  },
  {
   "cell_type": "code",
   "execution_count": null,
   "metadata": {},
   "outputs": [],
   "source": [
    "#5\n",
    "print('mean:', np.mean(data.Return[1:]))\n",
    "print('std:', np.std(data.Return[1:]))\n",
    "print('min:', np.min(data.Return[1:]))\n",
    "print('max:', np.max(data.Return[1:]))\n"
   ]
  },
  {
   "cell_type": "code",
   "execution_count": null,
   "metadata": {},
   "outputs": [],
   "source": [
    "#5\n",
    "data.Return.describe()"
   ]
  },
  {
   "cell_type": "markdown",
   "metadata": {},
   "source": [
    "### 資料視覺化 (35%)\n",
    "1. (10%) 根據報酬率資料，以`2* 1`的排列方式，依序畫出報酬率的趨勢圖與直方圖。\n",
    "2. (10%) 隨機生成一組來自標準常態分佈的隨機數共250筆，依序畫出此隨機數的趨勢圖與直方圖\n",
    "3. (10%) 將上述兩種資料的直方圖畫在同一張圖上。\n",
    "4. (5%) 將上述(1.)的報酬率當作x，隨機數當作y，做出散佈圖。"
   ]
  },
  {
   "cell_type": "code",
   "execution_count": null,
   "metadata": {},
   "outputs": [],
   "source": [
    "# 匯入套件\n",
    "import matplotlib.pyplot as plt"
   ]
  },
  {
   "cell_type": "code",
   "execution_count": null,
   "metadata": {},
   "outputs": [],
   "source": [
    "plt.plot(data['Return'])"
   ]
  },
  {
   "cell_type": "code",
   "execution_count": null,
   "metadata": {},
   "outputs": [],
   "source": [
    "data['Return'].hist(bins=50)"
   ]
  },
  {
   "cell_type": "code",
   "execution_count": null,
   "metadata": {},
   "outputs": [],
   "source": [
    "#1\n",
    "fig = plt.figure()\n",
    "ax1 = fig.add_subplot(2,1,1)\n",
    "ax2 = fig.add_subplot(2,1,2)\n",
    "ax1.plot(data['Return'])\n",
    "ax2.hist(data['Return'][1:], bins=20)\n",
    "plt.show()"
   ]
  },
  {
   "cell_type": "code",
   "execution_count": null,
   "metadata": {},
   "outputs": [],
   "source": [
    "#2\n",
    "fig1 = plt.figure()\n",
    "ax1 = fig1.add_subplot(2,1,1)\n",
    "ax2 = fig1.add_subplot(2,1,2)\n",
    "ax1.plot(np.random.randn(250))\n",
    "ax2.hist(np.random.randn(250), bins=20)\n",
    "plt.show(fig1)"
   ]
  },
  {
   "cell_type": "code",
   "execution_count": null,
   "metadata": {},
   "outputs": [],
   "source": [
    "len(data)"
   ]
  },
  {
   "cell_type": "code",
   "execution_count": null,
   "metadata": {},
   "outputs": [],
   "source": [
    "#3\n",
    "fig = plt.figure(); ax = fig.add_subplot(1, 1, 1)\n",
    "ax.hist(np.random.randn(715), bins=20)\n",
    "ax.hist(data.Return[1:]*100, bins=20)\n",
    "plt.show()"
   ]
  },
  {
   "cell_type": "code",
   "execution_count": null,
   "metadata": {},
   "outputs": [],
   "source": [
    "#4\n",
    "plt.scatter(data.Return[1:], np.random.randn(715))"
   ]
  },
  {
   "cell_type": "markdown",
   "metadata": {},
   "source": [
    "### * 股價進階分析 (35%)\n",
    "1. (10%) 延續第二大題，計算全部樣本的報酬率的平方總和。此為全樣本期間的報酬波動率。\n",
    "2. (10%) 計算2018年期間的報酬率的平方總和。\n",
    "3. (5%) 根據資料的日期，判斷此樣本資料共有哪些年份。\n",
    "4. (10%) 根據上述結果，計算每個年份的報酬平方總和，並分別記錄下來。\n"
   ]
  },
  {
   "cell_type": "code",
   "execution_count": null,
   "metadata": {},
   "outputs": [],
   "source": [
    "import numpy as np\n",
    "import pandas as pd"
   ]
  },
  {
   "cell_type": "code",
   "execution_count": null,
   "metadata": {},
   "outputs": [],
   "source": [
    "len(data)"
   ]
  },
  {
   "cell_type": "code",
   "execution_count": null,
   "metadata": {},
   "outputs": [],
   "source": [
    "newdata = pd.DataFrame(data, columns = ['Date','Close','Return'])"
   ]
  },
  {
   "cell_type": "code",
   "execution_count": null,
   "metadata": {
    "scrolled": true
   },
   "outputs": [],
   "source": [
    "# 刪除newdata資料\n",
    "del newdata"
   ]
  },
  {
   "cell_type": "code",
   "execution_count": null,
   "metadata": {},
   "outputs": [],
   "source": [
    "data.head()"
   ]
  },
  {
   "cell_type": "code",
   "execution_count": null,
   "metadata": {},
   "outputs": [],
   "source": [
    "#1 計算全樣本的報酬率平方總和\n",
    "R2 = np.sum(data.Return**2)\n",
    "print('All:', R2)"
   ]
  },
  {
   "cell_type": "code",
   "execution_count": null,
   "metadata": {},
   "outputs": [],
   "source": [
    "#2 測試如何取出年資料\n",
    "data['Year'] = 0\n",
    "data['Year'][0] = data['Date'][0].split('-')[0]\n",
    "data.head()"
   ]
  },
  {
   "cell_type": "code",
   "execution_count": null,
   "metadata": {},
   "outputs": [],
   "source": [
    "#2.1 生成年資料\n",
    "T = len(data)\n",
    "for i in range(T):\n",
    "    data['Year'][i] = data['Date'][i].split('-')[0]\n",
    "    print(i)"
   ]
  },
  {
   "cell_type": "code",
   "execution_count": null,
   "metadata": {},
   "outputs": [],
   "source": [
    "#2.2 計算2018年的報酬率平方總和\n",
    "R2_2018 = np.sum(data[data.Year == 2018].Return**2)\n",
    "print('2018:', R2_2018)"
   ]
  },
  {
   "cell_type": "code",
   "execution_count": null,
   "metadata": {},
   "outputs": [],
   "source": [
    "#3 找出資料中所有年分\n",
    "alldate = np.unique(data.Year)"
   ]
  },
  {
   "cell_type": "code",
   "execution_count": null,
   "metadata": {},
   "outputs": [],
   "source": [
    " \n",
    "test = data[data.Year == 2016]\n",
    "test.head()"
   ]
  },
  {
   "cell_type": "code",
   "execution_count": null,
   "metadata": {},
   "outputs": [],
   "source": [
    "#4\n",
    "test = data[data.Year == 2016]\n",
    "print(len(test))\n",
    "print('2016:',np.sum(test.Return**2))\n",
    "plt.plot(test.Return)\n",
    "test = data[data.Year == 2017]\n",
    "print(len(test))\n",
    "print('2017:',np.sum(test.Return**2))\n",
    "plt.plot(test.Return)\n",
    "test = data[data.Year == 2018]\n",
    "print(len(test))\n",
    "print('2018:',np.sum(test.Return**2))\n",
    "plt.plot(test.Return)"
   ]
  },
  {
   "cell_type": "code",
   "execution_count": null,
   "metadata": {},
   "outputs": [],
   "source": [
    "#4 迴圈的寫法\n",
    "for i in range(3):\n",
    "    test = data[data.Year == alldate[i]]\n",
    "    _ = np.sum(test.Return**2)\n",
    "    print('R2', alldate[i], _)"
   ]
  },
  {
   "cell_type": "code",
   "execution_count": null,
   "metadata": {},
   "outputs": [],
   "source": []
  }
 ],
 "metadata": {
  "kernelspec": {
   "display_name": "Python 3",
   "language": "python",
   "name": "python3"
  },
  "language_info": {
   "codemirror_mode": {
    "name": "ipython",
    "version": 3
   },
   "file_extension": ".py",
   "mimetype": "text/x-python",
   "name": "python",
   "nbconvert_exporter": "python",
   "pygments_lexer": "ipython3",
   "version": "3.6.6"
  }
 },
 "nbformat": 4,
 "nbformat_minor": 2
}
